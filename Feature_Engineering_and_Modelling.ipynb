{
 "cells": [
  {
   "cell_type": "markdown",
   "metadata": {},
   "source": [
    "<h1> Feature engineering <br>\n",
    "Modelling <br>\n",
    "and Evaluation</h2>\n",
    "<br>\n",
    "<br>\n",
    "<b> This is work in progress! </b> <p> Next up is making the pipeline more automated. Scaling the targets. And finetune  the  LSTM, which architeture should it have. How many lags, how many LSTM units, how many  layers, how many perceptrons, which activation functions, and which special layers to add to the architecture. \n",
    "<br>\n",
    "<br>\n",
    "Radical change: use NIBOR in stead of interest rate, because it is update daily and can give better results.\n",
    "<h4> Readying the forecast dataset </h4>\n",
    "Use Ohrnstein Uhlenbeck process to find Food_index price. Use SSB/NB to find forecasts for policy rate. Find some forecasts or eventually use OU-process to find the FX."
   ]
  },
  {
   "cell_type": "markdown",
   "metadata": {},
   "source": [
    "<!-- <ol>\n",
    "<li>Deterministic process</li>\n",
    "<li>Lagged variables</li>\n",
    "<li> Fourier</li>\n",
    "<li>Seasonal indicators (very important)</li>\n",
    "<li></li>\n",
    "<li></li>\n",
    "<li></li>\n",
    "</ol> -->"
   ]
  },
  {
   "cell_type": "markdown",
   "metadata": {},
   "source": [
    "<h1> 1. Getting started </h1>\n",
    "<h2> 1.1 Importing libraries </h2>"
   ]
  },
  {
   "cell_type": "code",
   "execution_count": 1,
   "metadata": {},
   "outputs": [],
   "source": [
    "import numpy as np\n",
    "import pandas as pd\n",
    "import matplotlib.pyplot as plt\n",
    "import seaborn as sns\n",
    "\n",
    "from sklearn.model_selection import train_test_split\n",
    "from sklearn.preprocessing import StandardScaler\n",
    "from sklearn.pipeline import Pipeline\n",
    "from sklearn.preprocessing import FunctionTransformer\n",
    "from sklearn.compose import ColumnTransformer\n",
    "\n",
    "import random\n",
    "from keras import regularizers\n",
    "import keras_tuner \n",
    "import keras\n",
    "\n",
    "import tensorflow as tf\n",
    "from tensorflow import keras\n",
    "from keras import Sequential, layers, Input, callbacks\n",
    "from keras.layers import Dense\n",
    "from keras.layers import LSTM\n",
    "from keras.layers import Activation\n",
    "from keras.optimizers import RMSprop, Adam\n",
    "\n",
    "\n",
    "from statsmodels.tsa.deterministic import DeterministicProcess\n",
    "from statsmodels.tsa.deterministic import  CalendarFourier\n",
    "\n",
    "from sklearn.metrics import mean_absolute_percentage_error as MAPE\n",
    "from keras.callbacks import EarlyStopping\n"
   ]
  },
  {
   "cell_type": "markdown",
   "metadata": {},
   "source": [
    "<h2> 1.2 Downloading data </h2>"
   ]
  },
  {
   "cell_type": "code",
   "execution_count": 2,
   "metadata": {},
   "outputs": [],
   "source": [
    "df = pd.read_csv('Preprocessed_data.csv')\n",
    "df.index = pd.to_datetime(df['Date'], format='%Y-%m-%d')\n",
    "df.drop(['Date'], axis=1, inplace=True)"
   ]
  },
  {
   "cell_type": "markdown",
   "metadata": {},
   "source": [
    "<h2> 1.3 Splitting data in 3*2 </h2>\n",
    "<p> SPlitting data into train, test and validation with the following split: 70 | 15 |15."
   ]
  },
  {
   "cell_type": "code",
   "execution_count": 3,
   "metadata": {},
   "outputs": [],
   "source": [
    "y = df['Salmon_exp_vol']\n",
    "X = df.loc[:,'FX_EURONOK':]\n",
    "\n",
    "X_train, X_eval, y_train, y_eval = train_test_split(X,y, \n",
    "                                                    test_size=0.2,\n",
    "                                                    shuffle=False)\n",
    "X_val, X_test, y_val, y_test = train_test_split(X_eval, y_eval, \n",
    "                                                test_size=0.5,\n",
    "                                                shuffle=False)"
   ]
  },
  {
   "cell_type": "markdown",
   "metadata": {},
   "source": [
    "<h1> 2. Feature engineering </h1>"
   ]
  },
  {
   "cell_type": "markdown",
   "metadata": {},
   "source": [
    "<h2> 2.1 Manual imputing </h2>\n",
    "<p>  Manually fixing NaN, and wrongful observations from the dataset in the training data. </p>"
   ]
  },
  {
   "cell_type": "code",
   "execution_count": 4,
   "metadata": {},
   "outputs": [],
   "source": [
    "X_train['FX_EURONOK']['2002-10-14'] = 7.34\n",
    "X_train['FX_EURONOK']['2008-08-04'] = 7.9995\n",
    "X_train['FX_EURONOK']['2008-08-08'] = 7.9915\n",
    "X_train['FX_EURONOK']['2008-08-11'] = 7.9975\n",
    "X_train['FX_EURONOK']['2008-08-18'] = 7.9740"
   ]
  },
  {
   "cell_type": "markdown",
   "metadata": {},
   "source": [
    "<h2> 2.2 Time dummy and Fourier  </h2>\n",
    "<p> Creating a time dummy variable. Adding one new colum, where the value goes from 0 to the amount of observations. </p>"
   ]
  },
  {
   "cell_type": "code",
   "execution_count": 5,
   "metadata": {},
   "outputs": [],
   "source": [
    "def det_process(X, startValue=None):\n",
    "    # fourier0  =  CalendarFourier(freq='A',  order=3)\n",
    "    # fourier1  =  CalendarFourier(freq='6M',  order=3)\n",
    "    # fourier2  =  CalendarFourier(freq='Q',  order=3)\n",
    "\n",
    "    dp = DeterministicProcess(\n",
    "        index=X.index,\n",
    "        constant=True,\n",
    "        order=1,\n",
    "        seasonal=True,\n",
    "        # additional_terms=[fourier0,fourier1,fourier2],\n",
    "        drop=True\n",
    "    ) \n",
    "    dp = dp.in_sample()\n",
    "    dp['trend'] += startValue\n",
    "    new_X = pd.concat([X,dp], axis=1)\n",
    "    return new_X\n",
    "time_func = FunctionTransformer(func=det_process, \n",
    "                                kw_args={'startValue':None})\n"
   ]
  },
  {
   "cell_type": "markdown",
   "metadata": {},
   "source": [
    "<h2> 2.3  Column specific engineering </h2>\n",
    "<h3> 2.3.1 Log transformation </h3>\n",
    "<p> Function for log transformation. The FOREX column shows specific characeristics from the lognormal distribution. "
   ]
  },
  {
   "cell_type": "code",
   "execution_count": 6,
   "metadata": {},
   "outputs": [],
   "source": [
    "def log_transformation(X):\n",
    "    X = np.log1p(X)\n",
    "    X = pd.DataFrame(X)\n",
    "    return X\n",
    "log_func = FunctionTransformer(func=log_transformation)"
   ]
  },
  {
   "cell_type": "markdown",
   "metadata": {},
   "source": [
    "<h2> 2.4  Z-scoring </h2>\n",
    "<p> Create functions for scaling the variables in a standardized way. </p>"
   ]
  },
  {
   "cell_type": "code",
   "execution_count": 7,
   "metadata": {},
   "outputs": [],
   "source": [
    "zScore_func = StandardScaler()\n",
    "zScoreTarget_func = StandardScaler()"
   ]
  },
  {
   "cell_type": "markdown",
   "metadata": {},
   "source": [
    "<h2> 2.6 Seasonal indicators </h2>\n",
    "<p> Creating dummy variables for each week in a year. So creating 52 new columns, on for each week. The values are 1 if the observations falls within that week, and zero if not. </p>"
   ]
  },
  {
   "cell_type": "code",
   "execution_count": 8,
   "metadata": {},
   "outputs": [],
   "source": [
    "def seasonal_indicators(X):\n",
    "    # weeks = [1,2,3,4,5,6,42,43,44,45,46,47,48,49,50,51,52]\n",
    "    weeks = np.linspace(1,52,52)\n",
    "    indicator_df = pd.DataFrame()\n",
    "    for ind_week in range(len(weeks)):\n",
    "        column = np.where(X.index.isocalendar().week==weeks[ind_week],1,0)\n",
    "        indicator_df['IndWeek'+str(weeks[ind_week])] = column\n",
    "    indicator_df.index = X.index\n",
    "    new_X = pd.concat([X, indicator_df],axis=1)\n",
    "    return new_X\n",
    "indicator_func = FunctionTransformer(func=seasonal_indicators)\n",
    "\n"
   ]
  },
  {
   "cell_type": "markdown",
   "metadata": {},
   "source": [
    "<h2> 2.5 Reshaping 2d->3d array </h2>\n",
    "Function for reshaping the dataset to include timesteps, and transform the data from being 2d to 3d </p>"
   ]
  },
  {
   "cell_type": "code",
   "execution_count": 9,
   "metadata": {},
   "outputs": [],
   "source": [
    "def reshaper(X, timeSteps=None):\n",
    "    X = pd.DataFrame(X)\n",
    "    new_Xs = [np.array(X[timeSteps:])]\n",
    "\n",
    "    for i in range(1, timeSteps+1,1):\n",
    "        shift_X  = np.array(X.shift(i))\n",
    "        new_Xs.append(shift_X[timeSteps:])\n",
    "    # for i in range(1,timeSteps+1,1):\n",
    "    #     shift_X  = np.array(X.shift(-i))\n",
    "    #     new_Xs.append(shift_X[timeSteps:])\n",
    "\n",
    "    X_reshaped = np.stack(new_Xs, axis=1)\n",
    "    print(X_reshaped.shape)\n",
    "    return X_reshaped\n",
    "\n",
    "reshape_func = FunctionTransformer(func=reshaper, kw_args={'timeSteps':None})"
   ]
  },
  {
   "cell_type": "markdown",
   "metadata": {},
   "source": [
    "<h1> 3. LSTM model </h1>"
   ]
  },
  {
   "cell_type": "code",
   "execution_count": 10,
   "metadata": {},
   "outputs": [],
   "source": [
    "# np.random.seed(7)\n",
    "\n",
    "\n",
    "# units = hp.Int(name='units', min_value=25, max_value= 250, step= 25)\n",
    "# model = keras.Sequential([\n",
    "#     layers.Input(shape=(14,109), name='input_layer'),\n",
    "#     layers.LSTM(75, recurrent_dropout=0.5, return_sequences=True),\n",
    "#     # layers.LSTM(150, recurrent_dropout=0.3, return_sequences=True),\n",
    "#     # layers.LSTM(200, recurrent_dropout=0.3),\n",
    "#     # layers.BatchNormalization(),\n",
    "#     # layers.Dropout(0.5),\n",
    "#     # layers.Dense(128, activation='relu'),\n",
    "#     # layers.BatchNormalization(),\n",
    "#     # layers.Dropout(0.3),\n",
    "#     # layers.Dense(256, activation='relu'),\n",
    "#     # layers.BatchNormalization(),\n",
    "#     # layers.Dropout(0.5),\n",
    "#     # layers.Dense(512, activation='gelu'),\n",
    "#     # layers.Dropout(0.3),\n",
    "#     # layers.Dense(256, activation='selu'),\n",
    "#     # layers.Dropout(0.5),\n",
    "#     layers.Dense(109, activation='relu'),\n",
    "#     layers.Dense(1)\n",
    "# ])\n",
    "\n",
    "\n",
    "# optimizer = Adam(learning_rate=0.001)  # You can adjust the learning rate as needed\n",
    "# model.compile(optimizer=optimizer,\n",
    "#             #   loss=keras.losses.MeanSquaredError()\n",
    "#               loss = 'mae'\n",
    "#               )\n",
    "\n",
    "# early_stopping = callbacks.EarlyStopping(\n",
    "#     min_delta=0.001, \n",
    "#     patience=15, \n",
    "#     restore_best_weights=True,\n",
    "# )"
   ]
  },
  {
   "cell_type": "markdown",
   "metadata": {},
   "source": [
    "<h1> 4.  Pipelining </h1>\n",
    "<h2> 4.1 Column specific pipeline </h2>"
   ]
  },
  {
   "cell_type": "code",
   "execution_count": 11,
   "metadata": {},
   "outputs": [],
   "source": [
    "engineering_func = ColumnTransformer(\n",
    "    transformers=[\n",
    "        ('loger', log_func, ['FX_EURONOK']),\n",
    "    ], remainder='passthrough')"
   ]
  },
  {
   "cell_type": "markdown",
   "metadata": {},
   "source": [
    "<h2> 4.2 Total pipeline </h2>"
   ]
  },
  {
   "cell_type": "code",
   "execution_count": 12,
   "metadata": {},
   "outputs": [],
   "source": [
    "X_val_corr = pd.concat([X_train[-13:],X_val])\n",
    "X_test_corr = pd.concat([X_val[-13:],X_test])"
   ]
  },
  {
   "cell_type": "code",
   "execution_count": 85,
   "metadata": {},
   "outputs": [
    {
     "name": "stdout",
     "output_type": "stream",
     "text": [
      "(947, 14, 108)\n",
      "(120, 14, 108)\n",
      "(120, 14, 108)\n"
     ]
    }
   ],
   "source": [
    "pipe = Pipeline(steps=[\n",
    "    ('det', time_func),\n",
    "    ('ind', indicator_func),\n",
    "    ('Col_spec', engineering_func),\n",
    "    ('zScore_func', zScore_func),\n",
    "    ('res', reshape_func)\n",
    "    # ('lstm', model)\n",
    "])\n",
    "\n",
    "\n",
    "pipe.set_params(\n",
    "                det__kw_args={'startValue':0},\n",
    "                # lag__kw_args={'target':y_train},\n",
    "                res__kw_args={'timeSteps':13}\n",
    "                )\n",
    "X_train_preprocessed  = pipe.fit_transform(X_train)\n",
    "\n",
    "pipe.set_params(det__kw_args={'startValue':959-13}, \n",
    "                # lag__kw_args={'target':y_val},\n",
    "                res__kw_args={'timeSteps':13}\n",
    "                )\n",
    "X_val_preprocessed  = pipe.transform(X_val_corr)\n",
    "\n",
    "pipe.set_params(det__kw_args={'startValue':1079-959}, \n",
    "                # lag__kw_args={'target': y_test},\n",
    "                res__kw_args={'timeSteps':13}\n",
    "                )\n",
    "X_test_preprocessed  = pipe.transform(X_test_corr)\n"
   ]
  },
  {
   "cell_type": "code",
   "execution_count": 86,
   "metadata": {},
   "outputs": [],
   "source": [
    "# target_scaler = StandardScaler()\n",
    "# y_train_pre = target_scaler.fit_transform(np.array([y_train[14:]]).T)\n",
    "# y_val_pre = target_scaler.transform(np.array([y_val[14:]]).T)\n",
    "# y_test_pre = target_scaler.transform(np.array([y_test[14:]]).T)\n",
    "\n",
    "y_train_pre = y_train[13:]\n",
    "y_val_pre = y_val[:]\n",
    "y_test_pre =y_test[:]"
   ]
  },
  {
   "cell_type": "markdown",
   "metadata": {},
   "source": [
    "<h1> X. Rest are drafts.. </h1>"
   ]
  },
  {
   "cell_type": "code",
   "execution_count": 20,
   "metadata": {},
   "outputs": [],
   "source": [
    "# def rolling_window_cross_val(model, metric):\n",
    "#     X = np.concatenate((X_train_preprocessed,X_val_preprocessed),axis=0)\n",
    "#     y = np.concatenate((y_train_pre,y_val_pre),axis=0)\n",
    "\n",
    "\n",
    "#     scores = []\n",
    "#     for i in range(0,3,1):\n",
    "#         sel_X = X[int(i*0.316*X.shape[0]):int((i+1)*0.316*X.shape[0])]\n",
    "#         sel_y = y[int(i*0.316*y.shape[0]):int((i+1)*0.316*y.shape[0])]\n",
    "\n",
    "#         sel_X_test = X[int(i*(0.316+0.05)*X.shape[0]):int((i+1)*(0.316+0.05)*X.shape[0])]\n",
    "#         sel_y_test = y[int(i*(0.316+0.05)*y.shape[0]):int((i+1)*(0.316+0.05)*y.shape[0])]\n",
    "    \n",
    "#         model.fit(sel_X,sel_y,\n",
    "#                 epochs=500, batch_size=60,\n",
    "#                 validation_data=[sel_X_test, sel_y_test],\n",
    "#                 callbacks=early_stopping, verbose=False)        \n",
    "#         pred = model.predict(sel_X_test)\n",
    "#         score = metric(pred, sel_y_test)\n",
    "#         scores.append(score)\n",
    "    \n",
    "#     return [np.mean(scores),model]\n",
    "\n",
    "# cv_result = rolling_window_cross_val(model,  MAE)\n"
   ]
  },
  {
   "cell_type": "markdown",
   "metadata": {},
   "source": [
    "<h1> Large tuner"
   ]
  },
  {
   "cell_type": "code",
   "execution_count": 63,
   "metadata": {},
   "outputs": [],
   "source": [
    "tf.random.set_seed(42)\n",
    "random.seed(42)\n",
    "np.random.seed(42)"
   ]
  },
  {
   "cell_type": "code",
   "execution_count": 90,
   "metadata": {},
   "outputs": [],
   "source": [
    "def build_model(hp):\n",
    "    model = keras.Sequential([\n",
    "        layers.Input(shape=(14,108), name='input_layer'),\n",
    "        layers.LSTM(\n",
    "            units = hp.Int(name='hp1', min_value=20, max_value= 150, step=15),\n",
    "            return_sequences=True),\n",
    "        layers.LSTM(\n",
    "            units = hp.Int(name='hp2', min_value=20, max_value= 150, step=15)),\n",
    "\n",
    "        layers.Dense(units = hp.Int(name='hp3', min_value=50, max_value= 950, step=90),\n",
    "                      activation=hp.Choice(\"activation1\", [\"relu\", \"gelu\"])\n",
    "                      ),\n",
    "\n",
    "        layers.BatchNormalization(),\n",
    "\n",
    "        layers.Dropout(hp.Float(name='hp4',min_value=0.1, max_value=0.5, step=0.1)),\n",
    "\n",
    "        layers.Dense(units = hp.Int(name='hp5', min_value=50, max_value= 950, step=9),\n",
    "                      activation=hp.Choice('activation2', [\"relu\", \"selu\"])\n",
    "                      ),\n",
    "\n",
    "        layers.Dropout(hp.Float(name='hp7',min_value=0.0, max_value=0.45, step=0.15)),\n",
    "\n",
    "        layers.Dense(units = hp.Int(name='hp8', min_value=50, max_value= 950, step=90),\n",
    "                      activation=hp.Choice('activation3', [\"selu\",\"gelu\"])\n",
    "                    ),\n",
    "\n",
    "        layers.Dropout(hp.Float(name='hp10',min_value=0.0, max_value=0.45, step=0.15)),\n",
    "\n",
    "        layers.BatchNormalization(),\n",
    "\n",
    "        layers.Dense(units = hp.Int(name='hp11', min_value=50, max_value= 2000, step=90),\n",
    "                      activation=hp.Choice('activation4', [\"silu\", \"selu\"])),\n",
    "\n",
    "        layers.BatchNormalization(),\n",
    "\n",
    "        layers.Dropout(hp.Float(name='hp12',min_value=0.0, max_value=0.45, step=0.15)),\n",
    "\n",
    "        layers.Dense(units = hp.Int(name='hp13', min_value=50, max_value= 950, step=9),\n",
    "                      activation=hp.Choice('activation5', [\"relu\", \"gelu\"])),\n",
    "\n",
    "        layers.Dense(units = hp.Int(name='hp14', min_value=50, max_value= 950, step=90),\n",
    "                       activation=hp.Choice('activation6', [\"relu\"])),\n",
    "\n",
    "        layers.Dense(1)\n",
    "    ])\n",
    "\n",
    "    optimizer = RMSprop(learning_rate=hp.Float(name='lr', min_value=0.0005, max_value=0.02, step=0.001))\n",
    "\n",
    "    model.compile(optimizer=optimizer, \n",
    "                  loss = 'mae')\n",
    "    return model"
   ]
  },
  {
   "cell_type": "code",
   "execution_count": 91,
   "metadata": {},
   "outputs": [
    {
     "name": "stdout",
     "output_type": "stream",
     "text": [
      "Trial 10 Complete [00h 01m 09s]\n",
      "val_loss: 1933.7127685546875\n",
      "\n",
      "Best val_loss So Far: 1680.1400146484375\n",
      "Total elapsed time: 00h 09m 49s\n"
     ]
    }
   ],
   "source": [
    "tuner = keras_tuner.RandomSearch(\n",
    "    hypermodel=build_model,\n",
    "    objective='val_loss',\n",
    "    max_trials=10,\n",
    "    executions_per_trial=1,\n",
    "    overwrite=True,\n",
    "    directory='first',\n",
    "    project_name='hei_first'\n",
    ")\n",
    "\n",
    "tuner_callback=EarlyStopping(monitor='val_loss',\n",
    "                            min_delta=0.001, \n",
    "                            patience=40,\n",
    "                            restore_best_weights=True)\n",
    "\n",
    "tuner.search(X_train_preprocessed, y_train_pre,\n",
    "             epochs=120, batch_size=40,\n",
    "             validation_data=(X_val_preprocessed,y_val_pre),\n",
    "             callbacks=[tuner_callback])"
   ]
  },
  {
   "cell_type": "code",
   "execution_count": 99,
   "metadata": {},
   "outputs": [
    {
     "name": "stdout",
     "output_type": "stream",
     "text": [
      "Results summary\n",
      "Results in first\\hei_first\n",
      "Showing 10 best trials\n",
      "Objective(name=\"val_loss\", direction=\"min\")\n",
      "\n",
      "Trial 08 summary\n",
      "Hyperparameters:\n",
      "hp1: 125\n",
      "hp2: 110\n",
      "hp3: 770\n",
      "activation1: relu\n",
      "hp4: 0.30000000000000004\n",
      "hp5: 518\n",
      "activation2: relu\n",
      "hp7: 0.3\n",
      "hp8: 320\n",
      "activation3: selu\n",
      "hp10: 0.3\n",
      "hp11: 860\n",
      "activation4: selu\n",
      "hp12: 0.15\n",
      "hp13: 941\n",
      "activation5: gelu\n",
      "hp14: 860\n",
      "activation6: relu\n",
      "lr: 0.0125\n",
      "Score: 1680.1400146484375\n",
      "\n",
      "Trial 02 summary\n",
      "Hyperparameters:\n",
      "hp1: 20\n",
      "hp2: 140\n",
      "hp3: 230\n",
      "activation1: gelu\n",
      "hp4: 0.4\n",
      "hp5: 149\n",
      "activation2: selu\n",
      "hp7: 0.0\n",
      "hp8: 50\n",
      "activation3: selu\n",
      "hp10: 0.3\n",
      "hp11: 770\n",
      "activation4: silu\n",
      "hp12: 0.3\n",
      "hp13: 104\n",
      "activation5: gelu\n",
      "hp14: 680\n",
      "activation6: relu\n",
      "lr: 0.0155\n",
      "Score: 1747.7225341796875\n",
      "\n",
      "Trial 00 summary\n",
      "Hyperparameters:\n",
      "hp1: 50\n",
      "hp2: 65\n",
      "hp3: 950\n",
      "activation1: gelu\n",
      "hp4: 0.2\n",
      "hp5: 473\n",
      "activation2: selu\n",
      "hp7: 0.0\n",
      "hp8: 320\n",
      "activation3: gelu\n",
      "hp10: 0.44999999999999996\n",
      "hp11: 1310\n",
      "activation4: selu\n",
      "hp12: 0.44999999999999996\n",
      "hp13: 185\n",
      "activation5: relu\n",
      "hp14: 320\n",
      "activation6: relu\n",
      "lr: 0.0155\n",
      "Score: 1792.95458984375\n",
      "\n",
      "Trial 01 summary\n",
      "Hyperparameters:\n",
      "hp1: 110\n",
      "hp2: 35\n",
      "hp3: 50\n",
      "activation1: gelu\n",
      "hp4: 0.5\n",
      "hp5: 914\n",
      "activation2: relu\n",
      "hp7: 0.3\n",
      "hp8: 230\n",
      "activation3: selu\n",
      "hp10: 0.0\n",
      "hp11: 680\n",
      "activation4: selu\n",
      "hp12: 0.3\n",
      "hp13: 842\n",
      "activation5: relu\n",
      "hp14: 680\n",
      "activation6: relu\n",
      "lr: 0.0115\n",
      "Score: 1832.8885498046875\n",
      "\n",
      "Trial 09 summary\n",
      "Hyperparameters:\n",
      "hp1: 35\n",
      "hp2: 20\n",
      "hp3: 590\n",
      "activation1: gelu\n",
      "hp4: 0.2\n",
      "hp5: 149\n",
      "activation2: relu\n",
      "hp7: 0.15\n",
      "hp8: 50\n",
      "activation3: selu\n",
      "hp10: 0.3\n",
      "hp11: 1130\n",
      "activation4: silu\n",
      "hp12: 0.44999999999999996\n",
      "hp13: 536\n",
      "activation5: relu\n",
      "hp14: 410\n",
      "activation6: relu\n",
      "lr: 0.0145\n",
      "Score: 1933.7127685546875\n",
      "\n",
      "Trial 03 summary\n",
      "Hyperparameters:\n",
      "hp1: 65\n",
      "hp2: 65\n",
      "hp3: 770\n",
      "activation1: gelu\n",
      "hp4: 0.30000000000000004\n",
      "hp5: 158\n",
      "activation2: relu\n",
      "hp7: 0.0\n",
      "hp8: 950\n",
      "activation3: selu\n",
      "hp10: 0.3\n",
      "hp11: 1400\n",
      "activation4: selu\n",
      "hp12: 0.44999999999999996\n",
      "hp13: 815\n",
      "activation5: relu\n",
      "hp14: 770\n",
      "activation6: relu\n",
      "lr: 0.0115\n",
      "Score: 1966.1009521484375\n",
      "\n",
      "Trial 04 summary\n",
      "Hyperparameters:\n",
      "hp1: 35\n",
      "hp2: 50\n",
      "hp3: 860\n",
      "activation1: relu\n",
      "hp4: 0.4\n",
      "hp5: 320\n",
      "activation2: relu\n",
      "hp7: 0.44999999999999996\n",
      "hp8: 500\n",
      "activation3: gelu\n",
      "hp10: 0.15\n",
      "hp11: 500\n",
      "activation4: selu\n",
      "hp12: 0.3\n",
      "hp13: 743\n",
      "activation5: gelu\n",
      "hp14: 860\n",
      "activation6: relu\n",
      "lr: 0.0115\n",
      "Score: 2014.5958251953125\n",
      "\n",
      "Trial 07 summary\n",
      "Hyperparameters:\n",
      "hp1: 20\n",
      "hp2: 140\n",
      "hp3: 230\n",
      "activation1: relu\n",
      "hp4: 0.4\n",
      "hp5: 608\n",
      "activation2: relu\n",
      "hp7: 0.15\n",
      "hp8: 590\n",
      "activation3: selu\n",
      "hp10: 0.3\n",
      "hp11: 1490\n",
      "activation4: silu\n",
      "hp12: 0.3\n",
      "hp13: 122\n",
      "activation5: relu\n",
      "hp14: 410\n",
      "activation6: relu\n",
      "lr: 0.0035\n",
      "Score: 2072.39111328125\n",
      "\n",
      "Trial 06 summary\n",
      "Hyperparameters:\n",
      "hp1: 125\n",
      "hp2: 140\n",
      "hp3: 320\n",
      "activation1: relu\n",
      "hp4: 0.5\n",
      "hp5: 374\n",
      "activation2: relu\n",
      "hp7: 0.0\n",
      "hp8: 500\n",
      "activation3: gelu\n",
      "hp10: 0.0\n",
      "hp11: 1220\n",
      "activation4: selu\n",
      "hp12: 0.3\n",
      "hp13: 509\n",
      "activation5: gelu\n",
      "hp14: 950\n",
      "activation6: relu\n",
      "lr: 0.0145\n",
      "Score: 2087.641845703125\n",
      "\n",
      "Trial 05 summary\n",
      "Hyperparameters:\n",
      "hp1: 95\n",
      "hp2: 65\n",
      "hp3: 500\n",
      "activation1: relu\n",
      "hp4: 0.4\n",
      "hp5: 113\n",
      "activation2: selu\n",
      "hp7: 0.3\n",
      "hp8: 500\n",
      "activation3: gelu\n",
      "hp10: 0.15\n",
      "hp11: 230\n",
      "activation4: selu\n",
      "hp12: 0.44999999999999996\n",
      "hp13: 869\n",
      "activation5: relu\n",
      "hp14: 410\n",
      "activation6: relu\n",
      "lr: 0.0005\n",
      "Score: 2425.52294921875\n"
     ]
    }
   ],
   "source": [
    "tuner.results_summary()"
   ]
  },
  {
   "cell_type": "code",
   "execution_count": null,
   "metadata": {},
   "outputs": [],
   "source": []
  },
  {
   "cell_type": "code",
   "execution_count": 92,
   "metadata": {},
   "outputs": [
    {
     "name": "stderr",
     "output_type": "stream",
     "text": [
      "c:\\Users\\Jakob\\anaconda3\\Lib\\site-packages\\keras\\src\\saving\\saving_lib.py:418: UserWarning: Skipping variable loading for optimizer 'rmsprop', because it has 2 variables whereas the saved optimizer has 28 variables. \n",
      "  trackable.load_own_variables(weights_store.get(inner_path))\n"
     ]
    },
    {
     "data": {
      "text/html": [
       "<pre style=\"white-space:pre;overflow-x:auto;line-height:normal;font-family:Menlo,'DejaVu Sans Mono',consolas,'Courier New',monospace\"><span style=\"font-weight: bold\">Model: \"sequential\"</span>\n",
       "</pre>\n"
      ],
      "text/plain": [
       "\u001b[1mModel: \"sequential\"\u001b[0m\n"
      ]
     },
     "metadata": {},
     "output_type": "display_data"
    },
    {
     "data": {
      "text/html": [
       "<pre style=\"white-space:pre;overflow-x:auto;line-height:normal;font-family:Menlo,'DejaVu Sans Mono',consolas,'Courier New',monospace\">┏━━━━━━━━━━━━━━━━━━━━━━━━━━━━━━━━━┳━━━━━━━━━━━━━━━━━━━━━━━━┳━━━━━━━━━━━━━━━┓\n",
       "┃<span style=\"font-weight: bold\"> Layer (type)                    </span>┃<span style=\"font-weight: bold\"> Output Shape           </span>┃<span style=\"font-weight: bold\">       Param # </span>┃\n",
       "┡━━━━━━━━━━━━━━━━━━━━━━━━━━━━━━━━━╇━━━━━━━━━━━━━━━━━━━━━━━━╇━━━━━━━━━━━━━━━┩\n",
       "│ lstm (<span style=\"color: #0087ff; text-decoration-color: #0087ff\">LSTM</span>)                     │ (<span style=\"color: #00d7ff; text-decoration-color: #00d7ff\">None</span>, <span style=\"color: #00af00; text-decoration-color: #00af00\">14</span>, <span style=\"color: #00af00; text-decoration-color: #00af00\">125</span>)        │       <span style=\"color: #00af00; text-decoration-color: #00af00\">117,000</span> │\n",
       "├─────────────────────────────────┼────────────────────────┼───────────────┤\n",
       "│ lstm_1 (<span style=\"color: #0087ff; text-decoration-color: #0087ff\">LSTM</span>)                   │ (<span style=\"color: #00d7ff; text-decoration-color: #00d7ff\">None</span>, <span style=\"color: #00af00; text-decoration-color: #00af00\">110</span>)            │       <span style=\"color: #00af00; text-decoration-color: #00af00\">103,840</span> │\n",
       "├─────────────────────────────────┼────────────────────────┼───────────────┤\n",
       "│ dense (<span style=\"color: #0087ff; text-decoration-color: #0087ff\">Dense</span>)                   │ (<span style=\"color: #00d7ff; text-decoration-color: #00d7ff\">None</span>, <span style=\"color: #00af00; text-decoration-color: #00af00\">770</span>)            │        <span style=\"color: #00af00; text-decoration-color: #00af00\">85,470</span> │\n",
       "├─────────────────────────────────┼────────────────────────┼───────────────┤\n",
       "│ batch_normalization             │ (<span style=\"color: #00d7ff; text-decoration-color: #00d7ff\">None</span>, <span style=\"color: #00af00; text-decoration-color: #00af00\">770</span>)            │         <span style=\"color: #00af00; text-decoration-color: #00af00\">3,080</span> │\n",
       "│ (<span style=\"color: #0087ff; text-decoration-color: #0087ff\">BatchNormalization</span>)            │                        │               │\n",
       "├─────────────────────────────────┼────────────────────────┼───────────────┤\n",
       "│ dropout (<span style=\"color: #0087ff; text-decoration-color: #0087ff\">Dropout</span>)               │ (<span style=\"color: #00d7ff; text-decoration-color: #00d7ff\">None</span>, <span style=\"color: #00af00; text-decoration-color: #00af00\">770</span>)            │             <span style=\"color: #00af00; text-decoration-color: #00af00\">0</span> │\n",
       "├─────────────────────────────────┼────────────────────────┼───────────────┤\n",
       "│ dense_1 (<span style=\"color: #0087ff; text-decoration-color: #0087ff\">Dense</span>)                 │ (<span style=\"color: #00d7ff; text-decoration-color: #00d7ff\">None</span>, <span style=\"color: #00af00; text-decoration-color: #00af00\">518</span>)            │       <span style=\"color: #00af00; text-decoration-color: #00af00\">399,378</span> │\n",
       "├─────────────────────────────────┼────────────────────────┼───────────────┤\n",
       "│ dropout_1 (<span style=\"color: #0087ff; text-decoration-color: #0087ff\">Dropout</span>)             │ (<span style=\"color: #00d7ff; text-decoration-color: #00d7ff\">None</span>, <span style=\"color: #00af00; text-decoration-color: #00af00\">518</span>)            │             <span style=\"color: #00af00; text-decoration-color: #00af00\">0</span> │\n",
       "├─────────────────────────────────┼────────────────────────┼───────────────┤\n",
       "│ dense_2 (<span style=\"color: #0087ff; text-decoration-color: #0087ff\">Dense</span>)                 │ (<span style=\"color: #00d7ff; text-decoration-color: #00d7ff\">None</span>, <span style=\"color: #00af00; text-decoration-color: #00af00\">320</span>)            │       <span style=\"color: #00af00; text-decoration-color: #00af00\">166,080</span> │\n",
       "├─────────────────────────────────┼────────────────────────┼───────────────┤\n",
       "│ dropout_2 (<span style=\"color: #0087ff; text-decoration-color: #0087ff\">Dropout</span>)             │ (<span style=\"color: #00d7ff; text-decoration-color: #00d7ff\">None</span>, <span style=\"color: #00af00; text-decoration-color: #00af00\">320</span>)            │             <span style=\"color: #00af00; text-decoration-color: #00af00\">0</span> │\n",
       "├─────────────────────────────────┼────────────────────────┼───────────────┤\n",
       "│ batch_normalization_1           │ (<span style=\"color: #00d7ff; text-decoration-color: #00d7ff\">None</span>, <span style=\"color: #00af00; text-decoration-color: #00af00\">320</span>)            │         <span style=\"color: #00af00; text-decoration-color: #00af00\">1,280</span> │\n",
       "│ (<span style=\"color: #0087ff; text-decoration-color: #0087ff\">BatchNormalization</span>)            │                        │               │\n",
       "├─────────────────────────────────┼────────────────────────┼───────────────┤\n",
       "│ dense_3 (<span style=\"color: #0087ff; text-decoration-color: #0087ff\">Dense</span>)                 │ (<span style=\"color: #00d7ff; text-decoration-color: #00d7ff\">None</span>, <span style=\"color: #00af00; text-decoration-color: #00af00\">860</span>)            │       <span style=\"color: #00af00; text-decoration-color: #00af00\">276,060</span> │\n",
       "├─────────────────────────────────┼────────────────────────┼───────────────┤\n",
       "│ batch_normalization_2           │ (<span style=\"color: #00d7ff; text-decoration-color: #00d7ff\">None</span>, <span style=\"color: #00af00; text-decoration-color: #00af00\">860</span>)            │         <span style=\"color: #00af00; text-decoration-color: #00af00\">3,440</span> │\n",
       "│ (<span style=\"color: #0087ff; text-decoration-color: #0087ff\">BatchNormalization</span>)            │                        │               │\n",
       "├─────────────────────────────────┼────────────────────────┼───────────────┤\n",
       "│ dropout_3 (<span style=\"color: #0087ff; text-decoration-color: #0087ff\">Dropout</span>)             │ (<span style=\"color: #00d7ff; text-decoration-color: #00d7ff\">None</span>, <span style=\"color: #00af00; text-decoration-color: #00af00\">860</span>)            │             <span style=\"color: #00af00; text-decoration-color: #00af00\">0</span> │\n",
       "├─────────────────────────────────┼────────────────────────┼───────────────┤\n",
       "│ dense_4 (<span style=\"color: #0087ff; text-decoration-color: #0087ff\">Dense</span>)                 │ (<span style=\"color: #00d7ff; text-decoration-color: #00d7ff\">None</span>, <span style=\"color: #00af00; text-decoration-color: #00af00\">941</span>)            │       <span style=\"color: #00af00; text-decoration-color: #00af00\">810,201</span> │\n",
       "├─────────────────────────────────┼────────────────────────┼───────────────┤\n",
       "│ dense_5 (<span style=\"color: #0087ff; text-decoration-color: #0087ff\">Dense</span>)                 │ (<span style=\"color: #00d7ff; text-decoration-color: #00d7ff\">None</span>, <span style=\"color: #00af00; text-decoration-color: #00af00\">860</span>)            │       <span style=\"color: #00af00; text-decoration-color: #00af00\">810,120</span> │\n",
       "├─────────────────────────────────┼────────────────────────┼───────────────┤\n",
       "│ dense_6 (<span style=\"color: #0087ff; text-decoration-color: #0087ff\">Dense</span>)                 │ (<span style=\"color: #00d7ff; text-decoration-color: #00d7ff\">None</span>, <span style=\"color: #00af00; text-decoration-color: #00af00\">1</span>)              │           <span style=\"color: #00af00; text-decoration-color: #00af00\">861</span> │\n",
       "└─────────────────────────────────┴────────────────────────┴───────────────┘\n",
       "</pre>\n"
      ],
      "text/plain": [
       "┏━━━━━━━━━━━━━━━━━━━━━━━━━━━━━━━━━┳━━━━━━━━━━━━━━━━━━━━━━━━┳━━━━━━━━━━━━━━━┓\n",
       "┃\u001b[1m \u001b[0m\u001b[1mLayer (type)                   \u001b[0m\u001b[1m \u001b[0m┃\u001b[1m \u001b[0m\u001b[1mOutput Shape          \u001b[0m\u001b[1m \u001b[0m┃\u001b[1m \u001b[0m\u001b[1m      Param #\u001b[0m\u001b[1m \u001b[0m┃\n",
       "┡━━━━━━━━━━━━━━━━━━━━━━━━━━━━━━━━━╇━━━━━━━━━━━━━━━━━━━━━━━━╇━━━━━━━━━━━━━━━┩\n",
       "│ lstm (\u001b[38;5;33mLSTM\u001b[0m)                     │ (\u001b[38;5;45mNone\u001b[0m, \u001b[38;5;34m14\u001b[0m, \u001b[38;5;34m125\u001b[0m)        │       \u001b[38;5;34m117,000\u001b[0m │\n",
       "├─────────────────────────────────┼────────────────────────┼───────────────┤\n",
       "│ lstm_1 (\u001b[38;5;33mLSTM\u001b[0m)                   │ (\u001b[38;5;45mNone\u001b[0m, \u001b[38;5;34m110\u001b[0m)            │       \u001b[38;5;34m103,840\u001b[0m │\n",
       "├─────────────────────────────────┼────────────────────────┼───────────────┤\n",
       "│ dense (\u001b[38;5;33mDense\u001b[0m)                   │ (\u001b[38;5;45mNone\u001b[0m, \u001b[38;5;34m770\u001b[0m)            │        \u001b[38;5;34m85,470\u001b[0m │\n",
       "├─────────────────────────────────┼────────────────────────┼───────────────┤\n",
       "│ batch_normalization             │ (\u001b[38;5;45mNone\u001b[0m, \u001b[38;5;34m770\u001b[0m)            │         \u001b[38;5;34m3,080\u001b[0m │\n",
       "│ (\u001b[38;5;33mBatchNormalization\u001b[0m)            │                        │               │\n",
       "├─────────────────────────────────┼────────────────────────┼───────────────┤\n",
       "│ dropout (\u001b[38;5;33mDropout\u001b[0m)               │ (\u001b[38;5;45mNone\u001b[0m, \u001b[38;5;34m770\u001b[0m)            │             \u001b[38;5;34m0\u001b[0m │\n",
       "├─────────────────────────────────┼────────────────────────┼───────────────┤\n",
       "│ dense_1 (\u001b[38;5;33mDense\u001b[0m)                 │ (\u001b[38;5;45mNone\u001b[0m, \u001b[38;5;34m518\u001b[0m)            │       \u001b[38;5;34m399,378\u001b[0m │\n",
       "├─────────────────────────────────┼────────────────────────┼───────────────┤\n",
       "│ dropout_1 (\u001b[38;5;33mDropout\u001b[0m)             │ (\u001b[38;5;45mNone\u001b[0m, \u001b[38;5;34m518\u001b[0m)            │             \u001b[38;5;34m0\u001b[0m │\n",
       "├─────────────────────────────────┼────────────────────────┼───────────────┤\n",
       "│ dense_2 (\u001b[38;5;33mDense\u001b[0m)                 │ (\u001b[38;5;45mNone\u001b[0m, \u001b[38;5;34m320\u001b[0m)            │       \u001b[38;5;34m166,080\u001b[0m │\n",
       "├─────────────────────────────────┼────────────────────────┼───────────────┤\n",
       "│ dropout_2 (\u001b[38;5;33mDropout\u001b[0m)             │ (\u001b[38;5;45mNone\u001b[0m, \u001b[38;5;34m320\u001b[0m)            │             \u001b[38;5;34m0\u001b[0m │\n",
       "├─────────────────────────────────┼────────────────────────┼───────────────┤\n",
       "│ batch_normalization_1           │ (\u001b[38;5;45mNone\u001b[0m, \u001b[38;5;34m320\u001b[0m)            │         \u001b[38;5;34m1,280\u001b[0m │\n",
       "│ (\u001b[38;5;33mBatchNormalization\u001b[0m)            │                        │               │\n",
       "├─────────────────────────────────┼────────────────────────┼───────────────┤\n",
       "│ dense_3 (\u001b[38;5;33mDense\u001b[0m)                 │ (\u001b[38;5;45mNone\u001b[0m, \u001b[38;5;34m860\u001b[0m)            │       \u001b[38;5;34m276,060\u001b[0m │\n",
       "├─────────────────────────────────┼────────────────────────┼───────────────┤\n",
       "│ batch_normalization_2           │ (\u001b[38;5;45mNone\u001b[0m, \u001b[38;5;34m860\u001b[0m)            │         \u001b[38;5;34m3,440\u001b[0m │\n",
       "│ (\u001b[38;5;33mBatchNormalization\u001b[0m)            │                        │               │\n",
       "├─────────────────────────────────┼────────────────────────┼───────────────┤\n",
       "│ dropout_3 (\u001b[38;5;33mDropout\u001b[0m)             │ (\u001b[38;5;45mNone\u001b[0m, \u001b[38;5;34m860\u001b[0m)            │             \u001b[38;5;34m0\u001b[0m │\n",
       "├─────────────────────────────────┼────────────────────────┼───────────────┤\n",
       "│ dense_4 (\u001b[38;5;33mDense\u001b[0m)                 │ (\u001b[38;5;45mNone\u001b[0m, \u001b[38;5;34m941\u001b[0m)            │       \u001b[38;5;34m810,201\u001b[0m │\n",
       "├─────────────────────────────────┼────────────────────────┼───────────────┤\n",
       "│ dense_5 (\u001b[38;5;33mDense\u001b[0m)                 │ (\u001b[38;5;45mNone\u001b[0m, \u001b[38;5;34m860\u001b[0m)            │       \u001b[38;5;34m810,120\u001b[0m │\n",
       "├─────────────────────────────────┼────────────────────────┼───────────────┤\n",
       "│ dense_6 (\u001b[38;5;33mDense\u001b[0m)                 │ (\u001b[38;5;45mNone\u001b[0m, \u001b[38;5;34m1\u001b[0m)              │           \u001b[38;5;34m861\u001b[0m │\n",
       "└─────────────────────────────────┴────────────────────────┴───────────────┘\n"
      ]
     },
     "metadata": {},
     "output_type": "display_data"
    },
    {
     "data": {
      "text/html": [
       "<pre style=\"white-space:pre;overflow-x:auto;line-height:normal;font-family:Menlo,'DejaVu Sans Mono',consolas,'Courier New',monospace\"><span style=\"font-weight: bold\"> Total params: </span><span style=\"color: #00af00; text-decoration-color: #00af00\">2,776,810</span> (10.59 MB)\n",
       "</pre>\n"
      ],
      "text/plain": [
       "\u001b[1m Total params: \u001b[0m\u001b[38;5;34m2,776,810\u001b[0m (10.59 MB)\n"
      ]
     },
     "metadata": {},
     "output_type": "display_data"
    },
    {
     "data": {
      "text/html": [
       "<pre style=\"white-space:pre;overflow-x:auto;line-height:normal;font-family:Menlo,'DejaVu Sans Mono',consolas,'Courier New',monospace\"><span style=\"font-weight: bold\"> Trainable params: </span><span style=\"color: #00af00; text-decoration-color: #00af00\">2,772,910</span> (10.58 MB)\n",
       "</pre>\n"
      ],
      "text/plain": [
       "\u001b[1m Trainable params: \u001b[0m\u001b[38;5;34m2,772,910\u001b[0m (10.58 MB)\n"
      ]
     },
     "metadata": {},
     "output_type": "display_data"
    },
    {
     "data": {
      "text/html": [
       "<pre style=\"white-space:pre;overflow-x:auto;line-height:normal;font-family:Menlo,'DejaVu Sans Mono',consolas,'Courier New',monospace\"><span style=\"font-weight: bold\"> Non-trainable params: </span><span style=\"color: #00af00; text-decoration-color: #00af00\">3,900</span> (15.23 KB)\n",
       "</pre>\n"
      ],
      "text/plain": [
       "\u001b[1m Non-trainable params: \u001b[0m\u001b[38;5;34m3,900\u001b[0m (15.23 KB)\n"
      ]
     },
     "metadata": {},
     "output_type": "display_data"
    }
   ],
   "source": [
    "models = tuner.get_best_models(num_models=1)\n",
    "models[0].summary()\n",
    "model = models[0]"
   ]
  },
  {
   "cell_type": "markdown",
   "metadata": {},
   "source": [
    "<h1> Fine tuned with the general tuned </h1>"
   ]
  },
  {
   "cell_type": "code",
   "execution_count": 60,
   "metadata": {},
   "outputs": [],
   "source": [
    "\n",
    "# def build_model_fine(hp):\n",
    "#     model = keras.Sequential([\n",
    "#         layers.Input(shape=(14,108), name='input_layer'),\n",
    "#         layers.LSTM(\n",
    "#             units = hp.Int(name='hp1', min_value=220, max_value= 280, step=20),\n",
    "#             return_sequences=True),\n",
    "#         layers.LSTM(\n",
    "#             units = hp.Int(name='hp2', min_value=100, max_value= 200, step=25)),\n",
    "\n",
    "#         layers.Dense(units = hp.Int(name='hp3', min_value=50, max_value= 950, step=9),\n",
    "#                       activation=hp.Choice(\"activation1\", [\"relu\", \"gelu\"])\n",
    "#                       ),\n",
    "\n",
    "#         layers.BatchNormalization(),\n",
    "\n",
    "#         layers.Dropout(hp.Float(name='hp4',min_value=0.1, max_value=0.5, step=0.1)),\n",
    "\n",
    "#         layers.Dense(units = hp.Int(name='hp5', min_value=450, max_value= 550, step=25),\n",
    "#                       activation=hp.Choice('activation2', [\"relu\", \"selu\"])\n",
    "#                       ),\n",
    "\n",
    "#         layers.Dropout(hp.Float(name='hp7',min_value=0.0, max_value=0.45, step=0.15)),\n",
    "\n",
    "#         layers.Dense(units = hp.Int(name='hp8', min_value=270, max_value= 330, step=20),\n",
    "#                       activation=hp.Choice('activation3', [\"selu\",\"gelu\"])\n",
    "#                     ),\n",
    "#         layers.Dropout(hp.Float(name='hp9',min_value=0.0, max_value=0.45, step=0.15)),\n",
    "\n",
    "#         layers.BatchNormalization(),\n",
    "\n",
    "#         layers.Dense(units = hp.Int(name='hp10', min_value=700, max_value= 900, step=40),\n",
    "#                       activation=hp.Choice('activation4', [\"silu\", \"selu\"])),\n",
    "\n",
    "#         layers.BatchNormalization(),\n",
    "\n",
    "#         layers.Dropout(hp.Float(name='hp11',min_value=0.0, max_value=0.45, step=0.15)),\n",
    "\n",
    "#         layers.Dense(units = hp.Int(name='hp12', min_value=800, max_value=900, step=25),\n",
    "#                       activation=hp.Choice('activation5', [\"relu\", \"gelu\"])),\n",
    "\n",
    "#         layers.Dense(units = hp.Int(name='hp13', min_value=80, max_value= 120, step=10),\n",
    "#                        activation=hp.Choice('activation6', [\"relu\"])),\n",
    "\n",
    "#         layers.Dense(1)\n",
    "#     ])\n",
    "\n",
    "#     optimizer = RMSprop(learning_rate=hp.Float(name='lr', min_value=0.001, max_value=0.05, step=0.005))\n",
    "#     model.compile(optimizer=optimizer,\n",
    "#                 loss = 'mae')\n",
    "#     return model"
   ]
  },
  {
   "cell_type": "code",
   "execution_count": 96,
   "metadata": {},
   "outputs": [],
   "source": [
    "# tuner_fine = keras_tuner.RandomSearch(\n",
    "#     hypermodel=build_model_fine,\n",
    "#     objective='val_loss',\n",
    "#     max_trials=10,\n",
    "#     executions_per_trial=2,\n",
    "#     overwrite=True,\n",
    "#     directory='fine_tune',\n",
    "#     project_name='finalrun_tune'\n",
    "# )\n",
    "\n",
    "# tuner_callback=EarlyStopping(monitor='val_loss',\n",
    "#                             min_delta=0.01, \n",
    "#                             patience=30,\n",
    "#                             restore_best_weights=True)\n",
    "\n",
    "# tuner_fine.search(X_train_preprocessed, y_train_pre,\n",
    "#                 epochs=80, batch_size=60,\n",
    "#                 validation_data=(X_val_preprocessed,y_val_pre),\n",
    "#                 callbacks=[tuner_callback])"
   ]
  },
  {
   "cell_type": "code",
   "execution_count": 97,
   "metadata": {},
   "outputs": [],
   "source": [
    "# tuner_fine.results_summary()"
   ]
  },
  {
   "cell_type": "markdown",
   "metadata": {},
   "source": [
    "<h1> Last run of the model with many epochs and batches"
   ]
  },
  {
   "cell_type": "code",
   "execution_count": 63,
   "metadata": {},
   "outputs": [
    {
     "name": "stderr",
     "output_type": "stream",
     "text": [
      "c:\\Users\\Jakob\\anaconda3\\Lib\\site-packages\\keras\\src\\saving\\saving_lib.py:418: UserWarning: Skipping variable loading for optimizer 'rmsprop', because it has 2 variables whereas the saved optimizer has 28 variables. \n",
      "  trackable.load_own_variables(weights_store.get(inner_path))\n"
     ]
    }
   ],
   "source": [
    "# best_models = tuner_fine.get_best_models(num_models=1)\n",
    "# final_final_model = best_models[0]"
   ]
  },
  {
   "cell_type": "code",
   "execution_count": 98,
   "metadata": {},
   "outputs": [],
   "source": [
    "# final_final_model.summary()"
   ]
  },
  {
   "cell_type": "code",
   "execution_count": 102,
   "metadata": {},
   "outputs": [
    {
     "name": "stdout",
     "output_type": "stream",
     "text": [
      "Epoch 1/200\n",
      "\u001b[1m64/64\u001b[0m \u001b[32m━━━━━━━━━━━━━━━━━━━━\u001b[0m\u001b[37m\u001b[0m \u001b[1m7s\u001b[0m 29ms/step - loss: 7227.0220 - val_loss: 9708.1006\n",
      "Epoch 2/200\n",
      "\u001b[1m64/64\u001b[0m \u001b[32m━━━━━━━━━━━━━━━━━━━━\u001b[0m\u001b[37m\u001b[0m \u001b[1m1s\u001b[0m 23ms/step - loss: 5234.7261 - val_loss: 10587.9961\n",
      "Epoch 3/200\n",
      "\u001b[1m64/64\u001b[0m \u001b[32m━━━━━━━━━━━━━━━━━━━━\u001b[0m\u001b[37m\u001b[0m \u001b[1m1s\u001b[0m 19ms/step - loss: 4028.0278 - val_loss: 10413.3477\n",
      "Epoch 4/200\n",
      "\u001b[1m64/64\u001b[0m \u001b[32m━━━━━━━━━━━━━━━━━━━━\u001b[0m\u001b[37m\u001b[0m \u001b[1m1s\u001b[0m 23ms/step - loss: 3429.5540 - val_loss: 10652.8057\n",
      "Epoch 5/200\n",
      "\u001b[1m64/64\u001b[0m \u001b[32m━━━━━━━━━━━━━━━━━━━━\u001b[0m\u001b[37m\u001b[0m \u001b[1m1s\u001b[0m 23ms/step - loss: 3216.1819 - val_loss: 3333.2280\n",
      "Epoch 6/200\n",
      "\u001b[1m64/64\u001b[0m \u001b[32m━━━━━━━━━━━━━━━━━━━━\u001b[0m\u001b[37m\u001b[0m \u001b[1m2s\u001b[0m 27ms/step - loss: 2826.1187 - val_loss: 3870.3672\n",
      "Epoch 7/200\n",
      "\u001b[1m64/64\u001b[0m \u001b[32m━━━━━━━━━━━━━━━━━━━━\u001b[0m\u001b[37m\u001b[0m \u001b[1m2s\u001b[0m 23ms/step - loss: 2600.0793 - val_loss: 5130.3188\n",
      "Epoch 8/200\n",
      "\u001b[1m64/64\u001b[0m \u001b[32m━━━━━━━━━━━━━━━━━━━━\u001b[0m\u001b[37m\u001b[0m \u001b[1m1s\u001b[0m 22ms/step - loss: 2499.5000 - val_loss: 2568.6704\n",
      "Epoch 9/200\n",
      "\u001b[1m64/64\u001b[0m \u001b[32m━━━━━━━━━━━━━━━━━━━━\u001b[0m\u001b[37m\u001b[0m \u001b[1m1s\u001b[0m 21ms/step - loss: 2363.9873 - val_loss: 3130.4951\n",
      "Epoch 10/200\n",
      "\u001b[1m64/64\u001b[0m \u001b[32m━━━━━━━━━━━━━━━━━━━━\u001b[0m\u001b[37m\u001b[0m \u001b[1m1s\u001b[0m 20ms/step - loss: 2421.3647 - val_loss: 4757.4951\n",
      "Epoch 11/200\n",
      "\u001b[1m64/64\u001b[0m \u001b[32m━━━━━━━━━━━━━━━━━━━━\u001b[0m\u001b[37m\u001b[0m \u001b[1m1s\u001b[0m 19ms/step - loss: 2480.7947 - val_loss: 4673.8970\n",
      "Epoch 12/200\n",
      "\u001b[1m64/64\u001b[0m \u001b[32m━━━━━━━━━━━━━━━━━━━━\u001b[0m\u001b[37m\u001b[0m \u001b[1m1s\u001b[0m 22ms/step - loss: 2344.6387 - val_loss: 5525.7886\n",
      "Epoch 13/200\n",
      "\u001b[1m64/64\u001b[0m \u001b[32m━━━━━━━━━━━━━━━━━━━━\u001b[0m\u001b[37m\u001b[0m \u001b[1m1s\u001b[0m 19ms/step - loss: 2292.8911 - val_loss: 3768.2751\n",
      "Epoch 14/200\n",
      "\u001b[1m64/64\u001b[0m \u001b[32m━━━━━━━━━━━━━━━━━━━━\u001b[0m\u001b[37m\u001b[0m \u001b[1m1s\u001b[0m 19ms/step - loss: 2357.6816 - val_loss: 6771.1606\n",
      "Epoch 15/200\n",
      "\u001b[1m64/64\u001b[0m \u001b[32m━━━━━━━━━━━━━━━━━━━━\u001b[0m\u001b[37m\u001b[0m \u001b[1m1s\u001b[0m 18ms/step - loss: 2414.3899 - val_loss: 4598.7632\n",
      "Epoch 16/200\n",
      "\u001b[1m64/64\u001b[0m \u001b[32m━━━━━━━━━━━━━━━━━━━━\u001b[0m\u001b[37m\u001b[0m \u001b[1m2s\u001b[0m 24ms/step - loss: 2035.6245 - val_loss: 2824.5356\n",
      "Epoch 17/200\n",
      "\u001b[1m64/64\u001b[0m \u001b[32m━━━━━━━━━━━━━━━━━━━━\u001b[0m\u001b[37m\u001b[0m \u001b[1m2s\u001b[0m 23ms/step - loss: 1866.4475 - val_loss: 4558.7637\n",
      "Epoch 18/200\n",
      "\u001b[1m64/64\u001b[0m \u001b[32m━━━━━━━━━━━━━━━━━━━━\u001b[0m\u001b[37m\u001b[0m \u001b[1m2s\u001b[0m 27ms/step - loss: 2129.4280 - val_loss: 4672.6064\n",
      "Epoch 19/200\n",
      "\u001b[1m64/64\u001b[0m \u001b[32m━━━━━━━━━━━━━━━━━━━━\u001b[0m\u001b[37m\u001b[0m \u001b[1m2s\u001b[0m 30ms/step - loss: 1841.6219 - val_loss: 4310.7202\n",
      "Epoch 20/200\n",
      "\u001b[1m64/64\u001b[0m \u001b[32m━━━━━━━━━━━━━━━━━━━━\u001b[0m\u001b[37m\u001b[0m \u001b[1m2s\u001b[0m 28ms/step - loss: 1984.9659 - val_loss: 3472.5161\n",
      "Epoch 21/200\n",
      "\u001b[1m64/64\u001b[0m \u001b[32m━━━━━━━━━━━━━━━━━━━━\u001b[0m\u001b[37m\u001b[0m \u001b[1m1s\u001b[0m 22ms/step - loss: 1931.2186 - val_loss: 2662.8594\n",
      "Epoch 22/200\n",
      "\u001b[1m64/64\u001b[0m \u001b[32m━━━━━━━━━━━━━━━━━━━━\u001b[0m\u001b[37m\u001b[0m \u001b[1m1s\u001b[0m 23ms/step - loss: 1860.9620 - val_loss: 4899.2969\n",
      "Epoch 23/200\n",
      "\u001b[1m64/64\u001b[0m \u001b[32m━━━━━━━━━━━━━━━━━━━━\u001b[0m\u001b[37m\u001b[0m \u001b[1m2s\u001b[0m 24ms/step - loss: 1845.6587 - val_loss: 4450.9238\n",
      "Epoch 24/200\n",
      "\u001b[1m64/64\u001b[0m \u001b[32m━━━━━━━━━━━━━━━━━━━━\u001b[0m\u001b[37m\u001b[0m \u001b[1m2s\u001b[0m 28ms/step - loss: 1742.2375 - val_loss: 3014.3010\n",
      "Epoch 25/200\n",
      "\u001b[1m64/64\u001b[0m \u001b[32m━━━━━━━━━━━━━━━━━━━━\u001b[0m\u001b[37m\u001b[0m \u001b[1m2s\u001b[0m 29ms/step - loss: 1683.0135 - val_loss: 2865.6731\n",
      "Epoch 26/200\n",
      "\u001b[1m64/64\u001b[0m \u001b[32m━━━━━━━━━━━━━━━━━━━━\u001b[0m\u001b[37m\u001b[0m \u001b[1m2s\u001b[0m 32ms/step - loss: 1658.8448 - val_loss: 3099.5425\n",
      "Epoch 27/200\n",
      "\u001b[1m64/64\u001b[0m \u001b[32m━━━━━━━━━━━━━━━━━━━━\u001b[0m\u001b[37m\u001b[0m \u001b[1m2s\u001b[0m 32ms/step - loss: 1713.1245 - val_loss: 3082.2937\n",
      "Epoch 28/200\n",
      "\u001b[1m64/64\u001b[0m \u001b[32m━━━━━━━━━━━━━━━━━━━━\u001b[0m\u001b[37m\u001b[0m \u001b[1m2s\u001b[0m 23ms/step - loss: 1655.5271 - val_loss: 5750.9224\n",
      "Epoch 29/200\n",
      "\u001b[1m64/64\u001b[0m \u001b[32m━━━━━━━━━━━━━━━━━━━━\u001b[0m\u001b[37m\u001b[0m \u001b[1m2s\u001b[0m 23ms/step - loss: 1693.3722 - val_loss: 2880.2295\n",
      "Epoch 30/200\n",
      "\u001b[1m64/64\u001b[0m \u001b[32m━━━━━━━━━━━━━━━━━━━━\u001b[0m\u001b[37m\u001b[0m \u001b[1m1s\u001b[0m 22ms/step - loss: 1566.5754 - val_loss: 5652.1182\n",
      "Epoch 31/200\n",
      "\u001b[1m64/64\u001b[0m \u001b[32m━━━━━━━━━━━━━━━━━━━━\u001b[0m\u001b[37m\u001b[0m \u001b[1m2s\u001b[0m 28ms/step - loss: 1722.9556 - val_loss: 5939.2812\n",
      "Epoch 32/200\n",
      "\u001b[1m64/64\u001b[0m \u001b[32m━━━━━━━━━━━━━━━━━━━━\u001b[0m\u001b[37m\u001b[0m \u001b[1m2s\u001b[0m 27ms/step - loss: 1670.9608 - val_loss: 1861.0675\n",
      "Epoch 33/200\n",
      "\u001b[1m64/64\u001b[0m \u001b[32m━━━━━━━━━━━━━━━━━━━━\u001b[0m\u001b[37m\u001b[0m \u001b[1m2s\u001b[0m 28ms/step - loss: 1689.7660 - val_loss: 2341.7327\n",
      "Epoch 34/200\n",
      "\u001b[1m64/64\u001b[0m \u001b[32m━━━━━━━━━━━━━━━━━━━━\u001b[0m\u001b[37m\u001b[0m \u001b[1m3s\u001b[0m 29ms/step - loss: 1528.1282 - val_loss: 4565.5439\n",
      "Epoch 35/200\n",
      "\u001b[1m64/64\u001b[0m \u001b[32m━━━━━━━━━━━━━━━━━━━━\u001b[0m\u001b[37m\u001b[0m \u001b[1m2s\u001b[0m 26ms/step - loss: 1643.5288 - val_loss: 3904.3032\n",
      "Epoch 36/200\n",
      "\u001b[1m64/64\u001b[0m \u001b[32m━━━━━━━━━━━━━━━━━━━━\u001b[0m\u001b[37m\u001b[0m \u001b[1m2s\u001b[0m 25ms/step - loss: 1681.5002 - val_loss: 5418.0601\n",
      "Epoch 37/200\n",
      "\u001b[1m64/64\u001b[0m \u001b[32m━━━━━━━━━━━━━━━━━━━━\u001b[0m\u001b[37m\u001b[0m \u001b[1m2s\u001b[0m 25ms/step - loss: 1752.3226 - val_loss: 3823.3203\n",
      "Epoch 38/200\n",
      "\u001b[1m64/64\u001b[0m \u001b[32m━━━━━━━━━━━━━━━━━━━━\u001b[0m\u001b[37m\u001b[0m \u001b[1m2s\u001b[0m 24ms/step - loss: 1426.4880 - val_loss: 2620.2891\n",
      "Epoch 39/200\n",
      "\u001b[1m64/64\u001b[0m \u001b[32m━━━━━━━━━━━━━━━━━━━━\u001b[0m\u001b[37m\u001b[0m \u001b[1m2s\u001b[0m 25ms/step - loss: 1443.3104 - val_loss: 1986.3217\n",
      "Epoch 40/200\n",
      "\u001b[1m64/64\u001b[0m \u001b[32m━━━━━━━━━━━━━━━━━━━━\u001b[0m\u001b[37m\u001b[0m \u001b[1m2s\u001b[0m 29ms/step - loss: 1426.2542 - val_loss: 2930.1907\n",
      "Epoch 41/200\n",
      "\u001b[1m64/64\u001b[0m \u001b[32m━━━━━━━━━━━━━━━━━━━━\u001b[0m\u001b[37m\u001b[0m \u001b[1m1s\u001b[0m 22ms/step - loss: 1545.2795 - val_loss: 2258.6792\n",
      "Epoch 42/200\n",
      "\u001b[1m64/64\u001b[0m \u001b[32m━━━━━━━━━━━━━━━━━━━━\u001b[0m\u001b[37m\u001b[0m \u001b[1m1s\u001b[0m 20ms/step - loss: 1517.2963 - val_loss: 2300.3538\n",
      "Epoch 43/200\n",
      "\u001b[1m64/64\u001b[0m \u001b[32m━━━━━━━━━━━━━━━━━━━━\u001b[0m\u001b[37m\u001b[0m \u001b[1m1s\u001b[0m 20ms/step - loss: 1486.4182 - val_loss: 2310.2239\n",
      "Epoch 44/200\n",
      "\u001b[1m64/64\u001b[0m \u001b[32m━━━━━━━━━━━━━━━━━━━━\u001b[0m\u001b[37m\u001b[0m \u001b[1m1s\u001b[0m 21ms/step - loss: 1485.4609 - val_loss: 3045.9202\n",
      "Epoch 45/200\n",
      "\u001b[1m64/64\u001b[0m \u001b[32m━━━━━━━━━━━━━━━━━━━━\u001b[0m\u001b[37m\u001b[0m \u001b[1m1s\u001b[0m 22ms/step - loss: 1469.2394 - val_loss: 2785.3772\n",
      "Epoch 46/200\n",
      "\u001b[1m64/64\u001b[0m \u001b[32m━━━━━━━━━━━━━━━━━━━━\u001b[0m\u001b[37m\u001b[0m \u001b[1m2s\u001b[0m 24ms/step - loss: 1539.8174 - val_loss: 2433.5051\n",
      "Epoch 47/200\n",
      "\u001b[1m64/64\u001b[0m \u001b[32m━━━━━━━━━━━━━━━━━━━━\u001b[0m\u001b[37m\u001b[0m \u001b[1m2s\u001b[0m 24ms/step - loss: 1591.8383 - val_loss: 3130.4045\n",
      "Epoch 48/200\n",
      "\u001b[1m64/64\u001b[0m \u001b[32m━━━━━━━━━━━━━━━━━━━━\u001b[0m\u001b[37m\u001b[0m \u001b[1m1s\u001b[0m 23ms/step - loss: 1577.1167 - val_loss: 4151.6250\n",
      "Epoch 49/200\n",
      "\u001b[1m64/64\u001b[0m \u001b[32m━━━━━━━━━━━━━━━━━━━━\u001b[0m\u001b[37m\u001b[0m \u001b[1m2s\u001b[0m 27ms/step - loss: 1458.2249 - val_loss: 2514.8845\n",
      "Epoch 50/200\n",
      "\u001b[1m64/64\u001b[0m \u001b[32m━━━━━━━━━━━━━━━━━━━━\u001b[0m\u001b[37m\u001b[0m \u001b[1m2s\u001b[0m 30ms/step - loss: 1438.3849 - val_loss: 2201.8723\n",
      "Epoch 51/200\n",
      "\u001b[1m64/64\u001b[0m \u001b[32m━━━━━━━━━━━━━━━━━━━━\u001b[0m\u001b[37m\u001b[0m \u001b[1m2s\u001b[0m 28ms/step - loss: 1433.9663 - val_loss: 3453.7905\n",
      "Epoch 52/200\n",
      "\u001b[1m64/64\u001b[0m \u001b[32m━━━━━━━━━━━━━━━━━━━━\u001b[0m\u001b[37m\u001b[0m \u001b[1m2s\u001b[0m 26ms/step - loss: 1422.8743 - val_loss: 2781.8645\n",
      "Epoch 53/200\n",
      "\u001b[1m64/64\u001b[0m \u001b[32m━━━━━━━━━━━━━━━━━━━━\u001b[0m\u001b[37m\u001b[0m \u001b[1m2s\u001b[0m 30ms/step - loss: 1495.2993 - val_loss: 5278.0366\n",
      "Epoch 54/200\n",
      "\u001b[1m64/64\u001b[0m \u001b[32m━━━━━━━━━━━━━━━━━━━━\u001b[0m\u001b[37m\u001b[0m \u001b[1m2s\u001b[0m 27ms/step - loss: 1503.3817 - val_loss: 5166.8101\n",
      "Epoch 55/200\n",
      "\u001b[1m64/64\u001b[0m \u001b[32m━━━━━━━━━━━━━━━━━━━━\u001b[0m\u001b[37m\u001b[0m \u001b[1m2s\u001b[0m 26ms/step - loss: 1395.9653 - val_loss: 2609.1665\n",
      "Epoch 56/200\n",
      "\u001b[1m64/64\u001b[0m \u001b[32m━━━━━━━━━━━━━━━━━━━━\u001b[0m\u001b[37m\u001b[0m \u001b[1m2s\u001b[0m 30ms/step - loss: 1349.3199 - val_loss: 5098.3188\n",
      "Epoch 57/200\n",
      "\u001b[1m64/64\u001b[0m \u001b[32m━━━━━━━━━━━━━━━━━━━━\u001b[0m\u001b[37m\u001b[0m \u001b[1m2s\u001b[0m 24ms/step - loss: 1399.1521 - val_loss: 2881.1150\n",
      "Epoch 58/200\n",
      "\u001b[1m64/64\u001b[0m \u001b[32m━━━━━━━━━━━━━━━━━━━━\u001b[0m\u001b[37m\u001b[0m \u001b[1m2s\u001b[0m 25ms/step - loss: 1474.2596 - val_loss: 2435.1963\n",
      "Epoch 59/200\n",
      "\u001b[1m64/64\u001b[0m \u001b[32m━━━━━━━━━━━━━━━━━━━━\u001b[0m\u001b[37m\u001b[0m \u001b[1m2s\u001b[0m 23ms/step - loss: 1349.0358 - val_loss: 5804.1313\n",
      "Epoch 60/200\n",
      "\u001b[1m64/64\u001b[0m \u001b[32m━━━━━━━━━━━━━━━━━━━━\u001b[0m\u001b[37m\u001b[0m \u001b[1m2s\u001b[0m 24ms/step - loss: 1474.1387 - val_loss: 2638.0710\n",
      "Epoch 61/200\n",
      "\u001b[1m64/64\u001b[0m \u001b[32m━━━━━━━━━━━━━━━━━━━━\u001b[0m\u001b[37m\u001b[0m \u001b[1m1s\u001b[0m 23ms/step - loss: 1380.2781 - val_loss: 4049.8650\n",
      "Epoch 62/200\n",
      "\u001b[1m64/64\u001b[0m \u001b[32m━━━━━━━━━━━━━━━━━━━━\u001b[0m\u001b[37m\u001b[0m \u001b[1m2s\u001b[0m 23ms/step - loss: 1386.2021 - val_loss: 2395.9717\n",
      "Epoch 63/200\n",
      "\u001b[1m64/64\u001b[0m \u001b[32m━━━━━━━━━━━━━━━━━━━━\u001b[0m\u001b[37m\u001b[0m \u001b[1m2s\u001b[0m 24ms/step - loss: 1380.0585 - val_loss: 4447.2905\n",
      "Epoch 64/200\n",
      "\u001b[1m64/64\u001b[0m \u001b[32m━━━━━━━━━━━━━━━━━━━━\u001b[0m\u001b[37m\u001b[0m \u001b[1m2s\u001b[0m 25ms/step - loss: 1406.9583 - val_loss: 2640.0752\n",
      "Epoch 65/200\n",
      "\u001b[1m64/64\u001b[0m \u001b[32m━━━━━━━━━━━━━━━━━━━━\u001b[0m\u001b[37m\u001b[0m \u001b[1m2s\u001b[0m 23ms/step - loss: 1351.6052 - val_loss: 2843.8879\n",
      "Epoch 66/200\n",
      "\u001b[1m64/64\u001b[0m \u001b[32m━━━━━━━━━━━━━━━━━━━━\u001b[0m\u001b[37m\u001b[0m \u001b[1m2s\u001b[0m 23ms/step - loss: 1356.2504 - val_loss: 2870.6204\n",
      "Epoch 67/200\n",
      "\u001b[1m64/64\u001b[0m \u001b[32m━━━━━━━━━━━━━━━━━━━━\u001b[0m\u001b[37m\u001b[0m \u001b[1m1s\u001b[0m 21ms/step - loss: 1309.7936 - val_loss: 3428.2869\n",
      "Epoch 68/200\n",
      "\u001b[1m64/64\u001b[0m \u001b[32m━━━━━━━━━━━━━━━━━━━━\u001b[0m\u001b[37m\u001b[0m \u001b[1m1s\u001b[0m 20ms/step - loss: 1354.3372 - val_loss: 2623.7791\n",
      "Epoch 69/200\n",
      "\u001b[1m64/64\u001b[0m \u001b[32m━━━━━━━━━━━━━━━━━━━━\u001b[0m\u001b[37m\u001b[0m \u001b[1m1s\u001b[0m 22ms/step - loss: 1328.4329 - val_loss: 3348.4348\n",
      "Epoch 70/200\n",
      "\u001b[1m64/64\u001b[0m \u001b[32m━━━━━━━━━━━━━━━━━━━━\u001b[0m\u001b[37m\u001b[0m \u001b[1m1s\u001b[0m 21ms/step - loss: 1344.0087 - val_loss: 2443.0742\n",
      "Epoch 71/200\n",
      "\u001b[1m64/64\u001b[0m \u001b[32m━━━━━━━━━━━━━━━━━━━━\u001b[0m\u001b[37m\u001b[0m \u001b[1m1s\u001b[0m 21ms/step - loss: 1316.6913 - val_loss: 4575.8828\n",
      "Epoch 72/200\n",
      "\u001b[1m64/64\u001b[0m \u001b[32m━━━━━━━━━━━━━━━━━━━━\u001b[0m\u001b[37m\u001b[0m \u001b[1m1s\u001b[0m 21ms/step - loss: 1300.6696 - val_loss: 2098.8198\n",
      "Epoch 73/200\n",
      "\u001b[1m64/64\u001b[0m \u001b[32m━━━━━━━━━━━━━━━━━━━━\u001b[0m\u001b[37m\u001b[0m \u001b[1m1s\u001b[0m 21ms/step - loss: 1270.2549 - val_loss: 2416.4834\n",
      "Epoch 74/200\n",
      "\u001b[1m64/64\u001b[0m \u001b[32m━━━━━━━━━━━━━━━━━━━━\u001b[0m\u001b[37m\u001b[0m \u001b[1m1s\u001b[0m 20ms/step - loss: 1387.7909 - val_loss: 2291.5635\n",
      "Epoch 75/200\n",
      "\u001b[1m64/64\u001b[0m \u001b[32m━━━━━━━━━━━━━━━━━━━━\u001b[0m\u001b[37m\u001b[0m \u001b[1m1s\u001b[0m 21ms/step - loss: 1253.7324 - val_loss: 2771.9658\n",
      "Epoch 76/200\n",
      "\u001b[1m64/64\u001b[0m \u001b[32m━━━━━━━━━━━━━━━━━━━━\u001b[0m\u001b[37m\u001b[0m \u001b[1m1s\u001b[0m 21ms/step - loss: 1302.0583 - val_loss: 3015.9177\n",
      "Epoch 77/200\n",
      "\u001b[1m64/64\u001b[0m \u001b[32m━━━━━━━━━━━━━━━━━━━━\u001b[0m\u001b[37m\u001b[0m \u001b[1m1s\u001b[0m 21ms/step - loss: 1215.3501 - val_loss: 4444.7993\n",
      "Epoch 78/200\n",
      "\u001b[1m64/64\u001b[0m \u001b[32m━━━━━━━━━━━━━━━━━━━━\u001b[0m\u001b[37m\u001b[0m \u001b[1m1s\u001b[0m 21ms/step - loss: 1291.5511 - val_loss: 2792.6079\n",
      "Epoch 79/200\n",
      "\u001b[1m64/64\u001b[0m \u001b[32m━━━━━━━━━━━━━━━━━━━━\u001b[0m\u001b[37m\u001b[0m \u001b[1m1s\u001b[0m 21ms/step - loss: 1241.0907 - val_loss: 2431.1479\n",
      "Epoch 80/200\n",
      "\u001b[1m64/64\u001b[0m \u001b[32m━━━━━━━━━━━━━━━━━━━━\u001b[0m\u001b[37m\u001b[0m \u001b[1m1s\u001b[0m 21ms/step - loss: 1256.9556 - val_loss: 3329.4302\n",
      "Epoch 81/200\n",
      "\u001b[1m64/64\u001b[0m \u001b[32m━━━━━━━━━━━━━━━━━━━━\u001b[0m\u001b[37m\u001b[0m \u001b[1m1s\u001b[0m 21ms/step - loss: 1232.9858 - val_loss: 3927.8501\n",
      "Epoch 82/200\n",
      "\u001b[1m64/64\u001b[0m \u001b[32m━━━━━━━━━━━━━━━━━━━━\u001b[0m\u001b[37m\u001b[0m \u001b[1m1s\u001b[0m 21ms/step - loss: 1338.2234 - val_loss: 3475.1980\n"
     ]
    }
   ],
   "source": [
    "\n",
    "model = keras.Sequential([\n",
    "    layers.Input(shape=(14,108), name='input_layer'),\n",
    "    layers.LSTM(units=125 ,return_sequences=True),\n",
    "    layers.LSTM(units=110),\n",
    "    layers.Dense(units=770 ,activation='relu'),\n",
    "    layers.BatchNormalization(),\n",
    "    layers.Dropout(0.3),\n",
    "    layers.Dense(units=518,activation='relu'),\n",
    "    layers.Dropout(0.3),\n",
    "    layers.Dense(units=320,activation='selu'),\n",
    "    layers.Dropout(0.3),\n",
    "    layers.BatchNormalization(),\n",
    "    layers.Dense(units=860 ,activation='selu', kernel_regularizer=regularizers.l2(0.01)),\n",
    "    layers.BatchNormalization(),\n",
    "    layers.Dropout(0.15),\n",
    "    layers.Dense(units=941,activation='gelu'),\n",
    "    layers.Dense(units=860,activation='relu'),\n",
    "    layers.Dense(1)\n",
    "    ])\n",
    "\n",
    "optimizer = RMSprop(learning_rate=0.0125)\n",
    "model.compile(optimizer=optimizer,\n",
    "            loss = 'mae')\n",
    "tuner_callback=EarlyStopping(monitor='val_loss',\n",
    "                            min_delta=0.011, \n",
    "                            patience=50,\n",
    "                            restore_best_weights=True)\n",
    "history = model.fit(X_train_preprocessed, y_train_pre,\n",
    "            epochs=200, batch_size=15,\n",
    "            validation_data=(X_val_preprocessed,y_val_pre),\n",
    "            callbacks=[tuner_callback])"
   ]
  },
  {
   "cell_type": "code",
   "execution_count": 103,
   "metadata": {},
   "outputs": [
    {
     "data": {
      "text/plain": [
       "<Axes: >"
      ]
     },
     "execution_count": 103,
     "metadata": {},
     "output_type": "execute_result"
    },
    {
     "data": {
      "image/png": "[encoded data removed]",
      "text/plain": [
       "<Figure size 640x480 with 1 Axes>"
      ]
     },
     "metadata": {},
     "output_type": "display_data"
    }
   ],
   "source": [
    "fox = pd.DataFrame(history.history)\n",
    "fox['loss'].plot()\n",
    "fox['val_loss'].plot()"
   ]
  },
  {
   "cell_type": "code",
   "execution_count": 54,
   "metadata": {},
   "outputs": [],
   "source": [
    "# def ensemble_model_generator(model):\n",
    "#     X = np.concatenate((X_train_preprocessed,X_val_preprocessed),axis=0)\n",
    "#     y = np.concatenate((y_train_pre,y_val_pre),axis=0)\n",
    "\n",
    "\n",
    "#     models = []\n",
    "#     for i in range(0,3,1):\n",
    "#         sel_X = X[int(i*0.316*X.shape[0]):int((i+1)*0.316*X.shape[0])]\n",
    "#         sel_y = y[int(i*0.316*y.shape[0]):int((i+1)*0.316*y.shape[0])]\n",
    "\n",
    "#         sel_X_val = X[int(i*(0.316+0.05)*X.shape[0]):int((i+1)*(0.316+0.05)*X.shape[0])]\n",
    "#         sel_y_val = y[int(i*(0.316+0.05)*y.shape[0]):int((i+1)*(0.316+0.05)*y.shape[0])]\n",
    "#         new_model = model\n",
    "#         new_model.fit(sel_X,pd.Series(sel_y),\n",
    "#                 epochs=500, batch_size=60,\n",
    "#                 validation_data=[sel_X_val, pd.Series(sel_y_val)],\n",
    "#                 callbacks=tuner_callback, \n",
    "#                 verbose=True)        \n",
    "#         models.append(new_model)\n",
    "#     models.append(model)\n",
    "#     return models\n",
    "\n",
    "# cv_result = ensemble_model_generator(model)\n"
   ]
  },
  {
   "cell_type": "code",
   "execution_count": 55,
   "metadata": {},
   "outputs": [],
   "source": [
    "# def ensemble(models,X):\n",
    "#     predictions = []\n",
    "#     for i in range(0,len(models),1):\n",
    "#         pred_sel = models[i].predict(X)\n",
    "#         predictions.append(pred_sel)\n",
    "#     output = np.sum(predictions,axis=0)/len(models)\n",
    "#     return output"
   ]
  },
  {
   "cell_type": "code",
   "execution_count": 56,
   "metadata": {},
   "outputs": [],
   "source": [
    "# cv_result"
   ]
  },
  {
   "cell_type": "code",
   "execution_count": 57,
   "metadata": {},
   "outputs": [],
   "source": [
    "# ens_train_pred = ensemble(cv_result, X_train_preprocessed)\n",
    "# ens_val_pred = ensemble(cv_result, X_val_preprocessed)\n",
    "# ens_test_pred = ensemble(cv_result, X_test_preprocessed)"
   ]
  },
  {
   "cell_type": "markdown",
   "metadata": {},
   "source": [
    "<h1> Large  tuner end"
   ]
  },
  {
   "cell_type": "code",
   "execution_count": 104,
   "metadata": {},
   "outputs": [
    {
     "name": "stdout",
     "output_type": "stream",
     "text": [
      "\u001b[1m30/30\u001b[0m \u001b[32m━━━━━━━━━━━━━━━━━━━━\u001b[0m\u001b[37m\u001b[0m \u001b[1m2s\u001b[0m 31ms/step\n",
      "\u001b[1m4/4\u001b[0m \u001b[32m━━━━━━━━━━━━━━━━━━━━\u001b[0m\u001b[37m\u001b[0m \u001b[1m0s\u001b[0m 12ms/step\n",
      "\u001b[1m4/4\u001b[0m \u001b[32m━━━━━━━━━━━━━━━━━━━━\u001b[0m\u001b[37m\u001b[0m \u001b[1m0s\u001b[0m 9ms/step \n"
     ]
    }
   ],
   "source": [
    "# model.fit(X_train_preprocessed, y_train_pre)\n",
    "train_pred = model.predict(X_train_preprocessed)\n",
    "val_pred = model.predict(X_val_preprocessed)\n",
    "test_pred = model.predict(X_test_preprocessed)"
   ]
  },
  {
   "cell_type": "code",
   "execution_count": 106,
   "metadata": {},
   "outputs": [
    {
     "data": {
      "text/html": [
       "<div>\n",
       "<style scoped>\n",
       "    .dataframe tbody tr th:only-of-type {\n",
       "        vertical-align: middle;\n",
       "    }\n",
       "\n",
       "    .dataframe tbody tr th {\n",
       "        vertical-align: top;\n",
       "    }\n",
       "\n",
       "    .dataframe thead th {\n",
       "        text-align: right;\n",
       "    }\n",
       "</style>\n",
       "<table border=\"1\" class=\"dataframe\">\n",
       "  <thead>\n",
       "    <tr style=\"text-align: right;\">\n",
       "      <th></th>\n",
       "      <th>FX_EURONOK</th>\n",
       "      <th>Interest_rate</th>\n",
       "      <th>Food_index</th>\n",
       "    </tr>\n",
       "    <tr>\n",
       "      <th>Date</th>\n",
       "      <th></th>\n",
       "      <th></th>\n",
       "      <th></th>\n",
       "    </tr>\n",
       "  </thead>\n",
       "  <tbody>\n",
       "    <tr>\n",
       "      <th>2019-05-27</th>\n",
       "      <td>9.76837</td>\n",
       "      <td>0.5</td>\n",
       "      <td>95.340978</td>\n",
       "    </tr>\n",
       "    <tr>\n",
       "      <th>2019-06-03</th>\n",
       "      <td>9.80312</td>\n",
       "      <td>0.5</td>\n",
       "      <td>95.086631</td>\n",
       "    </tr>\n",
       "    <tr>\n",
       "      <th>2019-06-10</th>\n",
       "      <td>9.76780</td>\n",
       "      <td>0.5</td>\n",
       "      <td>95.086631</td>\n",
       "    </tr>\n",
       "    <tr>\n",
       "      <th>2019-06-17</th>\n",
       "      <td>9.65683</td>\n",
       "      <td>0.5</td>\n",
       "      <td>95.086631</td>\n",
       "    </tr>\n",
       "    <tr>\n",
       "      <th>2019-06-24</th>\n",
       "      <td>9.67580</td>\n",
       "      <td>0.5</td>\n",
       "      <td>95.086631</td>\n",
       "    </tr>\n",
       "    <tr>\n",
       "      <th>...</th>\n",
       "      <td>...</td>\n",
       "      <td>...</td>\n",
       "      <td>...</td>\n",
       "    </tr>\n",
       "    <tr>\n",
       "      <th>2021-08-09</th>\n",
       "      <td>10.26537</td>\n",
       "      <td>0.0</td>\n",
       "      <td>92.203018</td>\n",
       "    </tr>\n",
       "    <tr>\n",
       "      <th>2021-08-16</th>\n",
       "      <td>10.44622</td>\n",
       "      <td>0.0</td>\n",
       "      <td>92.203018</td>\n",
       "    </tr>\n",
       "    <tr>\n",
       "      <th>2021-08-23</th>\n",
       "      <td>10.27570</td>\n",
       "      <td>0.0</td>\n",
       "      <td>92.203018</td>\n",
       "    </tr>\n",
       "    <tr>\n",
       "      <th>2021-08-30</th>\n",
       "      <td>10.29348</td>\n",
       "      <td>0.0</td>\n",
       "      <td>92.203018</td>\n",
       "    </tr>\n",
       "    <tr>\n",
       "      <th>2021-09-06</th>\n",
       "      <td>10.23228</td>\n",
       "      <td>0.0</td>\n",
       "      <td>91.474033</td>\n",
       "    </tr>\n",
       "  </tbody>\n",
       "</table>\n",
       "<p>120 rows × 3 columns</p>\n",
       "</div>"
      ],
      "text/plain": [
       "            FX_EURONOK  Interest_rate  Food_index\n",
       "Date                                             \n",
       "2019-05-27     9.76837            0.5   95.340978\n",
       "2019-06-03     9.80312            0.5   95.086631\n",
       "2019-06-10     9.76780            0.5   95.086631\n",
       "2019-06-17     9.65683            0.5   95.086631\n",
       "2019-06-24     9.67580            0.5   95.086631\n",
       "...                ...            ...         ...\n",
       "2021-08-09    10.26537            0.0   92.203018\n",
       "2021-08-16    10.44622            0.0   92.203018\n",
       "2021-08-23    10.27570            0.0   92.203018\n",
       "2021-08-30    10.29348            0.0   92.203018\n",
       "2021-09-06    10.23228            0.0   91.474033\n",
       "\n",
       "[120 rows x 3 columns]"
      ]
     },
     "execution_count": 106,
     "metadata": {},
     "output_type": "execute_result"
    }
   ],
   "source": [
    "X_val"
   ]
  },
  {
   "cell_type": "code",
   "execution_count": 105,
   "metadata": {},
   "outputs": [
    {
     "data": {
      "image/png": "[encoded data removed]",
      "text/plain": [
       "<Figure size 640x480 with 2 Axes>"
      ]
     },
     "metadata": {},
     "output_type": "display_data"
    }
   ],
   "source": [
    "fig,ax = plt.subplots(2)\n",
    "ax[0].plot(y_train, label='Train')\n",
    "ax[0].plot(y_val, label='Valid')\n",
    "ax[0].plot(y_test, label='Test')\n",
    "ax[0].set_ylim(0,25000)\n",
    "\n",
    "ax[1].plot(X_train.index[13:], train_pred, label='Train_pred')\n",
    "ax[1].plot(X_val.index[:], val_pred, label='Val_pred')\n",
    "ax[1].plot(X_test.index[:], test_pred, label='Test_pred')\n",
    "# ax[1].set_ylim(0,35000)\n",
    "\n",
    "plt.legend()\n",
    "plt.show()"
   ]
  },
  {
   "cell_type": "code",
   "execution_count": 82,
   "metadata": {},
   "outputs": [],
   "source": [
    "# from sklearn.metrics import root_mean_squared_error as RMSE\n",
    "# from sklearn.metrics import mean_absolute_percentage_error as \n",
    "from sklearn.metrics import mean_absolute_error as MAE\n"
   ]
  },
  {
   "cell_type": "code",
   "execution_count": 41,
   "metadata": {},
   "outputs": [],
   "source": [
    "# y_train"
   ]
  },
  {
   "cell_type": "code",
   "execution_count": 83,
   "metadata": {},
   "outputs": [
    {
     "data": {
      "text/plain": [
       "2761.1734511990735"
      ]
     },
     "execution_count": 83,
     "metadata": {},
     "output_type": "execute_result"
    }
   ],
   "source": [
    "MAE(y_train_pre, train_pred)"
   ]
  },
  {
   "cell_type": "code",
   "execution_count": 43,
   "metadata": {},
   "outputs": [
    {
     "data": {
      "text/plain": [
       "0.11623931623931624"
      ]
     },
     "execution_count": 43,
     "metadata": {},
     "output_type": "execute_result"
    }
   ],
   "source": [
    "1360/11700"
   ]
  },
  {
   "cell_type": "markdown",
   "metadata": {},
   "source": [
    "<h2> Residual analysis"
   ]
  },
  {
   "cell_type": "code",
   "execution_count": 44,
   "metadata": {},
   "outputs": [],
   "source": [
    "# train_pred"
   ]
  },
  {
   "cell_type": "code",
   "execution_count": 45,
   "metadata": {},
   "outputs": [],
   "source": [
    "residuals = val_pred.flatten() - y_val_pre"
   ]
  },
  {
   "cell_type": "code",
   "execution_count": 46,
   "metadata": {},
   "outputs": [
    {
     "data": {
      "image/png": "[encoded data removed]",
      "text/plain": [
       "<Figure size 640x480 with 1 Axes>"
      ]
     },
     "metadata": {},
     "output_type": "display_data"
    }
   ],
   "source": [
    "plt.hist(residuals)\n",
    "plt.show()"
   ]
  },
  {
   "cell_type": "code",
   "execution_count": 47,
   "metadata": {},
   "outputs": [],
   "source": [
    "my = np.mean(residuals)"
   ]
  },
  {
   "cell_type": "code",
   "execution_count": 48,
   "metadata": {},
   "outputs": [
    {
     "data": {
      "text/plain": [
       "2550.785480776983"
      ]
     },
     "execution_count": 48,
     "metadata": {},
     "output_type": "execute_result"
    }
   ],
   "source": [
    "std = np.std(residuals)\n",
    "std"
   ]
  },
  {
   "cell_type": "code",
   "execution_count": 49,
   "metadata": {},
   "outputs": [
    {
     "name": "stdout",
     "output_type": "stream",
     "text": [
      "lower\n"
     ]
    },
    {
     "data": {
      "text/plain": [
       "-723.9240658957178"
      ]
     },
     "execution_count": 49,
     "metadata": {},
     "output_type": "execute_result"
    }
   ],
   "source": [
    "print('lower') \n",
    "my- std*1.28"
   ]
  },
  {
   "cell_type": "code",
   "execution_count": 50,
   "metadata": {},
   "outputs": [
    {
     "name": "stdout",
     "output_type": "stream",
     "text": [
      "upper\n"
     ]
    },
    {
     "data": {
      "text/plain": [
       "5806.086764893359"
      ]
     },
     "execution_count": 50,
     "metadata": {},
     "output_type": "execute_result"
    }
   ],
   "source": [
    "print('upper') \n",
    "my+ std*1.28"
   ]
  },
  {
   "cell_type": "code",
   "execution_count": 51,
   "metadata": {},
   "outputs": [
    {
     "data": {
      "text/plain": [
       "255078.5480776983"
      ]
     },
     "execution_count": 51,
     "metadata": {},
     "output_type": "execute_result"
    }
   ],
   "source": [
    "std*100"
   ]
  },
  {
   "cell_type": "code",
   "execution_count": 52,
   "metadata": {},
   "outputs": [],
   "source": [
    "high_list = []\n",
    "low_list = []\n",
    "for i in range(0,len(test_pred),1):\n",
    "    high_sel = test_pred[i][0] + std*(i+1)\n",
    "    low_sel = test_pred[i][0] - std*(i+1)\n",
    "    high_list.append(high_sel)\n",
    "    low_list.append(low_sel)\n",
    "    "
   ]
  },
  {
   "cell_type": "code",
   "execution_count": 53,
   "metadata": {},
   "outputs": [
    {
     "data": {
      "image/png": "[encoded data removed]",
      "text/plain": [
       "<Figure size 640x480 with 1 Axes>"
      ]
     },
     "metadata": {},
     "output_type": "display_data"
    }
   ],
   "source": [
    "plt.plot(high_list,color='grey')\n",
    "plt.plot(low_list, color='grey')\n",
    "plt.plot(val_pred, color='red')\n",
    "plt.show()"
   ]
  }
 ],
 "metadata": {
  "kernelspec": {
   "display_name": "base",
   "language": "python",
   "name": "python3"
  },
  "language_info": {
   "codemirror_mode": {
    "name": "ipython",
    "version": 3
   },
   "file_extension": ".py",
   "mimetype": "text/x-python",
   "name": "python",
   "nbconvert_exporter": "python",
   "pygments_lexer": "ipython3",
   "version": "3.11.7"
  }
 },
 "nbformat": 4,
 "nbformat_minor": 2
}
