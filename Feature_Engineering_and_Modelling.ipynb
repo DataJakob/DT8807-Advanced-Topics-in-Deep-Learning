{
 "cells": [
  {
   "cell_type": "markdown",
   "metadata": {},
   "source": [
    "<h1> Feature engineering <br>\n",
    "Modelling <br>\n",
    "and Evaluation</h2>\n",
    "<br>\n",
    "<br>\n",
    "<b> This is work in progress! </b> <p> Next up is making the pipeline more automated. Scaling the targets. And finetune  the  LSTM, which architeture should it have. How many lags, how many LSTM units, how many  layers, how many perceptrons, which activation functions, and which special layers to add to the architecture. \n",
    "<br>\n",
    "<br>\n",
    "Radical change: use NIBOR in stead of interest rate, because it is update daily and can give better results.\n",
    "<h4> Readying the forecast dataset </h4>\n",
    "Use Ohrnstein Uhlenbeck process to find Food_index price. Use SSB/NB to find forecasts for policy rate. Find some forecasts or eventually use OU-process to find the FX."
   ]
  },
  {
   "cell_type": "markdown",
   "metadata": {},
   "source": [
    "<!-- <ol>\n",
    "<li>Deterministic process</li>\n",
    "<li>Lagged variables</li>\n",
    "<li> Fourier</li>\n",
    "<li>Seasonal indicators (very important)</li>\n",
    "<li></li>\n",
    "<li></li>\n",
    "<li></li>\n",
    "</ol> -->"
   ]
  },
  {
   "cell_type": "markdown",
   "metadata": {},
   "source": [
    "<h1> 1. Getting started </h1>\n",
    "<h2> 1.1 Importing libraries </h2>"
   ]
  },
  {
   "cell_type": "code",
   "execution_count": 1,
   "metadata": {},
   "outputs": [
    {
     "ename": "ModuleNotFoundError",
     "evalue": "No module named 'random7'",
     "output_type": "error",
     "traceback": [
      "\u001b[1;31m---------------------------------------------------------------------------\u001b[0m",
      "\u001b[1;31mModuleNotFoundError\u001b[0m                       Traceback (most recent call last)",
      "Cell \u001b[1;32mIn[1], line 12\u001b[0m\n\u001b[0;32m      9\u001b[0m \u001b[38;5;28;01mfrom\u001b[39;00m \u001b[38;5;21;01msklearn\u001b[39;00m\u001b[38;5;21;01m.\u001b[39;00m\u001b[38;5;21;01mpreprocessing\u001b[39;00m \u001b[38;5;28;01mimport\u001b[39;00m FunctionTransformer\n\u001b[0;32m     10\u001b[0m \u001b[38;5;28;01mfrom\u001b[39;00m \u001b[38;5;21;01msklearn\u001b[39;00m\u001b[38;5;21;01m.\u001b[39;00m\u001b[38;5;21;01mcompose\u001b[39;00m \u001b[38;5;28;01mimport\u001b[39;00m ColumnTransformer\n\u001b[1;32m---> 12\u001b[0m \u001b[38;5;28;01mimport\u001b[39;00m \u001b[38;5;21;01mrandom7\u001b[39;00m\n\u001b[0;32m     13\u001b[0m \u001b[38;5;28;01mfrom\u001b[39;00m \u001b[38;5;21;01mkeras\u001b[39;00m \u001b[38;5;28;01mimport\u001b[39;00m regularizers\n\u001b[0;32m     16\u001b[0m \u001b[38;5;28;01mimport\u001b[39;00m \u001b[38;5;21;01mtensorflow\u001b[39;00m \u001b[38;5;28;01mas\u001b[39;00m \u001b[38;5;21;01mtf\u001b[39;00m\n",
      "\u001b[1;31mModuleNotFoundError\u001b[0m: No module named 'random7'"
     ]
    }
   ],
   "source": [
    "import numpy as np\n",
    "import pandas as pd\n",
    "import matplotlib.pyplot as plt\n",
    "import seaborn as sns\n",
    "\n",
    "from sklearn.model_selection import train_test_split\n",
    "from sklearn.preprocessing import StandardScaler\n",
    "from sklearn.pipeline import Pipeline\n",
    "from sklearn.preprocessing import FunctionTransformer\n",
    "from sklearn.compose import ColumnTransformer\n",
    "\n",
    "import random7\n",
    "from keras import regularizers\n",
    "\n",
    "\n",
    "import tensorflow as tf\n",
    "from tensorflow import keras\n",
    "from keras import Sequential, layers, Input, callbacks\n",
    "from keras.layers import Dense\n",
    "from keras.layers import LSTM\n",
    "from keras.layers import Activation\n",
    "from keras.optimizers import RMSprop, Adam\n",
    "\n",
    "\n",
    "from statsmodels.tsa.deterministic import DeterministicProcess\n",
    "from statsmodels.tsa.deterministic import  CalendarFourier\n",
    "\n",
    "from sklearn.metrics import mean_absolute_percentage_error as MAPE\n",
    "from keras.callbacks import EarlyStopping\n"
   ]
  },
  {
   "cell_type": "markdown",
   "metadata": {},
   "source": [
    "<h2> 1.2 Downloading data </h2>"
   ]
  },
  {
   "cell_type": "code",
   "execution_count": 5,
   "metadata": {},
   "outputs": [],
   "source": [
    "df = pd.read_csv('Preprocessed_data.csv')\n",
    "df.index = pd.to_datetime(df['Date'], format='%Y-%m-%d')\n",
    "df.drop(['Date'], axis=1, inplace=True)"
   ]
  },
  {
   "cell_type": "markdown",
   "metadata": {},
   "source": [
    "<h2> 1.3 Splitting data in 3*2 </h2>\n",
    "<p> SPlitting data into train, test and validation with the following split: 70 | 15 |15."
   ]
  },
  {
   "cell_type": "code",
   "execution_count": 6,
   "metadata": {},
   "outputs": [],
   "source": [
    "y = df['Salmon_exp_vol']\n",
    "X = df.loc[:,'FX_EURONOK':]\n",
    "\n",
    "X_train, X_eval, y_train, y_eval = train_test_split(X,y, \n",
    "                                                    test_size=0.2,\n",
    "                                                    shuffle=False)\n",
    "X_val, X_test, y_val, y_test = train_test_split(X_eval, y_eval, \n",
    "                                                test_size=0.5,\n",
    "                                                shuffle=False)"
   ]
  },
  {
   "cell_type": "markdown",
   "metadata": {},
   "source": [
    "<h1> 2. Feature engineering </h1>"
   ]
  },
  {
   "cell_type": "markdown",
   "metadata": {},
   "source": [
    "<h2> 2.1 Manual imputing </h2>\n",
    "<p>  Manually fixing NaN, and wrongful observations from the dataset in the training data. </p>"
   ]
  },
  {
   "cell_type": "code",
   "execution_count": 7,
   "metadata": {},
   "outputs": [],
   "source": [
    "X_train['FX_EURONOK']['2002-10-14'] = 7.34\n",
    "X_train['FX_EURONOK']['2008-08-04'] = 7.9995\n",
    "X_train['FX_EURONOK']['2008-08-08'] = 7.9915\n",
    "X_train['FX_EURONOK']['2008-08-11'] = 7.9975\n",
    "X_train['FX_EURONOK']['2008-08-18'] = 7.9740"
   ]
  },
  {
   "cell_type": "markdown",
   "metadata": {},
   "source": [
    "<h2> 2.2 Time dummy and Fourier  </h2>\n",
    "<p> Creating a time dummy variable. Adding one new colum, where the value goes from 0 to the amount of observations. </p>"
   ]
  },
  {
   "cell_type": "code",
   "execution_count": 8,
   "metadata": {},
   "outputs": [],
   "source": [
    "def det_process(X, startValue=None):\n",
    "    # fourier0  =  CalendarFourier(freq='A',  order=3)\n",
    "    # fourier1  =  CalendarFourier(freq='6M',  order=3)\n",
    "    # fourier2  =  CalendarFourier(freq='Q',  order=3)\n",
    "\n",
    "    dp = DeterministicProcess(\n",
    "        index=X.index,\n",
    "        constant=True,\n",
    "        order=1,\n",
    "        seasonal=True,\n",
    "        # additional_terms=[fourier0,fourier1,fourier2],\n",
    "        drop=True\n",
    "    ) \n",
    "    dp = dp.in_sample()\n",
    "    dp['trend'] += startValue\n",
    "    new_X = pd.concat([X,dp], axis=1)\n",
    "    return new_X\n",
    "time_func = FunctionTransformer(func=det_process, \n",
    "                                kw_args={'startValue':None})\n"
   ]
  },
  {
   "cell_type": "markdown",
   "metadata": {},
   "source": [
    "<h2> 2.3  Column specific engineering </h2>\n",
    "<h3> 2.3.1 Log transformation </h3>\n",
    "<p> Function for log transformation. The FOREX column shows specific characeristics from the lognormal distribution. "
   ]
  },
  {
   "cell_type": "code",
   "execution_count": 9,
   "metadata": {},
   "outputs": [],
   "source": [
    "def log_transformation(X):\n",
    "    X = np.log1p(X)\n",
    "    X = pd.DataFrame(X)\n",
    "    return X\n",
    "log_func = FunctionTransformer(func=log_transformation)"
   ]
  },
  {
   "cell_type": "markdown",
   "metadata": {},
   "source": [
    "<h3> 2.3.2 Lagging variables </h3>\n",
    "<p> Creating a function that create specific lagged variables for the datasets. Not going to use this function </p>"
   ]
  },
  {
   "cell_type": "code",
   "execution_count": 10,
   "metadata": {},
   "outputs": [],
   "source": [
    "def lagged_func_org(X, target=None):\n",
    "    X_new =  pd.concat([target, X], axis=1)\n",
    "    # lags = [[1,2,3,4],[13],[1,5],[1,2,3,4]]\n",
    "    # shift_cols = ['Salmon_exp_vol', 'Interest_rate', 'Food_index', 'FX_EURONOK']\n",
    "    lags = [[1]]\n",
    "    shift_cols = ['Salmon_exp_vol']\n",
    "\n",
    "    sec_it = 0\n",
    "    lagged_df = pd.DataFrame()\n",
    "    for n_col in range(len(shift_cols)):\n",
    "        for n_lag  in range(len(lags[n_col])):\n",
    "            sec_it+=1\n",
    "            lagged_df[str(shift_cols[n_col]+\n",
    "                      '_lag'+\n",
    "                      str(lags[n_col][n_lag]))] = X_new[shift_cols[n_col]].shift(lags[n_col][n_lag])\n",
    "    ldf = pd.concat([X,lagged_df],axis=1).dropna()\n",
    "    return ldf\n",
    "\n",
    "lagged_func = FunctionTransformer(func=lagged_func_org, \n",
    "                                  kw_args={'target':None})"
   ]
  },
  {
   "cell_type": "markdown",
   "metadata": {},
   "source": [
    "<h2> 2.4  Z-scoring </h2>\n",
    "<p> Create functions for scaling the variables in a standardized way. </p>"
   ]
  },
  {
   "cell_type": "code",
   "execution_count": 11,
   "metadata": {},
   "outputs": [],
   "source": [
    "zScore_func = StandardScaler()\n",
    "zScoreTarget_func = StandardScaler()"
   ]
  },
  {
   "cell_type": "markdown",
   "metadata": {},
   "source": [
    "<h2> 2.6 Seasonal indicators </h2>\n",
    "<p> Creating dummy variables for each week in a year. So creating 52 new columns, on for each week. The values are 1 if the observations falls within that week, and zero if not. </p>"
   ]
  },
  {
   "cell_type": "code",
   "execution_count": 12,
   "metadata": {},
   "outputs": [],
   "source": [
    "def seasonal_indicators(X):\n",
    "    # weeks = [1,2,3,4,5,6,42,43,44,45,46,47,48,49,50,51,52]\n",
    "    weeks = np.linspace(1,52,52)\n",
    "    indicator_df = pd.DataFrame()\n",
    "    for ind_week in range(len(weeks)):\n",
    "        column = np.where(X.index.isocalendar().week==weeks[ind_week],1,0)\n",
    "        indicator_df['IndWeek'+str(weeks[ind_week])] = column\n",
    "    indicator_df.index = X.index\n",
    "    new_X = pd.concat([X, indicator_df],axis=1)\n",
    "    return new_X\n",
    "indicator_func = FunctionTransformer(func=seasonal_indicators)\n",
    "\n"
   ]
  },
  {
   "cell_type": "markdown",
   "metadata": {},
   "source": [
    "<h2> 2.5 Reshaping 2d->3d array </h2>\n",
    "Function for reshaping the dataset to include timesteps, and transform the data from being 2d to 3d </p>"
   ]
  },
  {
   "cell_type": "code",
   "execution_count": 13,
   "metadata": {},
   "outputs": [],
   "source": [
    "def reshaper(X, timeSteps=None):\n",
    "    X = pd.DataFrame(X)\n",
    "    new_Xs = [np.array(X[timeSteps:])]\n",
    "\n",
    "    for i in range(1, timeSteps+1,1):\n",
    "        shift_X  = np.array(X.shift(i))\n",
    "        new_Xs.append(shift_X[timeSteps:])\n",
    "    # for i in range(1,timeSteps+1,1):\n",
    "    #     shift_X  = np.array(X.shift(-i))\n",
    "    #     new_Xs.append(shift_X[timeSteps:])\n",
    "\n",
    "    X_reshaped = np.stack(new_Xs, axis=1)\n",
    "    print(X_reshaped.shape)\n",
    "    return X_reshaped\n",
    "\n",
    "reshape_func = FunctionTransformer(func=reshaper, kw_args={'timeSteps':None})"
   ]
  },
  {
   "cell_type": "markdown",
   "metadata": {},
   "source": [
    "<h1> 3. LSTM model </h1>"
   ]
  },
  {
   "cell_type": "code",
   "execution_count": 14,
   "metadata": {},
   "outputs": [],
   "source": [
    "import keras_tuner \n",
    "import keras"
   ]
  },
  {
   "cell_type": "code",
   "execution_count": 15,
   "metadata": {},
   "outputs": [],
   "source": [
    "# np.random.seed(7)\n",
    "\n",
    "\n",
    "# units = hp.Int(name='units', min_value=25, max_value= 250, step= 25)\n",
    "# model = keras.Sequential([\n",
    "#     layers.Input(shape=(14,109), name='input_layer'),\n",
    "#     layers.LSTM(75, recurrent_dropout=0.5, return_sequences=True),\n",
    "#     # layers.LSTM(150, recurrent_dropout=0.3, return_sequences=True),\n",
    "#     # layers.LSTM(200, recurrent_dropout=0.3),\n",
    "#     # layers.BatchNormalization(),\n",
    "#     # layers.Dropout(0.5),\n",
    "#     # layers.Dense(128, activation='relu'),\n",
    "#     # layers.BatchNormalization(),\n",
    "#     # layers.Dropout(0.3),\n",
    "#     # layers.Dense(256, activation='relu'),\n",
    "#     # layers.BatchNormalization(),\n",
    "#     # layers.Dropout(0.5),\n",
    "#     # layers.Dense(512, activation='gelu'),\n",
    "#     # layers.Dropout(0.3),\n",
    "#     # layers.Dense(256, activation='selu'),\n",
    "#     # layers.Dropout(0.5),\n",
    "#     layers.Dense(109, activation='relu'),\n",
    "#     layers.Dense(1)\n",
    "# ])\n",
    "\n",
    "\n",
    "# optimizer = Adam(learning_rate=0.001)  # You can adjust the learning rate as needed\n",
    "# model.compile(optimizer=optimizer,\n",
    "#             #   loss=keras.losses.MeanSquaredError()\n",
    "#               loss = 'mae'\n",
    "#               )\n",
    "\n",
    "# early_stopping = callbacks.EarlyStopping(\n",
    "#     min_delta=0.001, \n",
    "#     patience=15, \n",
    "#     restore_best_weights=True,\n",
    "# )"
   ]
  },
  {
   "cell_type": "markdown",
   "metadata": {},
   "source": [
    "<h1> 4.  Pipelining </h1>\n",
    "<h2> 4.1 Column specific pipeline </h2>"
   ]
  },
  {
   "cell_type": "code",
   "execution_count": 16,
   "metadata": {},
   "outputs": [],
   "source": [
    "engineering_func = ColumnTransformer(\n",
    "    transformers=[\n",
    "        ('loger', log_func, ['FX_EURONOK']),\n",
    "    ], remainder='passthrough')"
   ]
  },
  {
   "cell_type": "markdown",
   "metadata": {},
   "source": [
    "<h2> 4.2 Total pipeline </h2>"
   ]
  },
  {
   "cell_type": "code",
   "execution_count": 17,
   "metadata": {},
   "outputs": [],
   "source": [
    "X_val_corr = pd.concat([X_train[-15:],X_val])\n",
    "X_test_corr = pd.concat([X_val[-15:],X_test])"
   ]
  },
  {
   "cell_type": "code",
   "execution_count": 18,
   "metadata": {},
   "outputs": [
    {
     "name": "stdout",
     "output_type": "stream",
     "text": [
      "(946, 14, 109)\n",
      "(106, 14, 109)\n",
      "(106, 14, 109)\n"
     ]
    }
   ],
   "source": [
    "pipe = Pipeline(steps=[\n",
    "    ('det', time_func),\n",
    "    ('ind', indicator_func),\n",
    "    ('lag', lagged_func),\n",
    "    ('Col_spec', engineering_func),\n",
    "    ('zScore_func', zScore_func),\n",
    "    ('res', reshape_func)\n",
    "    # ('lstm', model)\n",
    "])\n",
    "\n",
    "\n",
    "pipe.set_params(\n",
    "                det__kw_args={'startValue':0},\n",
    "                lag__kw_args={'target':y_train},\n",
    "                res__kw_args={'timeSteps':13}\n",
    "                )\n",
    "X_train_preprocessed  = pipe.fit_transform(X_train)\n",
    "\n",
    "pipe.set_params(det__kw_args={'startValue':960}, \n",
    "                lag__kw_args={'target':y_val},\n",
    "                res__kw_args={'timeSteps':13})\n",
    "X_val_preprocessed  = pipe.transform(X_val_corr)\n",
    "\n",
    "pipe.set_params(det__kw_args={'startValue':1080}, \n",
    "                lag__kw_args={'target': y_test},\n",
    "                res__kw_args={'timeSteps':13})\n",
    "X_test_preprocessed  = pipe.transform(X_test_corr)\n"
   ]
  },
  {
   "cell_type": "code",
   "execution_count": 19,
   "metadata": {},
   "outputs": [],
   "source": [
    "# target_scaler = StandardScaler()\n",
    "# y_train_pre = target_scaler.fit_transform(np.array([y_train[14:]]).T)\n",
    "# y_val_pre = target_scaler.transform(np.array([y_val[14:]]).T)\n",
    "# y_test_pre = target_scaler.transform(np.array([y_test[14:]]).T)\n",
    "\n",
    "y_train_pre = y_train[14:]\n",
    "y_val_pre = y_val[14:]\n",
    "y_test_pre =y_test[14:]"
   ]
  },
  {
   "cell_type": "markdown",
   "metadata": {},
   "source": [
    "<h1> X. Rest are drafts.. </h1>"
   ]
  },
  {
   "cell_type": "code",
   "execution_count": 20,
   "metadata": {},
   "outputs": [],
   "source": [
    "# def rolling_window_cross_val(model, metric):\n",
    "#     X = np.concatenate((X_train_preprocessed,X_val_preprocessed),axis=0)\n",
    "#     y = np.concatenate((y_train_pre,y_val_pre),axis=0)\n",
    "\n",
    "\n",
    "#     scores = []\n",
    "#     for i in range(0,3,1):\n",
    "#         sel_X = X[int(i*0.316*X.shape[0]):int((i+1)*0.316*X.shape[0])]\n",
    "#         sel_y = y[int(i*0.316*y.shape[0]):int((i+1)*0.316*y.shape[0])]\n",
    "\n",
    "#         sel_X_test = X[int(i*(0.316+0.05)*X.shape[0]):int((i+1)*(0.316+0.05)*X.shape[0])]\n",
    "#         sel_y_test = y[int(i*(0.316+0.05)*y.shape[0]):int((i+1)*(0.316+0.05)*y.shape[0])]\n",
    "    \n",
    "#         model.fit(sel_X,sel_y,\n",
    "#                 epochs=500, batch_size=60,\n",
    "#                 validation_data=[sel_X_test, sel_y_test],\n",
    "#                 callbacks=early_stopping, verbose=False)        \n",
    "#         pred = model.predict(sel_X_test)\n",
    "#         score = metric(pred, sel_y_test)\n",
    "#         scores.append(score)\n",
    "    \n",
    "#     return [np.mean(scores),model]\n",
    "\n",
    "# cv_result = rolling_window_cross_val(model,  MAE)\n"
   ]
  },
  {
   "cell_type": "markdown",
   "metadata": {},
   "source": [
    "<h1> Large tuner"
   ]
  },
  {
   "cell_type": "code",
   "execution_count": 21,
   "metadata": {},
   "outputs": [],
   "source": [
    "def build_model(hp):\n",
    "    model = keras.Sequential([\n",
    "        layers.Input(shape=(14,109), name='input_layer'),\n",
    "        layers.LSTM(\n",
    "            units = hp.Int(name='hp1', min_value=50, max_value= 300, step=50),\n",
    "            return_sequences=True),\n",
    "        layers.LSTM(\n",
    "            units = hp.Int(name='hp2', min_value=50, max_value= 300, step=50)),\n",
    "\n",
    "        layers.Dense(units = hp.Int(name='hp3', min_value=50, max_value= 950, step=90),\n",
    "                      activation=hp.Choice(\"activation1\", [\"relu\", \"gelu\"])\n",
    "                      ),\n",
    "\n",
    "        layers.BatchNormalization(),\n",
    "\n",
    "        layers.Dropout(hp.Float(name='hp4',min_value=0.1, max_value=0.5, step=0.1)),\n",
    "\n",
    "        layers.Dense(units = hp.Int(name='hp5', min_value=50, max_value= 950, step=9),\n",
    "                      activation=hp.Choice('activation2', [\"relu\", \"selu\"])\n",
    "                      ),\n",
    "\n",
    "        layers.Dropout(hp.Float(name='hp7',min_value=0.0, max_value=0.45, step=0.15)),\n",
    "\n",
    "        layers.Dense(units = hp.Int(name='hp8', min_value=50, max_value= 950, step=90),\n",
    "                      activation=hp.Choice('activation3', [\"selu\",\"gelu\"])\n",
    "                    ),\n",
    "\n",
    "        layers.Dropout(hp.Float(name='hp10',min_value=0.0, max_value=0.45, step=0.15)),\n",
    "\n",
    "        layers.BatchNormalization(),\n",
    "\n",
    "        layers.Dense(units = hp.Int(name='hp11', min_value=50, max_value= 2000, step=90),\n",
    "                      activation=hp.Choice('activation4', [\"silu\", \"selu\"])),\n",
    "\n",
    "        layers.BatchNormalization(),\n",
    "\n",
    "        layers.Dropout(hp.Float(name='hp12',min_value=0.0, max_value=0.45, step=0.15)),\n",
    "\n",
    "        # layers.Dense(units = hp.Int(name='hp13', min_value=50, max_value= 950, step=9),\n",
    "        #               activation=hp.Choice('activation5', [\"relu\", \"gelu\"])),\n",
    "\n",
    "        layers.Dense(units = hp.Int(name='hp14', min_value=50, max_value= 950, step=90),\n",
    "                       activation=hp.Choice('activation6', [\"relu\"])),\n",
    "\n",
    "        layers.Dense(1)\n",
    "    ])\n",
    "\n",
    "    optimizer = RMSprop(learning_rate=hp.Float(name='lr', min_value=0.0005, max_value=0.02, step=0.001))\n",
    "\n",
    "    model.compile(optimizer=optimizer, \n",
    "                  loss = 'mae')\n",
    "    return model"
   ]
  },
  {
   "cell_type": "code",
   "execution_count": 22,
   "metadata": {},
   "outputs": [],
   "source": [
    "# tf.random.set_seed(42)\n",
    "# random.seed(42)\n",
    "# np.random.seed(42)\n",
    "\n",
    "\n",
    "# tuner = keras_tuner.RandomSearch(\n",
    "#     hypermodel=build_model,\n",
    "#     objective='val_loss',\n",
    "#     max_trials=200,\n",
    "#     executions_per_trial=2,\n",
    "#     overwrite=True,\n",
    "#     directory='latenight',\n",
    "#     project_name='finalrun'\n",
    "# )\n",
    "\n",
    "# tuner_callback=EarlyStopping(monitor='val_loss',\n",
    "#                             min_delta=0.001, \n",
    "#                             patience=30,\n",
    "#                             restore_best_weights=True)\n",
    "\n",
    "# tuner.search(X_train_preprocessed, y_train_pre,\n",
    "#              epochs=120, batch_size=60,\n",
    "#              validation_data=(X_val_preprocessed,y_val_pre),\n",
    "#              callbacks=[tuner_callback])"
   ]
  },
  {
   "cell_type": "code",
   "execution_count": 23,
   "metadata": {},
   "outputs": [],
   "source": [
    "# models = tuner.get_best_models(num_models=1)\n",
    "# models[0].summary()\n",
    "# final_model = models[0]"
   ]
  },
  {
   "cell_type": "markdown",
   "metadata": {},
   "source": [
    "<h1> Fine tuned with the general tuned </h1>"
   ]
  },
  {
   "cell_type": "code",
   "execution_count": 24,
   "metadata": {},
   "outputs": [],
   "source": [
    "\n",
    "# def build_model_fine(hp):\n",
    "#     model = keras.Sequential([\n",
    "#         layers.Input(shape=(14,109), name='input_layer'),\n",
    "#         layers.LSTM(\n",
    "#             units = hp.Int(name='hp1', min_value=220, max_value= 280, step=20),\n",
    "#             return_sequences=True),\n",
    "#         layers.LSTM(\n",
    "#             units = hp.Int(name='hp2', min_value=100, max_value= 200, step=25)),\n",
    "\n",
    "#         layers.Dense(units = hp.Int(name='hp3', min_value=50, max_value= 950, step=9),\n",
    "#                       activation=hp.Choice(\"activation1\", [\"relu\", \"gelu\"])\n",
    "#                       ),\n",
    "\n",
    "#         layers.BatchNormalization(),\n",
    "\n",
    "#         layers.Dropout(hp.Float(name='hp4',min_value=0.1, max_value=0.5, step=0.1)),\n",
    "\n",
    "#         layers.Dense(units = hp.Int(name='hp5', min_value=450, max_value= 550, step=25),\n",
    "#                       activation=hp.Choice('activation2', [\"relu\", \"selu\"])\n",
    "#                       ),\n",
    "\n",
    "#         layers.Dropout(hp.Float(name='hp7',min_value=0.0, max_value=0.45, step=0.15)),\n",
    "\n",
    "#         layers.Dense(units = hp.Int(name='hp8', min_value=270, max_value= 330, step=20),\n",
    "#                       activation=hp.Choice('activation3', [\"selu\",\"gelu\"])\n",
    "#                     ),\n",
    "#         layers.Dropout(hp.Float(name='hp9',min_value=0.0, max_value=0.45, step=0.15)),\n",
    "\n",
    "#         layers.BatchNormalization(),\n",
    "\n",
    "#         layers.Dense(units = hp.Int(name='hp10', min_value=700, max_value= 900, step=40),\n",
    "#                       activation=hp.Choice('activation4', [\"silu\", \"selu\"])),\n",
    "\n",
    "#         layers.BatchNormalization(),\n",
    "\n",
    "#         layers.Dropout(hp.Float(name='hp11',min_value=0.0, max_value=0.45, step=0.15)),\n",
    "\n",
    "#         layers.Dense(units = hp.Int(name='hp12', min_value=800, max_value=900, step=25),\n",
    "#                       activation=hp.Choice('activation5', [\"relu\", \"gelu\"])),\n",
    "\n",
    "#         layers.Dense(units = hp.Int(name='hp13', min_value=80, max_value= 120, step=10),\n",
    "#                        activation=hp.Choice('activation6', [\"relu\"])),\n",
    "\n",
    "#         layers.Dense(1)\n",
    "#     ])\n",
    "\n",
    "#     optimizer = RMSprop(learning_rate=hp.Float(name='lr', min_value=0.001, max_value=0.05, step=0.005))\n",
    "#     model.compile(optimizer=optimizer,\n",
    "#                 loss = 'mae')\n",
    "#     return model"
   ]
  },
  {
   "cell_type": "code",
   "execution_count": 25,
   "metadata": {},
   "outputs": [],
   "source": [
    "# tuner_fine = keras_tuner.RandomSearch(\n",
    "#     hypermodel=build_model_fine,\n",
    "#     objective='val_loss',\n",
    "#     max_trials=10,\n",
    "#     executions_per_trial=2,\n",
    "#     overwrite=True,\n",
    "#     directory='fine_tune',\n",
    "#     project_name='finalrun_tune'\n",
    "# )\n",
    "\n",
    "# tuner_callback=EarlyStopping(monitor='val_loss',\n",
    "#                             min_delta=0.01, \n",
    "#                             patience=30,\n",
    "#                             restore_best_weights=True)\n",
    "\n",
    "# tuner_fine.search(X_train_preprocessed, y_train_pre,\n",
    "#                 epochs=80, batch_size=60,\n",
    "#                 validation_data=(X_val_preprocessed,y_val_pre),\n",
    "#                 callbacks=[tuner_callback])"
   ]
  },
  {
   "cell_type": "markdown",
   "metadata": {},
   "source": [
    "<h1> Last run of the model with many epochs and batches"
   ]
  },
  {
   "cell_type": "code",
   "execution_count": 26,
   "metadata": {},
   "outputs": [],
   "source": [
    "# best_models = tuner_fine.get_best_models(num_models=1)\n",
    "# final_final_model = best_models[0]"
   ]
  },
  {
   "cell_type": "code",
   "execution_count": 27,
   "metadata": {},
   "outputs": [],
   "source": [
    "# final_final_model.summary()"
   ]
  },
  {
   "cell_type": "code",
   "execution_count": 31,
   "metadata": {},
   "outputs": [
    {
     "name": "stdout",
     "output_type": "stream",
     "text": [
      "Epoch 1/120\n",
      "\u001b[1m16/16\u001b[0m \u001b[32m━━━━━━━━━━━━━━━━━━━━\u001b[0m\u001b[37m\u001b[0m \u001b[1m9s\u001b[0m 148ms/step - loss: 8827.9639 - val_loss: 28900.4004\n",
      "Epoch 2/120\n",
      "\u001b[1m16/16\u001b[0m \u001b[32m━━━━━━━━━━━━━━━━━━━━\u001b[0m\u001b[37m\u001b[0m \u001b[1m1s\u001b[0m 83ms/step - loss: 4248.6240 - val_loss: 16310.1914\n",
      "Epoch 3/120\n",
      "\u001b[1m16/16\u001b[0m \u001b[32m━━━━━━━━━━━━━━━━━━━━\u001b[0m\u001b[37m\u001b[0m \u001b[1m1s\u001b[0m 84ms/step - loss: 3826.0701 - val_loss: 3918.6633\n",
      "Epoch 4/120\n",
      "\u001b[1m16/16\u001b[0m \u001b[32m━━━━━━━━━━━━━━━━━━━━\u001b[0m\u001b[37m\u001b[0m \u001b[1m1s\u001b[0m 82ms/step - loss: 3779.6707 - val_loss: 8288.0703\n",
      "Epoch 5/120\n",
      "\u001b[1m16/16\u001b[0m \u001b[32m━━━━━━━━━━━━━━━━━━━━\u001b[0m\u001b[37m\u001b[0m \u001b[1m1s\u001b[0m 81ms/step - loss: 2907.5884 - val_loss: 8840.8789\n",
      "Epoch 6/120\n",
      "\u001b[1m16/16\u001b[0m \u001b[32m━━━━━━━━━━━━━━━━━━━━\u001b[0m\u001b[37m\u001b[0m \u001b[1m1s\u001b[0m 90ms/step - loss: 2979.5830 - val_loss: 7386.5850\n",
      "Epoch 7/120\n",
      "\u001b[1m16/16\u001b[0m \u001b[32m━━━━━━━━━━━━━━━━━━━━\u001b[0m\u001b[37m\u001b[0m \u001b[1m1s\u001b[0m 82ms/step - loss: 2594.7000 - val_loss: 2889.3020\n",
      "Epoch 8/120\n",
      "\u001b[1m16/16\u001b[0m \u001b[32m━━━━━━━━━━━━━━━━━━━━\u001b[0m\u001b[37m\u001b[0m \u001b[1m1s\u001b[0m 72ms/step - loss: 2353.6274 - val_loss: 5249.2109\n",
      "Epoch 9/120\n",
      "\u001b[1m16/16\u001b[0m \u001b[32m━━━━━━━━━━━━━━━━━━━━\u001b[0m\u001b[37m\u001b[0m \u001b[1m1s\u001b[0m 89ms/step - loss: 2503.8391 - val_loss: 3392.6155\n",
      "Epoch 10/120\n",
      "\u001b[1m16/16\u001b[0m \u001b[32m━━━━━━━━━━━━━━━━━━━━\u001b[0m\u001b[37m\u001b[0m \u001b[1m2s\u001b[0m 107ms/step - loss: 2386.0471 - val_loss: 4259.3286\n",
      "Epoch 11/120\n",
      "\u001b[1m16/16\u001b[0m \u001b[32m━━━━━━━━━━━━━━━━━━━━\u001b[0m\u001b[37m\u001b[0m \u001b[1m1s\u001b[0m 91ms/step - loss: 2479.8140 - val_loss: 3741.7029\n",
      "Epoch 12/120\n",
      "\u001b[1m16/16\u001b[0m \u001b[32m━━━━━━━━━━━━━━━━━━━━\u001b[0m\u001b[37m\u001b[0m \u001b[1m1s\u001b[0m 84ms/step - loss: 2239.8765 - val_loss: 4352.5718\n",
      "Epoch 13/120\n",
      "\u001b[1m16/16\u001b[0m \u001b[32m━━━━━━━━━━━━━━━━━━━━\u001b[0m\u001b[37m\u001b[0m \u001b[1m1s\u001b[0m 80ms/step - loss: 2123.2971 - val_loss: 7811.4033\n",
      "Epoch 14/120\n",
      "\u001b[1m16/16\u001b[0m \u001b[32m━━━━━━━━━━━━━━━━━━━━\u001b[0m\u001b[37m\u001b[0m \u001b[1m1s\u001b[0m 74ms/step - loss: 2329.5688 - val_loss: 3620.6282\n",
      "Epoch 15/120\n",
      "\u001b[1m16/16\u001b[0m \u001b[32m━━━━━━━━━━━━━━━━━━━━\u001b[0m\u001b[37m\u001b[0m \u001b[1m1s\u001b[0m 74ms/step - loss: 1826.3599 - val_loss: 3575.7271\n",
      "Epoch 16/120\n",
      "\u001b[1m16/16\u001b[0m \u001b[32m━━━━━━━━━━━━━━━━━━━━\u001b[0m\u001b[37m\u001b[0m \u001b[1m1s\u001b[0m 67ms/step - loss: 2234.3679 - val_loss: 3898.4375\n",
      "Epoch 17/120\n",
      "\u001b[1m16/16\u001b[0m \u001b[32m━━━━━━━━━━━━━━━━━━━━\u001b[0m\u001b[37m\u001b[0m \u001b[1m1s\u001b[0m 70ms/step - loss: 1954.8323 - val_loss: 2875.0464\n",
      "Epoch 18/120\n",
      "\u001b[1m16/16\u001b[0m \u001b[32m━━━━━━━━━━━━━━━━━━━━\u001b[0m\u001b[37m\u001b[0m \u001b[1m1s\u001b[0m 85ms/step - loss: 2002.4534 - val_loss: 3681.9871\n",
      "Epoch 19/120\n",
      "\u001b[1m16/16\u001b[0m \u001b[32m━━━━━━━━━━━━━━━━━━━━\u001b[0m\u001b[37m\u001b[0m \u001b[1m1s\u001b[0m 72ms/step - loss: 1846.0782 - val_loss: 3778.0508\n",
      "Epoch 20/120\n",
      "\u001b[1m16/16\u001b[0m \u001b[32m━━━━━━━━━━━━━━━━━━━━\u001b[0m\u001b[37m\u001b[0m \u001b[1m1s\u001b[0m 74ms/step - loss: 1926.7786 - val_loss: 5493.6997\n",
      "Epoch 21/120\n",
      "\u001b[1m16/16\u001b[0m \u001b[32m━━━━━━━━━━━━━━━━━━━━\u001b[0m\u001b[37m\u001b[0m \u001b[1m1s\u001b[0m 76ms/step - loss: 2064.4268 - val_loss: 5264.3750\n",
      "Epoch 22/120\n",
      "\u001b[1m16/16\u001b[0m \u001b[32m━━━━━━━━━━━━━━━━━━━━\u001b[0m\u001b[37m\u001b[0m \u001b[1m1s\u001b[0m 70ms/step - loss: 1831.7780 - val_loss: 3663.5693\n",
      "Epoch 23/120\n",
      "\u001b[1m16/16\u001b[0m \u001b[32m━━━━━━━━━━━━━━━━━━━━\u001b[0m\u001b[37m\u001b[0m \u001b[1m1s\u001b[0m 70ms/step - loss: 1661.6876 - val_loss: 2928.8167\n",
      "Epoch 24/120\n",
      "\u001b[1m16/16\u001b[0m \u001b[32m━━━━━━━━━━━━━━━━━━━━\u001b[0m\u001b[37m\u001b[0m \u001b[1m1s\u001b[0m 73ms/step - loss: 1790.2045 - val_loss: 4198.7056\n",
      "Epoch 25/120\n",
      "\u001b[1m16/16\u001b[0m \u001b[32m━━━━━━━━━━━━━━━━━━━━\u001b[0m\u001b[37m\u001b[0m \u001b[1m1s\u001b[0m 69ms/step - loss: 1820.6362 - val_loss: 2835.9763\n",
      "Epoch 26/120\n",
      "\u001b[1m16/16\u001b[0m \u001b[32m━━━━━━━━━━━━━━━━━━━━\u001b[0m\u001b[37m\u001b[0m \u001b[1m1s\u001b[0m 79ms/step - loss: 1643.3862 - val_loss: 5599.2896\n",
      "Epoch 27/120\n",
      "\u001b[1m16/16\u001b[0m \u001b[32m━━━━━━━━━━━━━━━━━━━━\u001b[0m\u001b[37m\u001b[0m \u001b[1m2s\u001b[0m 98ms/step - loss: 1794.3690 - val_loss: 3344.3767\n",
      "Epoch 28/120\n",
      "\u001b[1m16/16\u001b[0m \u001b[32m━━━━━━━━━━━━━━━━━━━━\u001b[0m\u001b[37m\u001b[0m \u001b[1m1s\u001b[0m 78ms/step - loss: 1629.9803 - val_loss: 2546.3708\n",
      "Epoch 29/120\n",
      "\u001b[1m16/16\u001b[0m \u001b[32m━━━━━━━━━━━━━━━━━━━━\u001b[0m\u001b[37m\u001b[0m \u001b[1m1s\u001b[0m 76ms/step - loss: 1763.1808 - val_loss: 4128.0557\n",
      "Epoch 30/120\n",
      "\u001b[1m16/16\u001b[0m \u001b[32m━━━━━━━━━━━━━━━━━━━━\u001b[0m\u001b[37m\u001b[0m \u001b[1m1s\u001b[0m 76ms/step - loss: 1720.6561 - val_loss: 2299.9158\n",
      "Epoch 31/120\n",
      "\u001b[1m16/16\u001b[0m \u001b[32m━━━━━━━━━━━━━━━━━━━━\u001b[0m\u001b[37m\u001b[0m \u001b[1m1s\u001b[0m 78ms/step - loss: 1734.5825 - val_loss: 4706.7246\n",
      "Epoch 32/120\n",
      "\u001b[1m16/16\u001b[0m \u001b[32m━━━━━━━━━━━━━━━━━━━━\u001b[0m\u001b[37m\u001b[0m \u001b[1m1s\u001b[0m 82ms/step - loss: 1929.8501 - val_loss: 2611.8604\n",
      "Epoch 33/120\n",
      "\u001b[1m16/16\u001b[0m \u001b[32m━━━━━━━━━━━━━━━━━━━━\u001b[0m\u001b[37m\u001b[0m \u001b[1m1s\u001b[0m 72ms/step - loss: 1798.1721 - val_loss: 2780.4370\n",
      "Epoch 34/120\n",
      "\u001b[1m16/16\u001b[0m \u001b[32m━━━━━━━━━━━━━━━━━━━━\u001b[0m\u001b[37m\u001b[0m \u001b[1m1s\u001b[0m 66ms/step - loss: 1520.8096 - val_loss: 2484.6562\n",
      "Epoch 35/120\n",
      "\u001b[1m16/16\u001b[0m \u001b[32m━━━━━━━━━━━━━━━━━━━━\u001b[0m\u001b[37m\u001b[0m \u001b[1m1s\u001b[0m 71ms/step - loss: 1637.8705 - val_loss: 2873.2847\n",
      "Epoch 36/120\n",
      "\u001b[1m16/16\u001b[0m \u001b[32m━━━━━━━━━━━━━━━━━━━━\u001b[0m\u001b[37m\u001b[0m \u001b[1m1s\u001b[0m 76ms/step - loss: 1609.1592 - val_loss: 3313.3113\n",
      "Epoch 37/120\n",
      "\u001b[1m16/16\u001b[0m \u001b[32m━━━━━━━━━━━━━━━━━━━━\u001b[0m\u001b[37m\u001b[0m \u001b[1m1s\u001b[0m 71ms/step - loss: 1753.5325 - val_loss: 2441.5530\n",
      "Epoch 38/120\n",
      "\u001b[1m16/16\u001b[0m \u001b[32m━━━━━━━━━━━━━━━━━━━━\u001b[0m\u001b[37m\u001b[0m \u001b[1m1s\u001b[0m 80ms/step - loss: 1566.0376 - val_loss: 3634.9119\n",
      "Epoch 39/120\n",
      "\u001b[1m16/16\u001b[0m \u001b[32m━━━━━━━━━━━━━━━━━━━━\u001b[0m\u001b[37m\u001b[0m \u001b[1m1s\u001b[0m 84ms/step - loss: 1603.6388 - val_loss: 4785.6909\n",
      "Epoch 40/120\n",
      "\u001b[1m16/16\u001b[0m \u001b[32m━━━━━━━━━━━━━━━━━━━━\u001b[0m\u001b[37m\u001b[0m \u001b[1m1s\u001b[0m 74ms/step - loss: 1812.6101 - val_loss: 3447.1650\n",
      "Epoch 41/120\n",
      "\u001b[1m16/16\u001b[0m \u001b[32m━━━━━━━━━━━━━━━━━━━━\u001b[0m\u001b[37m\u001b[0m \u001b[1m1s\u001b[0m 77ms/step - loss: 1560.7827 - val_loss: 2483.5979\n",
      "Epoch 42/120\n",
      "\u001b[1m16/16\u001b[0m \u001b[32m━━━━━━━━━━━━━━━━━━━━\u001b[0m\u001b[37m\u001b[0m \u001b[1m1s\u001b[0m 76ms/step - loss: 1719.1195 - val_loss: 3042.0808\n",
      "Epoch 43/120\n",
      "\u001b[1m16/16\u001b[0m \u001b[32m━━━━━━━━━━━━━━━━━━━━\u001b[0m\u001b[37m\u001b[0m \u001b[1m1s\u001b[0m 74ms/step - loss: 1482.6501 - val_loss: 2352.2527\n",
      "Epoch 44/120\n",
      "\u001b[1m16/16\u001b[0m \u001b[32m━━━━━━━━━━━━━━━━━━━━\u001b[0m\u001b[37m\u001b[0m \u001b[1m1s\u001b[0m 70ms/step - loss: 1661.9987 - val_loss: 2724.0195\n",
      "Epoch 45/120\n",
      "\u001b[1m16/16\u001b[0m \u001b[32m━━━━━━━━━━━━━━━━━━━━\u001b[0m\u001b[37m\u001b[0m \u001b[1m1s\u001b[0m 73ms/step - loss: 1584.3606 - val_loss: 2639.7556\n",
      "Epoch 46/120\n",
      "\u001b[1m16/16\u001b[0m \u001b[32m━━━━━━━━━━━━━━━━━━━━\u001b[0m\u001b[37m\u001b[0m \u001b[1m1s\u001b[0m 71ms/step - loss: 1735.0173 - val_loss: 2601.6460\n",
      "Epoch 47/120\n",
      "\u001b[1m16/16\u001b[0m \u001b[32m━━━━━━━━━━━━━━━━━━━━\u001b[0m\u001b[37m\u001b[0m \u001b[1m1s\u001b[0m 68ms/step - loss: 1433.1395 - val_loss: 3702.2290\n",
      "Epoch 48/120\n",
      "\u001b[1m16/16\u001b[0m \u001b[32m━━━━━━━━━━━━━━━━━━━━\u001b[0m\u001b[37m\u001b[0m \u001b[1m1s\u001b[0m 70ms/step - loss: 1564.8456 - val_loss: 2599.8584\n",
      "Epoch 49/120\n",
      "\u001b[1m16/16\u001b[0m \u001b[32m━━━━━━━━━━━━━━━━━━━━\u001b[0m\u001b[37m\u001b[0m \u001b[1m1s\u001b[0m 68ms/step - loss: 1426.1716 - val_loss: 3181.2021\n",
      "Epoch 50/120\n",
      "\u001b[1m16/16\u001b[0m \u001b[32m━━━━━━━━━━━━━━━━━━━━\u001b[0m\u001b[37m\u001b[0m \u001b[1m1s\u001b[0m 71ms/step - loss: 1499.3035 - val_loss: 2495.5527\n",
      "Epoch 51/120\n",
      "\u001b[1m16/16\u001b[0m \u001b[32m━━━━━━━━━━━━━━━━━━━━\u001b[0m\u001b[37m\u001b[0m \u001b[1m1s\u001b[0m 70ms/step - loss: 1534.1165 - val_loss: 2825.3667\n",
      "Epoch 52/120\n",
      "\u001b[1m16/16\u001b[0m \u001b[32m━━━━━━━━━━━━━━━━━━━━\u001b[0m\u001b[37m\u001b[0m \u001b[1m1s\u001b[0m 69ms/step - loss: 1439.7200 - val_loss: 3051.0229\n",
      "Epoch 53/120\n",
      "\u001b[1m16/16\u001b[0m \u001b[32m━━━━━━━━━━━━━━━━━━━━\u001b[0m\u001b[37m\u001b[0m \u001b[1m1s\u001b[0m 69ms/step - loss: 1507.5516 - val_loss: 3668.0967\n",
      "Epoch 54/120\n",
      "\u001b[1m16/16\u001b[0m \u001b[32m━━━━━━━━━━━━━━━━━━━━\u001b[0m\u001b[37m\u001b[0m \u001b[1m1s\u001b[0m 72ms/step - loss: 1478.9320 - val_loss: 2660.8950\n",
      "Epoch 55/120\n",
      "\u001b[1m16/16\u001b[0m \u001b[32m━━━━━━━━━━━━━━━━━━━━\u001b[0m\u001b[37m\u001b[0m \u001b[1m1s\u001b[0m 68ms/step - loss: 1514.7583 - val_loss: 2356.7917\n",
      "Epoch 56/120\n",
      "\u001b[1m16/16\u001b[0m \u001b[32m━━━━━━━━━━━━━━━━━━━━\u001b[0m\u001b[37m\u001b[0m \u001b[1m1s\u001b[0m 71ms/step - loss: 1419.8500 - val_loss: 2663.8069\n",
      "Epoch 57/120\n",
      "\u001b[1m16/16\u001b[0m \u001b[32m━━━━━━━━━━━━━━━━━━━━\u001b[0m\u001b[37m\u001b[0m \u001b[1m1s\u001b[0m 70ms/step - loss: 1467.2959 - val_loss: 2499.2974\n",
      "Epoch 58/120\n",
      "\u001b[1m16/16\u001b[0m \u001b[32m━━━━━━━━━━━━━━━━━━━━\u001b[0m\u001b[37m\u001b[0m \u001b[1m1s\u001b[0m 74ms/step - loss: 1621.5828 - val_loss: 2172.4834\n",
      "Epoch 59/120\n",
      "\u001b[1m16/16\u001b[0m \u001b[32m━━━━━━━━━━━━━━━━━━━━\u001b[0m\u001b[37m\u001b[0m \u001b[1m1s\u001b[0m 71ms/step - loss: 1404.0841 - val_loss: 2245.8477\n",
      "Epoch 60/120\n",
      "\u001b[1m16/16\u001b[0m \u001b[32m━━━━━━━━━━━━━━━━━━━━\u001b[0m\u001b[37m\u001b[0m \u001b[1m1s\u001b[0m 71ms/step - loss: 1559.2169 - val_loss: 2859.0100\n",
      "Epoch 61/120\n",
      "\u001b[1m16/16\u001b[0m \u001b[32m━━━━━━━━━━━━━━━━━━━━\u001b[0m\u001b[37m\u001b[0m \u001b[1m1s\u001b[0m 69ms/step - loss: 1395.7330 - val_loss: 2195.0264\n",
      "Epoch 62/120\n",
      "\u001b[1m16/16\u001b[0m \u001b[32m━━━━━━━━━━━━━━━━━━━━\u001b[0m\u001b[37m\u001b[0m \u001b[1m1s\u001b[0m 71ms/step - loss: 1553.7074 - val_loss: 3319.9841\n",
      "Epoch 63/120\n",
      "\u001b[1m16/16\u001b[0m \u001b[32m━━━━━━━━━━━━━━━━━━━━\u001b[0m\u001b[37m\u001b[0m \u001b[1m1s\u001b[0m 71ms/step - loss: 1615.6742 - val_loss: 2442.1145\n",
      "Epoch 64/120\n",
      "\u001b[1m16/16\u001b[0m \u001b[32m━━━━━━━━━━━━━━━━━━━━\u001b[0m\u001b[37m\u001b[0m \u001b[1m1s\u001b[0m 73ms/step - loss: 1442.8000 - val_loss: 2328.5312\n",
      "Epoch 65/120\n",
      "\u001b[1m16/16\u001b[0m \u001b[32m━━━━━━━━━━━━━━━━━━━━\u001b[0m\u001b[37m\u001b[0m \u001b[1m1s\u001b[0m 71ms/step - loss: 1473.9116 - val_loss: 2458.5051\n",
      "Epoch 66/120\n",
      "\u001b[1m16/16\u001b[0m \u001b[32m━━━━━━━━━━━━━━━━━━━━\u001b[0m\u001b[37m\u001b[0m \u001b[1m1s\u001b[0m 71ms/step - loss: 1312.6370 - val_loss: 3174.4229\n",
      "Epoch 67/120\n",
      "\u001b[1m16/16\u001b[0m \u001b[32m━━━━━━━━━━━━━━━━━━━━\u001b[0m\u001b[37m\u001b[0m \u001b[1m1s\u001b[0m 69ms/step - loss: 1561.8654 - val_loss: 2587.3215\n",
      "Epoch 68/120\n",
      "\u001b[1m16/16\u001b[0m \u001b[32m━━━━━━━━━━━━━━━━━━━━\u001b[0m\u001b[37m\u001b[0m \u001b[1m1s\u001b[0m 69ms/step - loss: 1273.5120 - val_loss: 2327.4722\n",
      "Epoch 69/120\n",
      "\u001b[1m16/16\u001b[0m \u001b[32m━━━━━━━━━━━━━━━━━━━━\u001b[0m\u001b[37m\u001b[0m \u001b[1m1s\u001b[0m 73ms/step - loss: 1363.6779 - val_loss: 2556.4551\n",
      "Epoch 70/120\n",
      "\u001b[1m16/16\u001b[0m \u001b[32m━━━━━━━━━━━━━━━━━━━━\u001b[0m\u001b[37m\u001b[0m \u001b[1m1s\u001b[0m 71ms/step - loss: 1391.8019 - val_loss: 2559.2654\n",
      "Epoch 71/120\n",
      "\u001b[1m16/16\u001b[0m \u001b[32m━━━━━━━━━━━━━━━━━━━━\u001b[0m\u001b[37m\u001b[0m \u001b[1m1s\u001b[0m 72ms/step - loss: 1348.5092 - val_loss: 2382.0847\n",
      "Epoch 72/120\n",
      "\u001b[1m16/16\u001b[0m \u001b[32m━━━━━━━━━━━━━━━━━━━━\u001b[0m\u001b[37m\u001b[0m \u001b[1m1s\u001b[0m 72ms/step - loss: 1478.4274 - val_loss: 2903.5820\n",
      "Epoch 73/120\n",
      "\u001b[1m16/16\u001b[0m \u001b[32m━━━━━━━━━━━━━━━━━━━━\u001b[0m\u001b[37m\u001b[0m \u001b[1m1s\u001b[0m 69ms/step - loss: 1400.1746 - val_loss: 2607.0366\n",
      "Epoch 74/120\n",
      "\u001b[1m16/16\u001b[0m \u001b[32m━━━━━━━━━━━━━━━━━━━━\u001b[0m\u001b[37m\u001b[0m \u001b[1m1s\u001b[0m 72ms/step - loss: 1241.6361 - val_loss: 2722.0330\n",
      "Epoch 75/120\n",
      "\u001b[1m16/16\u001b[0m \u001b[32m━━━━━━━━━━━━━━━━━━━━\u001b[0m\u001b[37m\u001b[0m \u001b[1m1s\u001b[0m 68ms/step - loss: 1281.2871 - val_loss: 2477.1943\n",
      "Epoch 76/120\n",
      "\u001b[1m16/16\u001b[0m \u001b[32m━━━━━━━━━━━━━━━━━━━━\u001b[0m\u001b[37m\u001b[0m \u001b[1m1s\u001b[0m 66ms/step - loss: 1392.0994 - val_loss: 2640.9622\n",
      "Epoch 77/120\n",
      "\u001b[1m16/16\u001b[0m \u001b[32m━━━━━━━━━━━━━━━━━━━━\u001b[0m\u001b[37m\u001b[0m \u001b[1m1s\u001b[0m 69ms/step - loss: 1340.9845 - val_loss: 2491.0601\n",
      "Epoch 78/120\n",
      "\u001b[1m16/16\u001b[0m \u001b[32m━━━━━━━━━━━━━━━━━━━━\u001b[0m\u001b[37m\u001b[0m \u001b[1m1s\u001b[0m 73ms/step - loss: 1328.7811 - val_loss: 2443.4380\n",
      "Epoch 79/120\n",
      "\u001b[1m16/16\u001b[0m \u001b[32m━━━━━━━━━━━━━━━━━━━━\u001b[0m\u001b[37m\u001b[0m \u001b[1m1s\u001b[0m 70ms/step - loss: 1613.1138 - val_loss: 2731.4604\n",
      "Epoch 80/120\n",
      "\u001b[1m16/16\u001b[0m \u001b[32m━━━━━━━━━━━━━━━━━━━━\u001b[0m\u001b[37m\u001b[0m \u001b[1m1s\u001b[0m 71ms/step - loss: 1449.1746 - val_loss: 2592.0574\n",
      "Epoch 81/120\n",
      "\u001b[1m16/16\u001b[0m \u001b[32m━━━━━━━━━━━━━━━━━━━━\u001b[0m\u001b[37m\u001b[0m \u001b[1m1s\u001b[0m 70ms/step - loss: 1314.0677 - val_loss: 2738.2852\n",
      "Epoch 82/120\n",
      "\u001b[1m16/16\u001b[0m \u001b[32m━━━━━━━━━━━━━━━━━━━━\u001b[0m\u001b[37m\u001b[0m \u001b[1m1s\u001b[0m 73ms/step - loss: 1358.0674 - val_loss: 2638.0500\n",
      "Epoch 83/120\n",
      "\u001b[1m16/16\u001b[0m \u001b[32m━━━━━━━━━━━━━━━━━━━━\u001b[0m\u001b[37m\u001b[0m \u001b[1m1s\u001b[0m 69ms/step - loss: 1236.6125 - val_loss: 2988.2268\n",
      "Epoch 84/120\n",
      "\u001b[1m16/16\u001b[0m \u001b[32m━━━━━━━━━━━━━━━━━━━━\u001b[0m\u001b[37m\u001b[0m \u001b[1m1s\u001b[0m 67ms/step - loss: 1365.2358 - val_loss: 2550.4563\n",
      "Epoch 85/120\n",
      "\u001b[1m16/16\u001b[0m \u001b[32m━━━━━━━━━━━━━━━━━━━━\u001b[0m\u001b[37m\u001b[0m \u001b[1m1s\u001b[0m 69ms/step - loss: 1394.8370 - val_loss: 2555.9292\n",
      "Epoch 86/120\n",
      "\u001b[1m16/16\u001b[0m \u001b[32m━━━━━━━━━━━━━━━━━━━━\u001b[0m\u001b[37m\u001b[0m \u001b[1m1s\u001b[0m 69ms/step - loss: 1305.0903 - val_loss: 2912.1038\n",
      "Epoch 87/120\n",
      "\u001b[1m16/16\u001b[0m \u001b[32m━━━━━━━━━━━━━━━━━━━━\u001b[0m\u001b[37m\u001b[0m \u001b[1m1s\u001b[0m 70ms/step - loss: 1333.1632 - val_loss: 2471.6934\n",
      "Epoch 88/120\n",
      "\u001b[1m16/16\u001b[0m \u001b[32m━━━━━━━━━━━━━━━━━━━━\u001b[0m\u001b[37m\u001b[0m \u001b[1m1s\u001b[0m 72ms/step - loss: 1370.2792 - val_loss: 2421.3489\n"
     ]
    }
   ],
   "source": [
    "\n",
    "model = keras.Sequential([\n",
    "    layers.Input(shape=(14,109), name='input_layer'),\n",
    "    layers.LSTM(units=300 ,return_sequences=True),\n",
    "    layers.LSTM(units=200),\n",
    "    layers.Dense(units=50 ,activation='gelu'),\n",
    "    layers.BatchNormalization(),\n",
    "    layers.Dropout(0.4),\n",
    "    layers.Dense(units=518,activation='selu'),\n",
    "    layers.Dropout(0),\n",
    "    layers.Dense(units=120,activation='selu'),\n",
    "    layers.Dropout(0.15),\n",
    "    layers.BatchNormalization(),\n",
    "    layers.Dense(units=1310 ,activation='selu', kernel_regularizer=regularizers.l2(0.01)),\n",
    "    layers.BatchNormalization(),\n",
    "    layers.Dropout(0.45),\n",
    "    layers.Dense(units=410,activation='relu'),\n",
    "    layers.Dense(1)\n",
    "    ])\n",
    "\n",
    "optimizer = RMSprop(learning_rate=0.0195)\n",
    "model.compile(optimizer=optimizer,\n",
    "            loss = 'mae')\n",
    "tuner_callback=EarlyStopping(monitor='val_loss',\n",
    "                            min_delta=0.011, \n",
    "                            patience=30,\n",
    "                            restore_best_weights=True)\n",
    "history = model.fit(X_train_preprocessed, y_train_pre,\n",
    "            epochs=120, batch_size=60,\n",
    "            validation_data=(X_val_preprocessed,y_val_pre),\n",
    "            callbacks=[tuner_callback])"
   ]
  },
  {
   "cell_type": "code",
   "execution_count": 32,
   "metadata": {},
   "outputs": [
    {
     "data": {
      "text/plain": [
       "<Axes: >"
      ]
     },
     "execution_count": 32,
     "metadata": {},
     "output_type": "execute_result"
    },
    {
     "data": {
      "image/png": "[encoded data removed]",
      "text/plain": [
       "<Figure size 640x480 with 1 Axes>"
      ]
     },
     "metadata": {},
     "output_type": "display_data"
    }
   ],
   "source": [
    "fox = pd.DataFrame(history.history)\n",
    "fox['loss'].plot()\n",
    "fox['val_loss'].plot()"
   ]
  },
  {
   "cell_type": "code",
   "execution_count": 211,
   "metadata": {},
   "outputs": [
    {
     "name": "stdout",
     "output_type": "stream",
     "text": [
      "Epoch 1/500\n"
     ]
    },
    {
     "name": "stdout",
     "output_type": "stream",
     "text": [
      "\u001b[1m6/6\u001b[0m \u001b[32m━━━━━━━━━━━━━━━━━━━━\u001b[0m\u001b[37m\u001b[0m \u001b[1m1s\u001b[0m 86ms/step - loss: 7149.0820 - val_loss: 1681.5537\n",
      "Epoch 2/500\n",
      "\u001b[1m6/6\u001b[0m \u001b[32m━━━━━━━━━━━━━━━━━━━━\u001b[0m\u001b[37m\u001b[0m \u001b[1m0s\u001b[0m 81ms/step - loss: 861.4919 - val_loss: 1785.5146\n",
      "Epoch 3/500\n",
      "\u001b[1m6/6\u001b[0m \u001b[32m━━━━━━━━━━━━━━━━━━━━\u001b[0m\u001b[37m\u001b[0m \u001b[1m0s\u001b[0m 83ms/step - loss: 760.4055 - val_loss: 1234.1215\n",
      "Epoch 4/500\n",
      "\u001b[1m6/6\u001b[0m \u001b[32m━━━━━━━━━━━━━━━━━━━━\u001b[0m\u001b[37m\u001b[0m \u001b[1m0s\u001b[0m 83ms/step - loss: 849.3683 - val_loss: 1571.2203\n",
      "Epoch 5/500\n",
      "\u001b[1m6/6\u001b[0m \u001b[32m━━━━━━━━━━━━━━━━━━━━\u001b[0m\u001b[37m\u001b[0m \u001b[1m1s\u001b[0m 90ms/step - loss: 852.1205 - val_loss: 1405.9625\n",
      "Epoch 6/500\n",
      "\u001b[1m6/6\u001b[0m \u001b[32m━━━━━━━━━━━━━━━━━━━━\u001b[0m\u001b[37m\u001b[0m \u001b[1m0s\u001b[0m 83ms/step - loss: 856.2928 - val_loss: 1226.5776\n",
      "Epoch 7/500\n",
      "\u001b[1m6/6\u001b[0m \u001b[32m━━━━━━━━━━━━━━━━━━━━\u001b[0m\u001b[37m\u001b[0m \u001b[1m1s\u001b[0m 91ms/step - loss: 1067.5424 - val_loss: 1013.1439\n",
      "Epoch 8/500\n",
      "\u001b[1m6/6\u001b[0m \u001b[32m━━━━━━━━━━━━━━━━━━━━\u001b[0m\u001b[37m\u001b[0m \u001b[1m0s\u001b[0m 80ms/step - loss: 853.8668 - val_loss: 738.9419\n",
      "Epoch 9/500\n",
      "\u001b[1m6/6\u001b[0m \u001b[32m━━━━━━━━━━━━━━━━━━━━\u001b[0m\u001b[37m\u001b[0m \u001b[1m1s\u001b[0m 90ms/step - loss: 696.1080 - val_loss: 1137.3062\n",
      "Epoch 10/500\n",
      "\u001b[1m6/6\u001b[0m \u001b[32m━━━━━━━━━━━━━━━━━━━━\u001b[0m\u001b[37m\u001b[0m \u001b[1m0s\u001b[0m 85ms/step - loss: 859.9547 - val_loss: 1210.5264\n",
      "Epoch 11/500\n",
      "\u001b[1m6/6\u001b[0m \u001b[32m━━━━━━━━━━━━━━━━━━━━\u001b[0m\u001b[37m\u001b[0m \u001b[1m1s\u001b[0m 86ms/step - loss: 961.9218 - val_loss: 827.6744\n",
      "Epoch 12/500\n",
      "\u001b[1m6/6\u001b[0m \u001b[32m━━━━━━━━━━━━━━━━━━━━\u001b[0m\u001b[37m\u001b[0m \u001b[1m1s\u001b[0m 94ms/step - loss: 807.5193 - val_loss: 1319.5120\n",
      "Epoch 13/500\n",
      "\u001b[1m6/6\u001b[0m \u001b[32m━━━━━━━━━━━━━━━━━━━━\u001b[0m\u001b[37m\u001b[0m \u001b[1m1s\u001b[0m 87ms/step - loss: 754.9824 - val_loss: 1024.4574\n",
      "Epoch 14/500\n",
      "\u001b[1m6/6\u001b[0m \u001b[32m━━━━━━━━━━━━━━━━━━━━\u001b[0m\u001b[37m\u001b[0m \u001b[1m1s\u001b[0m 89ms/step - loss: 1022.9446 - val_loss: 1256.5026\n",
      "Epoch 15/500\n",
      "\u001b[1m6/6\u001b[0m \u001b[32m━━━━━━━━━━━━━━━━━━━━\u001b[0m\u001b[37m\u001b[0m \u001b[1m0s\u001b[0m 84ms/step - loss: 864.7562 - val_loss: 804.6791\n",
      "Epoch 16/500\n",
      "\u001b[1m6/6\u001b[0m \u001b[32m━━━━━━━━━━━━━━━━━━━━\u001b[0m\u001b[37m\u001b[0m \u001b[1m1s\u001b[0m 94ms/step - loss: 759.6680 - val_loss: 1332.8707\n",
      "Epoch 17/500\n",
      "\u001b[1m6/6\u001b[0m \u001b[32m━━━━━━━━━━━━━━━━━━━━\u001b[0m\u001b[37m\u001b[0m \u001b[1m0s\u001b[0m 84ms/step - loss: 780.4667 - val_loss: 1790.2224\n",
      "Epoch 18/500\n",
      "\u001b[1m6/6\u001b[0m \u001b[32m━━━━━━━━━━━━━━━━━━━━\u001b[0m\u001b[37m\u001b[0m \u001b[1m0s\u001b[0m 84ms/step - loss: 798.8140 - val_loss: 1249.7928\n",
      "Epoch 19/500\n",
      "\u001b[1m6/6\u001b[0m \u001b[32m━━━━━━━━━━━━━━━━━━━━\u001b[0m\u001b[37m\u001b[0m \u001b[1m1s\u001b[0m 86ms/step - loss: 716.0405 - val_loss: 1669.5513\n",
      "Epoch 20/500\n",
      "\u001b[1m6/6\u001b[0m \u001b[32m━━━━━━━━━━━━━━━━━━━━\u001b[0m\u001b[37m\u001b[0m \u001b[1m0s\u001b[0m 81ms/step - loss: 739.0803 - val_loss: 1609.8169\n",
      "Epoch 21/500\n",
      "\u001b[1m6/6\u001b[0m \u001b[32m━━━━━━━━━━━━━━━━━━━━\u001b[0m\u001b[37m\u001b[0m \u001b[1m1s\u001b[0m 83ms/step - loss: 862.1748 - val_loss: 1259.8441\n",
      "Epoch 22/500\n",
      "\u001b[1m6/6\u001b[0m \u001b[32m━━━━━━━━━━━━━━━━━━━━\u001b[0m\u001b[37m\u001b[0m \u001b[1m1s\u001b[0m 86ms/step - loss: 656.0287 - val_loss: 1897.9556\n",
      "Epoch 23/500\n",
      "\u001b[1m6/6\u001b[0m \u001b[32m━━━━━━━━━━━━━━━━━━━━\u001b[0m\u001b[37m\u001b[0m \u001b[1m0s\u001b[0m 83ms/step - loss: 957.7416 - val_loss: 651.3295\n",
      "Epoch 24/500\n",
      "\u001b[1m6/6\u001b[0m \u001b[32m━━━━━━━━━━━━━━━━━━━━\u001b[0m\u001b[37m\u001b[0m \u001b[1m1s\u001b[0m 86ms/step - loss: 898.5466 - val_loss: 738.9693\n",
      "Epoch 25/500\n",
      "\u001b[1m6/6\u001b[0m \u001b[32m━━━━━━━━━━━━━━━━━━━━\u001b[0m\u001b[37m\u001b[0m \u001b[1m0s\u001b[0m 83ms/step - loss: 851.7531 - val_loss: 726.1456\n",
      "Epoch 26/500\n",
      "\u001b[1m6/6\u001b[0m \u001b[32m━━━━━━━━━━━━━━━━━━━━\u001b[0m\u001b[37m\u001b[0m \u001b[1m1s\u001b[0m 80ms/step - loss: 858.5632 - val_loss: 726.5389\n",
      "Epoch 27/500\n",
      "\u001b[1m6/6\u001b[0m \u001b[32m━━━━━━━━━━━━━━━━━━━━\u001b[0m\u001b[37m\u001b[0m \u001b[1m0s\u001b[0m 82ms/step - loss: 808.3915 - val_loss: 1287.3186\n",
      "Epoch 28/500\n",
      "\u001b[1m6/6\u001b[0m \u001b[32m━━━━━━━━━━━━━━━━━━━━\u001b[0m\u001b[37m\u001b[0m \u001b[1m1s\u001b[0m 88ms/step - loss: 867.6386 - val_loss: 1346.4384\n",
      "Epoch 29/500\n",
      "\u001b[1m6/6\u001b[0m \u001b[32m━━━━━━━━━━━━━━━━━━━━\u001b[0m\u001b[37m\u001b[0m \u001b[1m0s\u001b[0m 84ms/step - loss: 854.3987 - val_loss: 744.7461\n",
      "Epoch 30/500\n",
      "\u001b[1m6/6\u001b[0m \u001b[32m━━━━━━━━━━━━━━━━━━━━\u001b[0m\u001b[37m\u001b[0m \u001b[1m1s\u001b[0m 85ms/step - loss: 715.7667 - val_loss: 777.4736\n",
      "Epoch 1/500\n",
      "\u001b[1m6/6\u001b[0m \u001b[32m━━━━━━━━━━━━━━━━━━━━\u001b[0m\u001b[37m\u001b[0m \u001b[1m0s\u001b[0m 85ms/step - loss: 3496.1980 - val_loss: 6019.3008\n",
      "Epoch 2/500\n",
      "\u001b[1m6/6\u001b[0m \u001b[32m━━━━━━━━━━━━━━━━━━━━\u001b[0m\u001b[37m\u001b[0m \u001b[1m0s\u001b[0m 82ms/step - loss: 1890.0372 - val_loss: 4051.7109\n",
      "Epoch 3/500\n",
      "\u001b[1m6/6\u001b[0m \u001b[32m━━━━━━━━━━━━━━━━━━━━\u001b[0m\u001b[37m\u001b[0m \u001b[1m0s\u001b[0m 84ms/step - loss: 1426.3990 - val_loss: 1360.2177\n",
      "Epoch 4/500\n",
      "\u001b[1m6/6\u001b[0m \u001b[32m━━━━━━━━━━━━━━━━━━━━\u001b[0m\u001b[37m\u001b[0m \u001b[1m1s\u001b[0m 90ms/step - loss: 1517.9434 - val_loss: 1487.9803\n",
      "Epoch 5/500\n",
      "\u001b[1m6/6\u001b[0m \u001b[32m━━━━━━━━━━━━━━━━━━━━\u001b[0m\u001b[37m\u001b[0m \u001b[1m1s\u001b[0m 89ms/step - loss: 1387.9614 - val_loss: 2170.5447\n",
      "Epoch 6/500\n",
      "\u001b[1m6/6\u001b[0m \u001b[32m━━━━━━━━━━━━━━━━━━━━\u001b[0m\u001b[37m\u001b[0m \u001b[1m1s\u001b[0m 94ms/step - loss: 1198.9625 - val_loss: 1231.4724\n",
      "Epoch 7/500\n",
      "\u001b[1m6/6\u001b[0m \u001b[32m━━━━━━━━━━━━━━━━━━━━\u001b[0m\u001b[37m\u001b[0m \u001b[1m1s\u001b[0m 87ms/step - loss: 1290.0314 - val_loss: 1514.1910\n",
      "Epoch 8/500\n",
      "\u001b[1m6/6\u001b[0m \u001b[32m━━━━━━━━━━━━━━━━━━━━\u001b[0m\u001b[37m\u001b[0m \u001b[1m0s\u001b[0m 82ms/step - loss: 1086.4222 - val_loss: 1511.6559\n",
      "Epoch 9/500\n",
      "\u001b[1m6/6\u001b[0m \u001b[32m━━━━━━━━━━━━━━━━━━━━\u001b[0m\u001b[37m\u001b[0m \u001b[1m0s\u001b[0m 84ms/step - loss: 1309.9044 - val_loss: 3167.8948\n",
      "Epoch 10/500\n",
      "\u001b[1m6/6\u001b[0m \u001b[32m━━━━━━━━━━━━━━━━━━━━\u001b[0m\u001b[37m\u001b[0m \u001b[1m0s\u001b[0m 86ms/step - loss: 1422.4369 - val_loss: 2064.9229\n",
      "Epoch 11/500\n",
      "\u001b[1m6/6\u001b[0m \u001b[32m━━━━━━━━━━━━━━━━━━━━\u001b[0m\u001b[37m\u001b[0m \u001b[1m1s\u001b[0m 83ms/step - loss: 1352.3804 - val_loss: 2242.2168\n",
      "Epoch 12/500\n",
      "\u001b[1m6/6\u001b[0m \u001b[32m━━━━━━━━━━━━━━━━━━━━\u001b[0m\u001b[37m\u001b[0m \u001b[1m0s\u001b[0m 87ms/step - loss: 1158.1068 - val_loss: 2507.7344\n",
      "Epoch 13/500\n",
      "\u001b[1m6/6\u001b[0m \u001b[32m━━━━━━━━━━━━━━━━━━━━\u001b[0m\u001b[37m\u001b[0m \u001b[1m1s\u001b[0m 87ms/step - loss: 1264.9084 - val_loss: 1483.7794\n",
      "Epoch 14/500\n",
      "\u001b[1m6/6\u001b[0m \u001b[32m━━━━━━━━━━━━━━━━━━━━\u001b[0m\u001b[37m\u001b[0m \u001b[1m1s\u001b[0m 86ms/step - loss: 1357.7836 - val_loss: 1601.4945\n",
      "Epoch 15/500\n",
      "\u001b[1m6/6\u001b[0m \u001b[32m━━━━━━━━━━━━━━━━━━━━\u001b[0m\u001b[37m\u001b[0m \u001b[1m1s\u001b[0m 86ms/step - loss: 1256.4608 - val_loss: 2996.2864\n",
      "Epoch 16/500\n",
      "\u001b[1m6/6\u001b[0m \u001b[32m━━━━━━━━━━━━━━━━━━━━\u001b[0m\u001b[37m\u001b[0m \u001b[1m0s\u001b[0m 80ms/step - loss: 1682.4260 - val_loss: 2035.4866\n",
      "Epoch 17/500\n",
      "\u001b[1m6/6\u001b[0m \u001b[32m━━━━━━━━━━━━━━━━━━━━\u001b[0m\u001b[37m\u001b[0m \u001b[1m0s\u001b[0m 83ms/step - loss: 1342.2343 - val_loss: 1176.0900\n",
      "Epoch 18/500\n",
      "\u001b[1m6/6\u001b[0m \u001b[32m━━━━━━━━━━━━━━━━━━━━\u001b[0m\u001b[37m\u001b[0m \u001b[1m1s\u001b[0m 86ms/step - loss: 1522.2555 - val_loss: 1100.7714\n",
      "Epoch 19/500\n",
      "\u001b[1m6/6\u001b[0m \u001b[32m━━━━━━━━━━━━━━━━━━━━\u001b[0m\u001b[37m\u001b[0m \u001b[1m0s\u001b[0m 84ms/step - loss: 1125.3776 - val_loss: 1202.5978\n",
      "Epoch 20/500\n",
      "\u001b[1m6/6\u001b[0m \u001b[32m━━━━━━━━━━━━━━━━━━━━\u001b[0m\u001b[37m\u001b[0m \u001b[1m1s\u001b[0m 83ms/step - loss: 1472.4087 - val_loss: 1158.5201\n",
      "Epoch 21/500\n",
      "\u001b[1m6/6\u001b[0m \u001b[32m━━━━━━━━━━━━━━━━━━━━\u001b[0m\u001b[37m\u001b[0m \u001b[1m1s\u001b[0m 87ms/step - loss: 1123.1008 - val_loss: 1028.4955\n",
      "Epoch 22/500\n",
      "\u001b[1m6/6\u001b[0m \u001b[32m━━━━━━━━━━━━━━━━━━━━\u001b[0m\u001b[37m\u001b[0m \u001b[1m1s\u001b[0m 85ms/step - loss: 1161.7335 - val_loss: 1819.0449\n",
      "Epoch 23/500\n",
      "\u001b[1m6/6\u001b[0m \u001b[32m━━━━━━━━━━━━━━━━━━━━\u001b[0m\u001b[37m\u001b[0m \u001b[1m1s\u001b[0m 96ms/step - loss: 1265.6007 - val_loss: 1055.6104\n",
      "Epoch 24/500\n",
      "\u001b[1m6/6\u001b[0m \u001b[32m━━━━━━━━━━━━━━━━━━━━\u001b[0m\u001b[37m\u001b[0m \u001b[1m1s\u001b[0m 88ms/step - loss: 1154.5281 - val_loss: 1156.8301\n",
      "Epoch 25/500\n",
      "\u001b[1m6/6\u001b[0m \u001b[32m━━━━━━━━━━━━━━━━━━━━\u001b[0m\u001b[37m\u001b[0m \u001b[1m1s\u001b[0m 93ms/step - loss: 1193.7495 - val_loss: 1056.7993\n",
      "Epoch 26/500\n",
      "\u001b[1m6/6\u001b[0m \u001b[32m━━━━━━━━━━━━━━━━━━━━\u001b[0m\u001b[37m\u001b[0m \u001b[1m0s\u001b[0m 81ms/step - loss: 1113.3729 - val_loss: 1032.1898\n",
      "Epoch 27/500\n",
      "\u001b[1m6/6\u001b[0m \u001b[32m━━━━━━━━━━━━━━━━━━━━\u001b[0m\u001b[37m\u001b[0m \u001b[1m1s\u001b[0m 95ms/step - loss: 1048.1862 - val_loss: 1124.5824\n",
      "Epoch 28/500\n",
      "\u001b[1m6/6\u001b[0m \u001b[32m━━━━━━━━━━━━━━━━━━━━\u001b[0m\u001b[37m\u001b[0m \u001b[1m1s\u001b[0m 89ms/step - loss: 1254.1597 - val_loss: 1358.4694\n",
      "Epoch 29/500\n",
      "\u001b[1m6/6\u001b[0m \u001b[32m━━━━━━━━━━━━━━━━━━━━\u001b[0m\u001b[37m\u001b[0m \u001b[1m1s\u001b[0m 88ms/step - loss: 1215.2977 - val_loss: 2287.4458\n",
      "Epoch 30/500\n",
      "\u001b[1m6/6\u001b[0m \u001b[32m━━━━━━━━━━━━━━━━━━━━\u001b[0m\u001b[37m\u001b[0m \u001b[1m0s\u001b[0m 78ms/step - loss: 1453.4053 - val_loss: 1221.3102\n",
      "Epoch 1/500\n",
      "\u001b[1m6/6\u001b[0m \u001b[32m━━━━━━━━━━━━━━━━━━━━\u001b[0m\u001b[37m\u001b[0m \u001b[1m0s\u001b[0m 79ms/step - loss: 2108.0581 - val_loss: 6987.9741\n",
      "Epoch 2/500\n",
      "\u001b[1m6/6\u001b[0m \u001b[32m━━━━━━━━━━━━━━━━━━━━\u001b[0m\u001b[37m\u001b[0m \u001b[1m0s\u001b[0m 74ms/step - loss: 1562.3684 - val_loss: 7513.0391\n",
      "Epoch 3/500\n",
      "\u001b[1m6/6\u001b[0m \u001b[32m━━━━━━━━━━━━━━━━━━━━\u001b[0m\u001b[37m\u001b[0m \u001b[1m0s\u001b[0m 83ms/step - loss: 1859.4093 - val_loss: 7190.6958\n",
      "Epoch 4/500\n",
      "\u001b[1m6/6\u001b[0m \u001b[32m━━━━━━━━━━━━━━━━━━━━\u001b[0m\u001b[37m\u001b[0m \u001b[1m0s\u001b[0m 75ms/step - loss: 1669.9026 - val_loss: 6898.6104\n",
      "Epoch 5/500\n",
      "\u001b[1m6/6\u001b[0m \u001b[32m━━━━━━━━━━━━━━━━━━━━\u001b[0m\u001b[37m\u001b[0m \u001b[1m1s\u001b[0m 86ms/step - loss: 1905.2682 - val_loss: 6924.6255\n",
      "Epoch 6/500\n",
      "\u001b[1m6/6\u001b[0m \u001b[32m━━━━━━━━━━━━━━━━━━━━\u001b[0m\u001b[37m\u001b[0m \u001b[1m0s\u001b[0m 79ms/step - loss: 1517.8514 - val_loss: 5631.4028\n",
      "Epoch 7/500\n",
      "\u001b[1m6/6\u001b[0m \u001b[32m━━━━━━━━━━━━━━━━━━━━\u001b[0m\u001b[37m\u001b[0m \u001b[1m0s\u001b[0m 78ms/step - loss: 1675.5312 - val_loss: 3303.5996\n",
      "Epoch 8/500\n",
      "\u001b[1m6/6\u001b[0m \u001b[32m━━━━━━━━━━━━━━━━━━━━\u001b[0m\u001b[37m\u001b[0m \u001b[1m0s\u001b[0m 79ms/step - loss: 1507.5524 - val_loss: 4502.1914\n",
      "Epoch 9/500\n",
      "\u001b[1m6/6\u001b[0m \u001b[32m━━━━━━━━━━━━━━━━━━━━\u001b[0m\u001b[37m\u001b[0m \u001b[1m0s\u001b[0m 76ms/step - loss: 1910.4194 - val_loss: 2360.5518\n",
      "Epoch 10/500\n",
      "\u001b[1m6/6\u001b[0m \u001b[32m━━━━━━━━━━━━━━━━━━━━\u001b[0m\u001b[37m\u001b[0m \u001b[1m0s\u001b[0m 74ms/step - loss: 1651.9191 - val_loss: 1482.3636\n",
      "Epoch 11/500\n",
      "\u001b[1m6/6\u001b[0m \u001b[32m━━━━━━━━━━━━━━━━━━━━\u001b[0m\u001b[37m\u001b[0m \u001b[1m0s\u001b[0m 83ms/step - loss: 2037.4642 - val_loss: 5330.0913\n",
      "Epoch 12/500\n",
      "\u001b[1m6/6\u001b[0m \u001b[32m━━━━━━━━━━━━━━━━━━━━\u001b[0m\u001b[37m\u001b[0m \u001b[1m0s\u001b[0m 77ms/step - loss: 1804.9388 - val_loss: 1466.9916\n",
      "Epoch 13/500\n",
      "\u001b[1m6/6\u001b[0m \u001b[32m━━━━━━━━━━━━━━━━━━━━\u001b[0m\u001b[37m\u001b[0m \u001b[1m0s\u001b[0m 78ms/step - loss: 1632.4498 - val_loss: 3015.1003\n",
      "Epoch 14/500\n",
      "\u001b[1m6/6\u001b[0m \u001b[32m━━━━━━━━━━━━━━━━━━━━\u001b[0m\u001b[37m\u001b[0m \u001b[1m0s\u001b[0m 75ms/step - loss: 1532.1553 - val_loss: 2122.9993\n",
      "Epoch 15/500\n",
      "\u001b[1m6/6\u001b[0m \u001b[32m━━━━━━━━━━━━━━━━━━━━\u001b[0m\u001b[37m\u001b[0m \u001b[1m0s\u001b[0m 73ms/step - loss: 1745.8740 - val_loss: 1772.2883\n",
      "Epoch 16/500\n",
      "\u001b[1m6/6\u001b[0m \u001b[32m━━━━━━━━━━━━━━━━━━━━\u001b[0m\u001b[37m\u001b[0m \u001b[1m0s\u001b[0m 78ms/step - loss: 1712.4629 - val_loss: 2031.9030\n",
      "Epoch 17/500\n",
      "\u001b[1m6/6\u001b[0m \u001b[32m━━━━━━━━━━━━━━━━━━━━\u001b[0m\u001b[37m\u001b[0m \u001b[1m0s\u001b[0m 79ms/step - loss: 1655.6769 - val_loss: 2564.7966\n",
      "Epoch 18/500\n",
      "\u001b[1m6/6\u001b[0m \u001b[32m━━━━━━━━━━━━━━━━━━━━\u001b[0m\u001b[37m\u001b[0m \u001b[1m0s\u001b[0m 77ms/step - loss: 1331.1378 - val_loss: 2762.1946\n",
      "Epoch 19/500\n",
      "\u001b[1m6/6\u001b[0m \u001b[32m━━━━━━━━━━━━━━━━━━━━\u001b[0m\u001b[37m\u001b[0m \u001b[1m0s\u001b[0m 75ms/step - loss: 1510.6385 - val_loss: 1357.5490\n",
      "Epoch 20/500\n",
      "\u001b[1m6/6\u001b[0m \u001b[32m━━━━━━━━━━━━━━━━━━━━\u001b[0m\u001b[37m\u001b[0m \u001b[1m0s\u001b[0m 75ms/step - loss: 1601.9325 - val_loss: 1333.3461\n",
      "Epoch 21/500\n",
      "\u001b[1m6/6\u001b[0m \u001b[32m━━━━━━━━━━━━━━━━━━━━\u001b[0m\u001b[37m\u001b[0m \u001b[1m1s\u001b[0m 85ms/step - loss: 1844.7354 - val_loss: 1707.4622\n",
      "Epoch 22/500\n",
      "\u001b[1m6/6\u001b[0m \u001b[32m━━━━━━━━━━━━━━━━━━━━\u001b[0m\u001b[37m\u001b[0m \u001b[1m0s\u001b[0m 82ms/step - loss: 1625.3676 - val_loss: 1827.9346\n",
      "Epoch 23/500\n",
      "\u001b[1m6/6\u001b[0m \u001b[32m━━━━━━━━━━━━━━━━━━━━\u001b[0m\u001b[37m\u001b[0m \u001b[1m0s\u001b[0m 76ms/step - loss: 1982.6785 - val_loss: 1356.4500\n",
      "Epoch 24/500\n",
      "\u001b[1m6/6\u001b[0m \u001b[32m━━━━━━━━━━━━━━━━━━━━\u001b[0m\u001b[37m\u001b[0m \u001b[1m0s\u001b[0m 75ms/step - loss: 1307.9767 - val_loss: 1409.2174\n",
      "Epoch 25/500\n",
      "\u001b[1m6/6\u001b[0m \u001b[32m━━━━━━━━━━━━━━━━━━━━\u001b[0m\u001b[37m\u001b[0m \u001b[1m0s\u001b[0m 79ms/step - loss: 1626.7020 - val_loss: 2924.3474\n",
      "Epoch 26/500\n",
      "\u001b[1m6/6\u001b[0m \u001b[32m━━━━━━━━━━━━━━━━━━━━\u001b[0m\u001b[37m\u001b[0m \u001b[1m0s\u001b[0m 82ms/step - loss: 1309.4403 - val_loss: 1597.2574\n",
      "Epoch 27/500\n",
      "\u001b[1m6/6\u001b[0m \u001b[32m━━━━━━━━━━━━━━━━━━━━\u001b[0m\u001b[37m\u001b[0m \u001b[1m0s\u001b[0m 70ms/step - loss: 1458.2316 - val_loss: 1368.7062\n",
      "Epoch 28/500\n",
      "\u001b[1m6/6\u001b[0m \u001b[32m━━━━━━━━━━━━━━━━━━━━\u001b[0m\u001b[37m\u001b[0m \u001b[1m1s\u001b[0m 90ms/step - loss: 1585.7042 - val_loss: 1274.8245\n",
      "Epoch 29/500\n",
      "\u001b[1m6/6\u001b[0m \u001b[32m━━━━━━━━━━━━━━━━━━━━\u001b[0m\u001b[37m\u001b[0m \u001b[1m0s\u001b[0m 77ms/step - loss: 1341.2178 - val_loss: 1291.9552\n",
      "Epoch 30/500\n",
      "\u001b[1m6/6\u001b[0m \u001b[32m━━━━━━━━━━━━━━━━━━━━\u001b[0m\u001b[37m\u001b[0m \u001b[1m0s\u001b[0m 83ms/step - loss: 1494.8230 - val_loss: 1556.9504\n"
     ]
    }
   ],
   "source": [
    "def ensemble_model_generator(model):\n",
    "    X = np.concatenate((X_train_preprocessed,X_val_preprocessed),axis=0)\n",
    "    y = np.concatenate((y_train_pre,y_val_pre),axis=0)\n",
    "\n",
    "\n",
    "    models = []\n",
    "    for i in range(0,3,1):\n",
    "        sel_X = X[int(i*0.316*X.shape[0]):int((i+1)*0.316*X.shape[0])]\n",
    "        sel_y = y[int(i*0.316*y.shape[0]):int((i+1)*0.316*y.shape[0])]\n",
    "\n",
    "        sel_X_val = X[int(i*(0.316+0.05)*X.shape[0]):int((i+1)*(0.316+0.05)*X.shape[0])]\n",
    "        sel_y_val = y[int(i*(0.316+0.05)*y.shape[0]):int((i+1)*(0.316+0.05)*y.shape[0])]\n",
    "    \n",
    "        new_model.fit(sel_X,pd.Series(sel_y),\n",
    "                epochs=500, batch_size=60,\n",
    "                validation_data=[sel_X_val, pd.Series(sel_y_val)],\n",
    "                callbacks=tuner_callback, \n",
    "                verbose=True)        \n",
    "        models.append(new_model)\n",
    "    models.append(model)\n",
    "    return models\n",
    "\n",
    "cv_result = rolling_window_cross_val(model)\n"
   ]
  },
  {
   "cell_type": "code",
   "execution_count": 217,
   "metadata": {},
   "outputs": [],
   "source": [
    "def ensemble(models,X):\n",
    "    predictions = []\n",
    "    for i in range(0,len(models),1):\n",
    "        pred_sel = models[i].predict(X)\n",
    "        predictions.append(pred_sel)\n",
    "    output = np.concatenate(predictions)/len(models)\n",
    "    return pred_sel"
   ]
  },
  {
   "cell_type": "code",
   "execution_count": 215,
   "metadata": {},
   "outputs": [
    {
     "name": "stdout",
     "output_type": "stream",
     "text": [
      "\u001b[1m30/30\u001b[0m \u001b[32m━━━━━━━━━━━━━━━━━━━━\u001b[0m\u001b[37m\u001b[0m \u001b[1m0s\u001b[0m 15ms/step\n",
      "\u001b[1m30/30\u001b[0m \u001b[32m━━━━━━━━━━━━━━━━━━━━\u001b[0m\u001b[37m\u001b[0m \u001b[1m0s\u001b[0m 15ms/step\n",
      "\u001b[1m30/30\u001b[0m \u001b[32m━━━━━━━━━━━━━━━━━━━━\u001b[0m\u001b[37m\u001b[0m \u001b[1m0s\u001b[0m 14ms/step\n",
      "\u001b[1m4/4\u001b[0m \u001b[32m━━━━━━━━━━━━━━━━━━━━\u001b[0m\u001b[37m\u001b[0m \u001b[1m0s\u001b[0m 11ms/step\n",
      "\u001b[1m4/4\u001b[0m \u001b[32m━━━━━━━━━━━━━━━━━━━━\u001b[0m\u001b[37m\u001b[0m \u001b[1m0s\u001b[0m 8ms/step \n",
      "\u001b[1m4/4\u001b[0m \u001b[32m━━━━━━━━━━━━━━━━━━━━\u001b[0m\u001b[37m\u001b[0m \u001b[1m0s\u001b[0m 12ms/step\n",
      "\u001b[1m4/4\u001b[0m \u001b[32m━━━━━━━━━━━━━━━━━━━━\u001b[0m\u001b[37m\u001b[0m \u001b[1m0s\u001b[0m 12ms/step\n",
      "\u001b[1m4/4\u001b[0m \u001b[32m━━━━━━━━━━━━━━━━━━━━\u001b[0m\u001b[37m\u001b[0m \u001b[1m0s\u001b[0m 15ms/step\n",
      "\u001b[1m4/4\u001b[0m \u001b[32m━━━━━━━━━━━━━━━━━━━━\u001b[0m\u001b[37m\u001b[0m \u001b[1m0s\u001b[0m 12ms/step\n"
     ]
    }
   ],
   "source": [
    "TRAIN = ensemble(cv_result, X_train_preprocessed)\n",
    "VAL = ensemble(cv_result, X_val_preprocessed)\n",
    "TEST = ensemble(cv_result, X_test_preprocessed)"
   ]
  },
  {
   "cell_type": "code",
   "execution_count": 173,
   "metadata": {},
   "outputs": [],
   "source": [
    "# abba"
   ]
  },
  {
   "cell_type": "code",
   "execution_count": 174,
   "metadata": {},
   "outputs": [],
   "source": [
    "# plt.plot(abba)\n",
    "# # plt.show()"
   ]
  },
  {
   "cell_type": "code",
   "execution_count": 175,
   "metadata": {},
   "outputs": [],
   "source": [
    "# model.fit(X_train_preprocessed, y_train_pre)\n",
    "# train_pred = model.predict(X_train_preprocessed)\n",
    "# val_pred = model.predict(X_val_preprocessed)\n",
    "# test_pred = model.predict(X_test_preprocessed)"
   ]
  },
  {
   "cell_type": "markdown",
   "metadata": {},
   "source": [
    "<h1> Large  tuner end"
   ]
  },
  {
   "cell_type": "code",
   "execution_count": 218,
   "metadata": {},
   "outputs": [
    {
     "data": {
      "image/png": "[encoded data removed]",
      "text/plain": [
       "<Figure size 640x480 with 2 Axes>"
      ]
     },
     "metadata": {},
     "output_type": "display_data"
    }
   ],
   "source": [
    "fig,ax = plt.subplots(2)\n",
    "ax[0].plot(y_train, label='Train')\n",
    "ax[0].plot(y_val, label='Valid')\n",
    "ax[0].plot(y_test, label='Test')\n",
    "ax[0].set_ylim(0,25000)\n",
    "\n",
    "ax[1].plot(X_train.index[14:], TRAIN, label='Train_pred')\n",
    "ax[1].plot(X_val.index[14:], VAL, label='Test_pred')\n",
    "ax[1].plot(X_test.index[14:], TEST, label='Test_pred')\n",
    "ax[1].set_ylim(0,35000)\n",
    "\n",
    "plt.legend()\n",
    "plt.show()"
   ]
  },
  {
   "cell_type": "code",
   "execution_count": 185,
   "metadata": {},
   "outputs": [],
   "source": [
    "# from sklearn.metrics import root_mean_squared_error as RMSE\n",
    "# from sklearn.metrics import mean_absolute_percentage_error as \n",
    "from sklearn.metrics import mean_absolute_error as MAE\n"
   ]
  },
  {
   "cell_type": "code",
   "execution_count": 190,
   "metadata": {},
   "outputs": [
    {
     "data": {
      "text/plain": [
       "Date\n",
       "2001-01-01     4089\n",
       "2001-01-08     4959\n",
       "2001-01-15     4610\n",
       "2001-01-22     4470\n",
       "2001-01-29     4523\n",
       "              ...  \n",
       "2019-04-22    16037\n",
       "2019-04-29    16133\n",
       "2019-05-06    16315\n",
       "2019-05-13    16127\n",
       "2019-05-20    18992\n",
       "Name: Salmon_exp_vol, Length: 960, dtype: int64"
      ]
     },
     "execution_count": 190,
     "metadata": {},
     "output_type": "execute_result"
    }
   ],
   "source": [
    "y_train"
   ]
  },
  {
   "cell_type": "code",
   "execution_count": 210,
   "metadata": {},
   "outputs": [
    {
     "data": {
      "text/plain": [
       "6340.21980026533"
      ]
     },
     "execution_count": 210,
     "metadata": {},
     "output_type": "execute_result"
    }
   ],
   "source": [
    "MAE(y_val_pre, VAL)"
   ]
  },
  {
   "cell_type": "code",
   "execution_count": null,
   "metadata": {},
   "outputs": [
    {
     "data": {
      "text/plain": [
       "0.11623931623931624"
      ]
     },
     "execution_count": 53,
     "metadata": {},
     "output_type": "execute_result"
    }
   ],
   "source": [
    "1360/11700"
   ]
  },
  {
   "cell_type": "markdown",
   "metadata": {},
   "source": [
    "<h2> Residual analysis"
   ]
  },
  {
   "cell_type": "code",
   "execution_count": null,
   "metadata": {},
   "outputs": [],
   "source": [
    "# train_pred"
   ]
  },
  {
   "cell_type": "code",
   "execution_count": null,
   "metadata": {},
   "outputs": [],
   "source": [
    "residuals = val_pred.flatten() - y_val_pre"
   ]
  },
  {
   "cell_type": "code",
   "execution_count": null,
   "metadata": {},
   "outputs": [
    {
     "data": {
      "image/png": "[encoded data removed]",
      "text/plain": [
       "<Figure size 640x480 with 1 Axes>"
      ]
     },
     "metadata": {},
     "output_type": "display_data"
    }
   ],
   "source": [
    "plt.hist(residuals)\n",
    "plt.show()"
   ]
  },
  {
   "cell_type": "code",
   "execution_count": null,
   "metadata": {},
   "outputs": [],
   "source": [
    "my = np.mean(residuals)"
   ]
  },
  {
   "cell_type": "code",
   "execution_count": null,
   "metadata": {},
   "outputs": [
    {
     "data": {
      "text/plain": [
       "2632.078008660784"
      ]
     },
     "execution_count": 207,
     "metadata": {},
     "output_type": "execute_result"
    }
   ],
   "source": [
    "std = np.std(residuals)\n",
    "std"
   ]
  },
  {
   "cell_type": "code",
   "execution_count": null,
   "metadata": {},
   "outputs": [
    {
     "name": "stdout",
     "output_type": "stream",
     "text": [
      "lower\n"
     ]
    },
    {
     "data": {
      "text/plain": [
       "-2487.629868774483"
      ]
     },
     "execution_count": 208,
     "metadata": {},
     "output_type": "execute_result"
    }
   ],
   "source": [
    "print('lower') \n",
    "my- std*1.28"
   ]
  },
  {
   "cell_type": "code",
   "execution_count": null,
   "metadata": {},
   "outputs": [
    {
     "name": "stdout",
     "output_type": "stream",
     "text": [
      "upper\n"
     ]
    },
    {
     "data": {
      "text/plain": [
       "2575.9366144584574"
      ]
     },
     "execution_count": 196,
     "metadata": {},
     "output_type": "execute_result"
    }
   ],
   "source": [
    "print('upper') \n",
    "my+ std*1.28"
   ]
  },
  {
   "cell_type": "code",
   "execution_count": null,
   "metadata": {},
   "outputs": [
    {
     "data": {
      "text/plain": [
       "263207.80086607835"
      ]
     },
     "execution_count": 222,
     "metadata": {},
     "output_type": "execute_result"
    }
   ],
   "source": [
    "std*100"
   ]
  },
  {
   "cell_type": "code",
   "execution_count": null,
   "metadata": {},
   "outputs": [],
   "source": [
    "high_list = []\n",
    "low_list = []\n",
    "for i in range(0,len(test_pred),1):\n",
    "    high_sel = test_pred[i][0] + std*(i+1)\n",
    "    low_sel = test_pred[i][0] - std*(i+1)\n",
    "    high_list.append(high_sel)\n",
    "    low_list.append(low_sel)\n",
    "    "
   ]
  },
  {
   "cell_type": "code",
   "execution_count": null,
   "metadata": {},
   "outputs": [
    {
     "data": {
      "image/png": "[encoded data removed]",
      "text/plain": [
       "<Figure size 640x480 with 1 Axes>"
      ]
     },
     "metadata": {},
     "output_type": "display_data"
    }
   ],
   "source": [
    "plt.plot(high_list,color='grey')\n",
    "plt.plot(low_list, color='grey')\n",
    "plt.plot(val_pred, color='red')\n",
    "plt.show()"
   ]
  }
 ],
 "metadata": {
  "kernelspec": {
   "display_name": "base",
   "language": "python",
   "name": "python3"
  },
  "language_info": {
   "codemirror_mode": {
    "name": "ipython",
    "version": 3
   },
   "file_extension": ".py",
   "mimetype": "text/x-python",
   "name": "python",
   "nbconvert_exporter": "python",
   "pygments_lexer": "ipython3",
   "version": "3.11.7"
  }
 },
 "nbformat": 4,
 "nbformat_minor": 2
}
