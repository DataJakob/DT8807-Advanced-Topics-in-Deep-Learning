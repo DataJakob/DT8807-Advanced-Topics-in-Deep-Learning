{
 "cells": [
  {
   "cell_type": "markdown",
   "metadata": {},
   "source": [
    "<h1> Feature engineering <br>\n",
    "Modelling <br>\n",
    "and Evaluation</h2>\n",
    "<br>\n",
    "<br>\n",
    "<b> This is work in progress! </b> <p> Next up is making the pipeline more automated. Scaling the targets. And finetune  the  LSTM, which architeture should it have. How many lags, how many LSTM units, how many  layers, how many perceptrons, which activation functions, and which special layers to add to the architecture. \n",
    "<br>\n",
    "<br>\n",
    "Radical change: use NIBOR in stead of interest rate, because it is update daily and can give better results.\n",
    "<h4> Readying the forecast dataset </h4>\n",
    "Use Ohrnstein Uhlenbeck process to find Food_index price. Use SSB/NB to find forecasts for policy rate. Find some forecasts or eventually use OU-process to find the FX."
   ]
  },
  {
   "cell_type": "markdown",
   "metadata": {},
   "source": [
    "<!-- <ol>\n",
    "<li>Deterministic process</li>\n",
    "<li>Lagged variables</li>\n",
    "<li> Fourier</li>\n",
    "<li>Seasonal indicators (very important)</li>\n",
    "<li></li>\n",
    "<li></li>\n",
    "<li></li>\n",
    "</ol> -->"
   ]
  },
  {
   "cell_type": "markdown",
   "metadata": {},
   "source": [
    "<h1> 1. Getting started </h1>\n",
    "<h2> 1.1 Importing libraries </h2>"
   ]
  },
  {
   "cell_type": "code",
   "execution_count": 4,
   "metadata": {},
   "outputs": [],
   "source": [
    "import numpy as np\n",
    "import pandas as pd\n",
    "import matplotlib.pyplot as plt\n",
    "import seaborn as sns\n",
    "\n",
    "from sklearn.model_selection import train_test_split\n",
    "from sklearn.preprocessing import StandardScaler\n",
    "from sklearn.pipeline import Pipeline\n",
    "from sklearn.preprocessing import FunctionTransformer\n",
    "from sklearn.compose import ColumnTransformer\n",
    "\n",
    "import random\n",
    "from keras import regularizers\n",
    "import keras_tuner \n",
    "import keras\n",
    "\n",
    "import tensorflow as tf\n",
    "from tensorflow import keras\n",
    "from keras import Sequential, layers, Input, callbacks\n",
    "from keras.layers import Dense\n",
    "from keras.layers import LSTM\n",
    "from keras.layers import Activation\n",
    "from keras.optimizers import RMSprop, Adam\n",
    "\n",
    "\n",
    "from statsmodels.tsa.deterministic import DeterministicProcess\n",
    "from statsmodels.tsa.deterministic import  CalendarFourier\n",
    "\n",
    "from sklearn.metrics import mean_absolute_percentage_error as MAPE\n",
    "from keras.callbacks import EarlyStopping\n"
   ]
  },
  {
   "cell_type": "markdown",
   "metadata": {},
   "source": [
    "<h2> 1.2 Downloading data </h2>"
   ]
  },
  {
   "cell_type": "code",
   "execution_count": 5,
   "metadata": {},
   "outputs": [],
   "source": [
    "df = pd.read_csv('Preprocessed_data.csv')\n",
    "df.index = pd.to_datetime(df['Date'], format='%Y-%m-%d')\n",
    "df.drop(['Date'], axis=1, inplace=True)"
   ]
  },
  {
   "cell_type": "markdown",
   "metadata": {},
   "source": [
    "<h2> 1.3 Splitting data in 3*2 </h2>\n",
    "<p> SPlitting data into train, test and validation with the following split: 70 | 15 |15."
   ]
  },
  {
   "cell_type": "code",
   "execution_count": 6,
   "metadata": {},
   "outputs": [],
   "source": [
    "y = df['Salmon_exp_vol']\n",
    "X = df.loc[:,'FX_EURONOK':]\n",
    "\n",
    "X_train, X_eval, y_train, y_eval = train_test_split(X,y, \n",
    "                                                    test_size=0.2,\n",
    "                                                    shuffle=False)\n",
    "X_val, X_test, y_val, y_test = train_test_split(X_eval, y_eval, \n",
    "                                                test_size=0.5,\n",
    "                                                shuffle=False)"
   ]
  },
  {
   "cell_type": "markdown",
   "metadata": {},
   "source": [
    "<h1> 2. Feature engineering </h1>"
   ]
  },
  {
   "cell_type": "markdown",
   "metadata": {},
   "source": [
    "<h2> 2.1 Manual imputing </h2>\n",
    "<p>  Manually fixing NaN, and wrongful observations from the dataset in the training data. </p>"
   ]
  },
  {
   "cell_type": "code",
   "execution_count": 7,
   "metadata": {},
   "outputs": [],
   "source": [
    "X_train['FX_EURONOK']['2002-10-14'] = 7.34\n",
    "X_train['FX_EURONOK']['2008-08-04'] = 7.9995\n",
    "X_train['FX_EURONOK']['2008-08-08'] = 7.9915\n",
    "X_train['FX_EURONOK']['2008-08-11'] = 7.9975\n",
    "X_train['FX_EURONOK']['2008-08-18'] = 7.9740"
   ]
  },
  {
   "cell_type": "markdown",
   "metadata": {},
   "source": [
    "<h2> 2.2 Time dummy and Fourier  </h2>\n",
    "<p> Creating a time dummy variable. Adding one new colum, where the value goes from 0 to the amount of observations. </p>"
   ]
  },
  {
   "cell_type": "code",
   "execution_count": 8,
   "metadata": {},
   "outputs": [],
   "source": [
    "def det_process(X, startValue=None):\n",
    "    # fourier0  =  CalendarFourier(freq='A',  order=3)\n",
    "    # fourier1  =  CalendarFourier(freq='6M',  order=3)\n",
    "    # fourier2  =  CalendarFourier(freq='Q',  order=3)\n",
    "\n",
    "    dp = DeterministicProcess(\n",
    "        index=X.index,\n",
    "        constant=True,\n",
    "        order=1,\n",
    "        # seasonal=True,\n",
    "        # additional_terms=[fourier0,fourier1,fourier2],\n",
    "        drop=True\n",
    "    ) \n",
    "    dp = dp.in_sample()\n",
    "    dp['trend'] += startValue\n",
    "    new_X = pd.concat([X,dp], axis=1)\n",
    "    return new_X\n",
    "time_func = FunctionTransformer(func=det_process, \n",
    "                                kw_args={'startValue':None})\n"
   ]
  },
  {
   "cell_type": "markdown",
   "metadata": {},
   "source": [
    "<h2> 2.3  Column specific engineering </h2>\n",
    "<h3> 2.3.1 Log transformation </h3>\n",
    "<p> Function for log transformation. The FOREX column shows specific characeristics from the lognormal distribution. "
   ]
  },
  {
   "cell_type": "code",
   "execution_count": 9,
   "metadata": {},
   "outputs": [],
   "source": [
    "def log_transformation(X):\n",
    "    X = np.log1p(X)\n",
    "    X = pd.DataFrame(X)\n",
    "    return X\n",
    "log_func = FunctionTransformer(func=log_transformation)"
   ]
  },
  {
   "cell_type": "markdown",
   "metadata": {},
   "source": [
    "<h2> 2.4  Z-scoring </h2>\n",
    "<p> Create functions for scaling the variables in a standardized way. </p>"
   ]
  },
  {
   "cell_type": "code",
   "execution_count": 10,
   "metadata": {},
   "outputs": [],
   "source": [
    "zScore_func = StandardScaler()\n",
    "zScoreTarget_func = StandardScaler()"
   ]
  },
  {
   "cell_type": "markdown",
   "metadata": {},
   "source": [
    "<h3> 2.5 Lagged target variable"
   ]
  },
  {
   "cell_type": "code",
   "execution_count": 11,
   "metadata": {},
   "outputs": [
    {
     "data": {
      "text/plain": [
       "Date\n",
       "2001-01-01     4089\n",
       "2001-01-08     4959\n",
       "2001-01-15     4610\n",
       "2001-01-22     4470\n",
       "2001-01-29     4523\n",
       "              ...  \n",
       "2019-04-22    16037\n",
       "2019-04-29    16133\n",
       "2019-05-06    16315\n",
       "2019-05-13    16127\n",
       "2019-05-20    18992\n",
       "Name: Salmon_exp_vol, Length: 960, dtype: int64"
      ]
     },
     "execution_count": 11,
     "metadata": {},
     "output_type": "execute_result"
    }
   ],
   "source": [
    "y_train"
   ]
  },
  {
   "cell_type": "code",
   "execution_count": 12,
   "metadata": {},
   "outputs": [
    {
     "data": {
      "text/plain": [
       "Date\n",
       "2001-01-01        NaN\n",
       "2001-01-08     4089.0\n",
       "2001-01-15     4959.0\n",
       "2001-01-22     4610.0\n",
       "2001-01-29     4470.0\n",
       "               ...   \n",
       "2019-04-22    12499.0\n",
       "2019-04-29    16037.0\n",
       "2019-05-06    16133.0\n",
       "2019-05-13    16315.0\n",
       "2019-05-20    16127.0\n",
       "Name: Salmon_exp_vol, Length: 960, dtype: float64"
      ]
     },
     "execution_count": 12,
     "metadata": {},
     "output_type": "execute_result"
    }
   ],
   "source": [
    "y_train.shift(1)"
   ]
  },
  {
   "cell_type": "code",
   "execution_count": 13,
   "metadata": {},
   "outputs": [],
   "source": [
    "def lagged_target(X,y):\n",
    "    for i in range(2,5,1):\n",
    "        new_col = y.shift(i)\n",
    "        X['tar_lag_'+str(i)] = new_col\n",
    "    return X\n",
    "laggedTarget_func = FunctionTransformer(func=lagged_target,\n",
    "                                        kw_args={'y':None})\n"
   ]
  },
  {
   "cell_type": "markdown",
   "metadata": {},
   "source": [
    "<h2> 2.6 Seasonal indicators </h2>\n",
    "<p> Creating dummy variables for each week in a year. So creating 52 new columns, on for each week. The values are 1 if the observations falls within that week, and zero if not. </p>"
   ]
  },
  {
   "cell_type": "code",
   "execution_count": 14,
   "metadata": {},
   "outputs": [],
   "source": [
    "def seasonal_indicators(X):\n",
    "    weeks = np.linspace(1,53,53)\n",
    "    indicator_df = pd.DataFrame()\n",
    "    for i in range(0,len(weeks),1):\n",
    "        column = np.where(X.index.isocalendar().week==weeks[i],1,0)\n",
    "        indicator_df['IndWeek'+str(i)] = column\n",
    "    indicator_df.index = X.index\n",
    "    new_X = pd.concat([X, indicator_df],axis=1)\n",
    "    # new_X = pd.merge(X, indicator_df, \n",
    "    #                 left_index=True, right_index=True)\n",
    "    return new_X\n",
    "indicator_func = FunctionTransformer(func=seasonal_indicators)\n",
    "\n"
   ]
  },
  {
   "cell_type": "markdown",
   "metadata": {},
   "source": [
    "<h2> 2.5 Reshaping 2d->3d array </h2>\n",
    "Function for reshaping the dataset to include timesteps, and transform the data from being 2d to 3d </p>"
   ]
  },
  {
   "cell_type": "code",
   "execution_count": 15,
   "metadata": {},
   "outputs": [],
   "source": [
    "def reshaper(X, timeSteps=None):\n",
    "    X = pd.DataFrame(X)\n",
    "    new_Xs = [np.array(X[timeSteps:])]\n",
    "\n",
    "    for i in range(1, timeSteps+1,1):\n",
    "        shift_X  = np.array(X.shift(i))\n",
    "        new_Xs.append(shift_X[timeSteps:])\n",
    "    # for i in range(1,timeSteps+1,1):\n",
    "    #     shift_X  = np.array(X.shift(-i))\n",
    "    #     new_Xs.append(shift_X[timeSteps:])\n",
    "\n",
    "    X_reshaped = np.stack(new_Xs, axis=1)\n",
    "    print(X_reshaped.shape)\n",
    "    return X_reshaped\n",
    "\n",
    "reshape_func = FunctionTransformer(func=reshaper, kw_args={'timeSteps':None})"
   ]
  },
  {
   "cell_type": "markdown",
   "metadata": {},
   "source": [
    "<h1> 3. LSTM model </h1>"
   ]
  },
  {
   "cell_type": "code",
   "execution_count": 16,
   "metadata": {},
   "outputs": [],
   "source": [
    "# np.random.seed(7)\n",
    "\n",
    "\n",
    "# units = hp.Int(name='units', min_value=25, max_value= 250, step= 25)\n",
    "# model = keras.Sequential([\n",
    "#     layers.Input(shape=(14,109), name='input_layer'),\n",
    "#     layers.LSTM(75, recurrent_dropout=0.5, return_sequences=True),\n",
    "#     # layers.LSTM(150, recurrent_dropout=0.3, return_sequences=True),\n",
    "#     # layers.LSTM(200, recurrent_dropout=0.3),\n",
    "#     # layers.BatchNormalization(),\n",
    "#     # layers.Dropout(0.5),\n",
    "#     # layers.Dense(128, activation='relu'),\n",
    "#     # layers.BatchNormalization(),\n",
    "#     # layers.Dropout(0.3),\n",
    "#     # layers.Dense(256, activation='relu'),\n",
    "#     # layers.BatchNormalization(),\n",
    "#     # layers.Dropout(0.5),\n",
    "#     # layers.Dense(512, activation='gelu'),\n",
    "#     # layers.Dropout(0.3),\n",
    "#     # layers.Dense(256, activation='selu'),\n",
    "#     # layers.Dropout(0.5),\n",
    "#     layers.Dense(109, activation='relu'),\n",
    "#     layers.Dense(1)\n",
    "# ])\n",
    "\n",
    "\n",
    "# optimizer = Adam(learning_rate=0.001)  # You can adjust the learning rate as needed\n",
    "# model.compile(optimizer=optimizer,\n",
    "#             #   loss=keras.losses.MeanSquaredError()\n",
    "#               loss = 'mae'\n",
    "#               )\n",
    "\n",
    "# early_stopping = callbacks.EarlyStopping(\n",
    "#     min_delta=0.001, \n",
    "#     patience=15, \n",
    "#     restore_best_weights=True,\n",
    "# )"
   ]
  },
  {
   "cell_type": "code",
   "execution_count": 17,
   "metadata": {},
   "outputs": [],
   "source": [
    "X_forecast = pd.read_csv('forecast_df.csv')\n",
    "X_forecast.index = pd.to_datetime(X_forecast['Date'], format='%Y-%m-%d')\n",
    "X_forecast.drop(['Date'], axis=1, inplace=True)"
   ]
  },
  {
   "cell_type": "markdown",
   "metadata": {},
   "source": [
    "<h1> 4.  Pipelining </h1>\n",
    "<h2> 4.1 Column specific pipeline </h2>"
   ]
  },
  {
   "cell_type": "code",
   "execution_count": 18,
   "metadata": {},
   "outputs": [],
   "source": [
    "engineering_func = ColumnTransformer(\n",
    "    transformers=[\n",
    "        ('loger', log_func, ['FX_EURONOK']),\n",
    "    ], remainder='passthrough')"
   ]
  },
  {
   "cell_type": "markdown",
   "metadata": {},
   "source": [
    "<h2> 4.2 Total pipeline </h2>"
   ]
  },
  {
   "cell_type": "code",
   "execution_count": 19,
   "metadata": {},
   "outputs": [],
   "source": [
    "X_val_corr = pd.concat([X_train[-13:],X_val])\n",
    "X_test_corr = pd.concat([X_val[-13:],X_test])\n",
    "X_forecast_corr = pd.concat([X_test[-13:],X_forecast])"
   ]
  },
  {
   "cell_type": "code",
   "execution_count": 20,
   "metadata": {},
   "outputs": [
    {
     "name": "stdout",
     "output_type": "stream",
     "text": [
      "(947, 14, 58)\n",
      "(120, 14, 58)\n",
      "(120, 14, 58)\n",
      "(52, 14, 58)\n"
     ]
    }
   ],
   "source": [
    "pipe = Pipeline(steps=[\n",
    "    ('det', time_func),\n",
    "    ('ind', indicator_func),\n",
    "    # ('lag', laggedTarget_func),\n",
    "    ('Col_spec', engineering_func),\n",
    "    ('zScore_func', zScore_func),\n",
    "    ('res', reshape_func)\n",
    "    # ('lstm', model)\n",
    "])\n",
    "\n",
    "\n",
    "pipe.set_params(\n",
    "                det__kw_args={'startValue':0},\n",
    "                # lag__kw_args={'y':y_train},\n",
    "                res__kw_args={'timeSteps':13}\n",
    "                )\n",
    "X_train_preprocessed  = pipe.fit_transform(X_train)\n",
    "\n",
    "pipe.set_params(det__kw_args={'startValue':959-13}, \n",
    "                # lag__kw_args={'y':y_val},\n",
    "                res__kw_args={'timeSteps':13}\n",
    "                )\n",
    "X_val_preprocessed  = pipe.transform(X_val_corr)\n",
    "\n",
    "pipe.set_params(det__kw_args={'startValue':1079-13}, \n",
    "                # lag__kw_args={'y': y_test},\n",
    "                res__kw_args={'timeSteps':13}\n",
    "                )\n",
    "X_test_preprocessed  = pipe.transform(X_test_corr)\n",
    "\n",
    "\n",
    "pipe.set_params(det__kw_args={'startValue':1200-13}, \n",
    "                # lag__kw_args={'y': y_test},\n",
    "                res__kw_args={'timeSteps':13}\n",
    "                )\n",
    "X_fore_preprocessed  = pipe.transform(X_forecast_corr)"
   ]
  },
  {
   "cell_type": "code",
   "execution_count": 21,
   "metadata": {},
   "outputs": [],
   "source": [
    "# target_scaler = StandardScaler()\n",
    "# y_train_pre = target_scaler.fit_transform(np.array([y_train[14:]]).T)\n",
    "# y_val_pre = target_scaler.transform(np.array([y_val[14:]]).T)\n",
    "# y_test_pre = target_scaler.transform(np.array([y_test[14:]]).T)\n",
    "\n",
    "y_train_pre = y_train[13:]\n",
    "y_val_pre = y_val[:]\n",
    "y_test_pre =y_test[:]"
   ]
  },
  {
   "cell_type": "markdown",
   "metadata": {},
   "source": [
    "<h1> X. Rest are drafts.. </h1>"
   ]
  },
  {
   "cell_type": "code",
   "execution_count": 22,
   "metadata": {},
   "outputs": [],
   "source": [
    "# def rolling_window_cross_val(model, metric):\n",
    "#     X = np.concatenate((X_train_preprocessed,X_val_preprocessed),axis=0)\n",
    "#     y = np.concatenate((y_train_pre,y_val_pre),axis=0)\n",
    "\n",
    "\n",
    "#     scores = []\n",
    "#     for i in range(0,3,1):\n",
    "#         sel_X = X[int(i*0.316*X.shape[0]):int((i+1)*0.316*X.shape[0])]\n",
    "#         sel_y = y[int(i*0.316*y.shape[0]):int((i+1)*0.316*y.shape[0])]\n",
    "\n",
    "#         sel_X_test = X[int(i*(0.316+0.05)*X.shape[0]):int((i+1)*(0.316+0.05)*X.shape[0])]\n",
    "#         sel_y_test = y[int(i*(0.316+0.05)*y.shape[0]):int((i+1)*(0.316+0.05)*y.shape[0])]\n",
    "    \n",
    "#         model.fit(sel_X,sel_y,\n",
    "#                 epochs=500, batch_size=60,\n",
    "#                 validation_data=[sel_X_test, sel_y_test],\n",
    "#                 callbacks=early_stopping, verbose=False)        \n",
    "#         pred = model.predict(sel_X_test)\n",
    "#         score = metric(pred, sel_y_test)\n",
    "#         scores.append(score)\n",
    "    \n",
    "#     return [np.mean(scores),model]\n",
    "\n",
    "# cv_result = rolling_window_cross_val(model,  MAE)\n"
   ]
  },
  {
   "cell_type": "markdown",
   "metadata": {},
   "source": [
    "<h1> Large tuner"
   ]
  },
  {
   "cell_type": "code",
   "execution_count": 23,
   "metadata": {},
   "outputs": [],
   "source": [
    "tf.random.set_seed(42)\n",
    "random.seed(42)\n",
    "np.random.seed(42)"
   ]
  },
  {
   "cell_type": "code",
   "execution_count": 24,
   "metadata": {},
   "outputs": [],
   "source": [
    "# def build_model(hp):\n",
    "#     model = keras.Sequential([\n",
    "#         layers.Input(shape=(14,58), name='input_layer'),\n",
    "#         layers.LSTM(\n",
    "#             units = hp.Int(name='hp1', min_value=20, max_value= 150, step=15),\n",
    "#             return_sequences=True),\n",
    "#         layers.LSTM(\n",
    "#             units = hp.Int(name='hp2', min_value=20, max_value= 150, step=15)),\n",
    "\n",
    "#         layers.Dense(units = hp.Int(name='hp3', min_value=50, max_value= 950, step=90),\n",
    "#                       activation=hp.Choice(\"activation1\", [\"relu\", \"gelu\"])\n",
    "#                       ),\n",
    "\n",
    "#         layers.BatchNormalization(),\n",
    "\n",
    "#         layers.Dropout(hp.Float(name='hp4',min_value=0.1, max_value=0.5, step=0.1)),\n",
    "\n",
    "#         layers.Dense(units = hp.Int(name='hp5', min_value=50, max_value= 950, step=9),\n",
    "#                       activation=hp.Choice('activation2', [\"relu\", \"selu\"])\n",
    "#                       ),\n",
    "\n",
    "#         layers.Dropout(hp.Float(name='hp7',min_value=0.0, max_value=0.45, step=0.15)),\n",
    "\n",
    "#         layers.Dense(units = hp.Int(name='hp8', min_value=50, max_value= 950, step=90),\n",
    "#                       activation=hp.Choice('activation3', [\"selu\",\"gelu\"])\n",
    "#                     ),\n",
    "\n",
    "#         layers.Dropout(hp.Float(name='hp10',min_value=0.0, max_value=0.45, step=0.15)),\n",
    "\n",
    "#         layers.BatchNormalization(),\n",
    "\n",
    "#         layers.Dense(units = hp.Int(name='hp11', min_value=50, max_value= 2000, step=90),\n",
    "#                       activation=hp.Choice('activation4', [\"silu\", \"selu\"])),\n",
    "\n",
    "#         layers.BatchNormalization(),\n",
    "\n",
    "#         layers.Dropout(hp.Float(name='hp12',min_value=0.0, max_value=0.45, step=0.15)),\n",
    "\n",
    "#         layers.Dense(units = hp.Int(name='hp13', min_value=50, max_value= 950, step=9),\n",
    "#                       activation=hp.Choice('activation5', [\"relu\", \"gelu\"])),\n",
    "\n",
    "#         layers.Dense(units = hp.Int(name='hp14', min_value=50, max_value= 950, step=90),\n",
    "#                        activation=hp.Choice('activation6', [\"relu\"])),\n",
    "\n",
    "#         layers.Dense(1)\n",
    "#     ])\n",
    "\n",
    "#     optimizer = RMSprop(learning_rate=hp.Float(name='lr', min_value=0.0005, max_value=0.02, step=0.001))\n",
    "\n",
    "#     model.compile(optimizer=optimizer, \n",
    "#                   loss = 'mae')\n",
    "#     return model"
   ]
  },
  {
   "cell_type": "code",
   "execution_count": 25,
   "metadata": {},
   "outputs": [],
   "source": [
    "# tuner = keras_tuner.RandomSearch(\n",
    "#     hypermodel=build_model,\n",
    "#     objective='val_loss',\n",
    "#     max_trials=15,\n",
    "#     executions_per_trial=1,\n",
    "#     overwrite=True,\n",
    "#     directory='first',\n",
    "#     project_name='hei_fourth'\n",
    "# )\n",
    "\n",
    "# tuner_callback=EarlyStopping(monitor='val_loss',\n",
    "#                             min_delta=0.001, \n",
    "#                             patience=40,\n",
    "#                             restore_best_weights=True)\n",
    "\n",
    "# tuner.search(X_train_preprocessed, y_train_pre,\n",
    "#              epochs=250, batch_size=50,\n",
    "#              validation_data=(X_val_preprocessed,y_val_pre),\n",
    "#              callbacks=[tuner_callback])"
   ]
  },
  {
   "cell_type": "code",
   "execution_count": 26,
   "metadata": {},
   "outputs": [],
   "source": [
    "# tuner.results_summary()"
   ]
  },
  {
   "cell_type": "code",
   "execution_count": null,
   "metadata": {},
   "outputs": [],
   "source": []
  },
  {
   "cell_type": "code",
   "execution_count": 27,
   "metadata": {},
   "outputs": [],
   "source": [
    "# models = tuner.get_best_models(num_models=1)\n",
    "# models[0].summary()\n",
    "# model = models[0]"
   ]
  },
  {
   "cell_type": "code",
   "execution_count": 28,
   "metadata": {},
   "outputs": [
    {
     "name": "stdout",
     "output_type": "stream",
     "text": [
      "Epoch 1/250\n",
      "\u001b[1m24/24\u001b[0m \u001b[32m━━━━━━━━━━━━━━━━━━━━\u001b[0m\u001b[37m\u001b[0m \u001b[1m6s\u001b[0m 41ms/step - loss: 8892.9590 - val_loss: 11320.7939\n",
      "Epoch 2/250\n",
      "\u001b[1m24/24\u001b[0m \u001b[32m━━━━━━━━━━━━━━━━━━━━\u001b[0m\u001b[37m\u001b[0m \u001b[1m1s\u001b[0m 24ms/step - loss: 2673.6851 - val_loss: 8021.6191\n",
      "Epoch 3/250\n",
      "\u001b[1m24/24\u001b[0m \u001b[32m━━━━━━━━━━━━━━━━━━━━\u001b[0m\u001b[37m\u001b[0m \u001b[1m1s\u001b[0m 22ms/step - loss: 2161.4163 - val_loss: 4694.6875\n",
      "Epoch 4/250\n",
      "\u001b[1m24/24\u001b[0m \u001b[32m━━━━━━━━━━━━━━━━━━━━\u001b[0m\u001b[37m\u001b[0m \u001b[1m1s\u001b[0m 22ms/step - loss: 2191.1785 - val_loss: 2544.5874\n",
      "Epoch 5/250\n",
      "\u001b[1m24/24\u001b[0m \u001b[32m━━━━━━━━━━━━━━━━━━━━\u001b[0m\u001b[37m\u001b[0m \u001b[1m1s\u001b[0m 22ms/step - loss: 1847.4467 - val_loss: 3013.2136\n",
      "Epoch 6/250\n",
      "\u001b[1m24/24\u001b[0m \u001b[32m━━━━━━━━━━━━━━━━━━━━\u001b[0m\u001b[37m\u001b[0m \u001b[1m1s\u001b[0m 21ms/step - loss: 2053.7834 - val_loss: 2699.1536\n",
      "Epoch 7/250\n",
      "\u001b[1m24/24\u001b[0m \u001b[32m━━━━━━━━━━━━━━━━━━━━\u001b[0m\u001b[37m\u001b[0m \u001b[1m1s\u001b[0m 23ms/step - loss: 1966.7537 - val_loss: 3096.8623\n",
      "Epoch 8/250\n",
      "\u001b[1m24/24\u001b[0m \u001b[32m━━━━━━━━━━━━━━━━━━━━\u001b[0m\u001b[37m\u001b[0m \u001b[1m1s\u001b[0m 21ms/step - loss: 1840.1022 - val_loss: 2534.6929\n",
      "Epoch 9/250\n",
      "\u001b[1m24/24\u001b[0m \u001b[32m━━━━━━━━━━━━━━━━━━━━\u001b[0m\u001b[37m\u001b[0m \u001b[1m1s\u001b[0m 23ms/step - loss: 1710.2233 - val_loss: 2251.2393\n",
      "Epoch 10/250\n",
      "\u001b[1m24/24\u001b[0m \u001b[32m━━━━━━━━━━━━━━━━━━━━\u001b[0m\u001b[37m\u001b[0m \u001b[1m1s\u001b[0m 23ms/step - loss: 1824.9501 - val_loss: 2267.0327\n",
      "Epoch 11/250\n",
      "\u001b[1m24/24\u001b[0m \u001b[32m━━━━━━━━━━━━━━━━━━━━\u001b[0m\u001b[37m\u001b[0m \u001b[1m1s\u001b[0m 28ms/step - loss: 1646.1097 - val_loss: 2215.2917\n",
      "Epoch 12/250\n",
      "\u001b[1m24/24\u001b[0m \u001b[32m━━━━━━━━━━━━━━━━━━━━\u001b[0m\u001b[37m\u001b[0m \u001b[1m1s\u001b[0m 23ms/step - loss: 1808.6946 - val_loss: 2256.3713\n",
      "Epoch 13/250\n",
      "\u001b[1m24/24\u001b[0m \u001b[32m━━━━━━━━━━━━━━━━━━━━\u001b[0m\u001b[37m\u001b[0m \u001b[1m1s\u001b[0m 21ms/step - loss: 1728.4113 - val_loss: 2453.8884\n",
      "Epoch 14/250\n",
      "\u001b[1m24/24\u001b[0m \u001b[32m━━━━━━━━━━━━━━━━━━━━\u001b[0m\u001b[37m\u001b[0m \u001b[1m1s\u001b[0m 24ms/step - loss: 1859.8218 - val_loss: 2666.4084\n",
      "Epoch 15/250\n",
      "\u001b[1m24/24\u001b[0m \u001b[32m━━━━━━━━━━━━━━━━━━━━\u001b[0m\u001b[37m\u001b[0m \u001b[1m1s\u001b[0m 22ms/step - loss: 1812.9482 - val_loss: 1996.7715\n",
      "Epoch 16/250\n",
      "\u001b[1m24/24\u001b[0m \u001b[32m━━━━━━━━━━━━━━━━━━━━\u001b[0m\u001b[37m\u001b[0m \u001b[1m1s\u001b[0m 24ms/step - loss: 1629.3666 - val_loss: 2281.5989\n",
      "Epoch 17/250\n",
      "\u001b[1m24/24\u001b[0m \u001b[32m━━━━━━━━━━━━━━━━━━━━\u001b[0m\u001b[37m\u001b[0m \u001b[1m1s\u001b[0m 24ms/step - loss: 1547.6926 - val_loss: 1886.0099\n",
      "Epoch 18/250\n",
      "\u001b[1m24/24\u001b[0m \u001b[32m━━━━━━━━━━━━━━━━━━━━\u001b[0m\u001b[37m\u001b[0m \u001b[1m1s\u001b[0m 20ms/step - loss: 1469.9557 - val_loss: 1744.6327\n",
      "Epoch 19/250\n",
      "\u001b[1m24/24\u001b[0m \u001b[32m━━━━━━━━━━━━━━━━━━━━\u001b[0m\u001b[37m\u001b[0m \u001b[1m1s\u001b[0m 25ms/step - loss: 1549.2725 - val_loss: 2091.7720\n",
      "Epoch 20/250\n",
      "\u001b[1m24/24\u001b[0m \u001b[32m━━━━━━━━━━━━━━━━━━━━\u001b[0m\u001b[37m\u001b[0m \u001b[1m1s\u001b[0m 20ms/step - loss: 1479.7836 - val_loss: 2076.4058\n",
      "Epoch 21/250\n",
      "\u001b[1m24/24\u001b[0m \u001b[32m━━━━━━━━━━━━━━━━━━━━\u001b[0m\u001b[37m\u001b[0m \u001b[1m1s\u001b[0m 22ms/step - loss: 1538.6853 - val_loss: 3036.0737\n",
      "Epoch 22/250\n",
      "\u001b[1m24/24\u001b[0m \u001b[32m━━━━━━━━━━━━━━━━━━━━\u001b[0m\u001b[37m\u001b[0m \u001b[1m1s\u001b[0m 22ms/step - loss: 1432.9268 - val_loss: 2058.7517\n",
      "Epoch 23/250\n",
      "\u001b[1m24/24\u001b[0m \u001b[32m━━━━━━━━━━━━━━━━━━━━\u001b[0m\u001b[37m\u001b[0m \u001b[1m1s\u001b[0m 22ms/step - loss: 1471.7863 - val_loss: 2294.1099\n",
      "Epoch 24/250\n",
      "\u001b[1m24/24\u001b[0m \u001b[32m━━━━━━━━━━━━━━━━━━━━\u001b[0m\u001b[37m\u001b[0m \u001b[1m1s\u001b[0m 21ms/step - loss: 1446.8118 - val_loss: 1676.1331\n",
      "Epoch 25/250\n",
      "\u001b[1m24/24\u001b[0m \u001b[32m━━━━━━━━━━━━━━━━━━━━\u001b[0m\u001b[37m\u001b[0m \u001b[1m1s\u001b[0m 22ms/step - loss: 1342.9197 - val_loss: 1549.1820\n",
      "Epoch 26/250\n",
      "\u001b[1m24/24\u001b[0m \u001b[32m━━━━━━━━━━━━━━━━━━━━\u001b[0m\u001b[37m\u001b[0m \u001b[1m0s\u001b[0m 19ms/step - loss: 1329.3590 - val_loss: 3391.7302\n",
      "Epoch 27/250\n",
      "\u001b[1m24/24\u001b[0m \u001b[32m━━━━━━━━━━━━━━━━━━━━\u001b[0m\u001b[37m\u001b[0m \u001b[1m1s\u001b[0m 22ms/step - loss: 1374.5093 - val_loss: 3160.2236\n",
      "Epoch 28/250\n",
      "\u001b[1m24/24\u001b[0m \u001b[32m━━━━━━━━━━━━━━━━━━━━\u001b[0m\u001b[37m\u001b[0m \u001b[1m1s\u001b[0m 23ms/step - loss: 1271.2672 - val_loss: 2087.8210\n",
      "Epoch 29/250\n",
      "\u001b[1m24/24\u001b[0m \u001b[32m━━━━━━━━━━━━━━━━━━━━\u001b[0m\u001b[37m\u001b[0m \u001b[1m1s\u001b[0m 21ms/step - loss: 1303.9626 - val_loss: 3742.7908\n",
      "Epoch 30/250\n",
      "\u001b[1m24/24\u001b[0m \u001b[32m━━━━━━━━━━━━━━━━━━━━\u001b[0m\u001b[37m\u001b[0m \u001b[1m1s\u001b[0m 22ms/step - loss: 1367.2964 - val_loss: 2571.8623\n",
      "Epoch 31/250\n",
      "\u001b[1m24/24\u001b[0m \u001b[32m━━━━━━━━━━━━━━━━━━━━\u001b[0m\u001b[37m\u001b[0m \u001b[1m0s\u001b[0m 20ms/step - loss: 1233.3419 - val_loss: 3454.8562\n",
      "Epoch 32/250\n",
      "\u001b[1m24/24\u001b[0m \u001b[32m━━━━━━━━━━━━━━━━━━━━\u001b[0m\u001b[37m\u001b[0m \u001b[1m1s\u001b[0m 22ms/step - loss: 1236.7198 - val_loss: 2450.7395\n",
      "Epoch 33/250\n",
      "\u001b[1m24/24\u001b[0m \u001b[32m━━━━━━━━━━━━━━━━━━━━\u001b[0m\u001b[37m\u001b[0m \u001b[1m1s\u001b[0m 23ms/step - loss: 1345.4545 - val_loss: 1491.1163\n",
      "Epoch 34/250\n",
      "\u001b[1m24/24\u001b[0m \u001b[32m━━━━━━━━━━━━━━━━━━━━\u001b[0m\u001b[37m\u001b[0m \u001b[1m1s\u001b[0m 23ms/step - loss: 1209.7346 - val_loss: 2002.1594\n",
      "Epoch 35/250\n",
      "\u001b[1m24/24\u001b[0m \u001b[32m━━━━━━━━━━━━━━━━━━━━\u001b[0m\u001b[37m\u001b[0m \u001b[1m1s\u001b[0m 21ms/step - loss: 1221.3207 - val_loss: 1422.6172\n",
      "Epoch 36/250\n",
      "\u001b[1m24/24\u001b[0m \u001b[32m━━━━━━━━━━━━━━━━━━━━\u001b[0m\u001b[37m\u001b[0m \u001b[1m1s\u001b[0m 22ms/step - loss: 1150.1206 - val_loss: 1348.7281\n",
      "Epoch 37/250\n",
      "\u001b[1m24/24\u001b[0m \u001b[32m━━━━━━━━━━━━━━━━━━━━\u001b[0m\u001b[37m\u001b[0m \u001b[1m1s\u001b[0m 21ms/step - loss: 1346.5297 - val_loss: 2034.9230\n",
      "Epoch 38/250\n",
      "\u001b[1m24/24\u001b[0m \u001b[32m━━━━━━━━━━━━━━━━━━━━\u001b[0m\u001b[37m\u001b[0m \u001b[1m1s\u001b[0m 22ms/step - loss: 1139.1632 - val_loss: 1964.8400\n",
      "Epoch 39/250\n",
      "\u001b[1m24/24\u001b[0m \u001b[32m━━━━━━━━━━━━━━━━━━━━\u001b[0m\u001b[37m\u001b[0m \u001b[1m0s\u001b[0m 20ms/step - loss: 1275.0500 - val_loss: 1831.1740\n",
      "Epoch 40/250\n",
      "\u001b[1m24/24\u001b[0m \u001b[32m━━━━━━━━━━━━━━━━━━━━\u001b[0m\u001b[37m\u001b[0m \u001b[1m1s\u001b[0m 22ms/step - loss: 1178.1941 - val_loss: 1855.9232\n",
      "Epoch 41/250\n",
      "\u001b[1m24/24\u001b[0m \u001b[32m━━━━━━━━━━━━━━━━━━━━\u001b[0m\u001b[37m\u001b[0m \u001b[1m0s\u001b[0m 20ms/step - loss: 1099.9221 - val_loss: 1945.2367\n",
      "Epoch 42/250\n",
      "\u001b[1m24/24\u001b[0m \u001b[32m━━━━━━━━━━━━━━━━━━━━\u001b[0m\u001b[37m\u001b[0m \u001b[1m1s\u001b[0m 24ms/step - loss: 1229.1292 - val_loss: 1604.2045\n",
      "Epoch 43/250\n",
      "\u001b[1m24/24\u001b[0m \u001b[32m━━━━━━━━━━━━━━━━━━━━\u001b[0m\u001b[37m\u001b[0m \u001b[1m1s\u001b[0m 21ms/step - loss: 1163.8036 - val_loss: 1401.1737\n",
      "Epoch 44/250\n",
      "\u001b[1m24/24\u001b[0m \u001b[32m━━━━━━━━━━━━━━━━━━━━\u001b[0m\u001b[37m\u001b[0m \u001b[1m1s\u001b[0m 23ms/step - loss: 1133.6669 - val_loss: 2305.9409\n",
      "Epoch 45/250\n",
      "\u001b[1m24/24\u001b[0m \u001b[32m━━━━━━━━━━━━━━━━━━━━\u001b[0m\u001b[37m\u001b[0m \u001b[1m1s\u001b[0m 21ms/step - loss: 1117.5801 - val_loss: 1452.4706\n",
      "Epoch 46/250\n",
      "\u001b[1m24/24\u001b[0m \u001b[32m━━━━━━━━━━━━━━━━━━━━\u001b[0m\u001b[37m\u001b[0m \u001b[1m1s\u001b[0m 22ms/step - loss: 1108.5765 - val_loss: 1624.3802\n",
      "Epoch 47/250\n",
      "\u001b[1m24/24\u001b[0m \u001b[32m━━━━━━━━━━━━━━━━━━━━\u001b[0m\u001b[37m\u001b[0m \u001b[1m1s\u001b[0m 20ms/step - loss: 1174.8347 - val_loss: 1497.3300\n",
      "Epoch 48/250\n",
      "\u001b[1m24/24\u001b[0m \u001b[32m━━━━━━━━━━━━━━━━━━━━\u001b[0m\u001b[37m\u001b[0m \u001b[1m1s\u001b[0m 21ms/step - loss: 1198.1052 - val_loss: 1971.1066\n",
      "Epoch 49/250\n",
      "\u001b[1m24/24\u001b[0m \u001b[32m━━━━━━━━━━━━━━━━━━━━\u001b[0m\u001b[37m\u001b[0m \u001b[1m1s\u001b[0m 21ms/step - loss: 1181.6542 - val_loss: 1847.4012\n",
      "Epoch 50/250\n",
      "\u001b[1m24/24\u001b[0m \u001b[32m━━━━━━━━━━━━━━━━━━━━\u001b[0m\u001b[37m\u001b[0m \u001b[1m1s\u001b[0m 21ms/step - loss: 1136.0922 - val_loss: 1684.6119\n",
      "Epoch 51/250\n",
      "\u001b[1m24/24\u001b[0m \u001b[32m━━━━━━━━━━━━━━━━━━━━\u001b[0m\u001b[37m\u001b[0m \u001b[1m1s\u001b[0m 22ms/step - loss: 1117.7559 - val_loss: 1763.8304\n",
      "Epoch 52/250\n",
      "\u001b[1m24/24\u001b[0m \u001b[32m━━━━━━━━━━━━━━━━━━━━\u001b[0m\u001b[37m\u001b[0m \u001b[1m1s\u001b[0m 21ms/step - loss: 1110.2627 - val_loss: 1576.7286\n",
      "Epoch 53/250\n",
      "\u001b[1m24/24\u001b[0m \u001b[32m━━━━━━━━━━━━━━━━━━━━\u001b[0m\u001b[37m\u001b[0m \u001b[1m1s\u001b[0m 23ms/step - loss: 1162.6421 - val_loss: 2286.4805\n",
      "Epoch 54/250\n",
      "\u001b[1m24/24\u001b[0m \u001b[32m━━━━━━━━━━━━━━━━━━━━\u001b[0m\u001b[37m\u001b[0m \u001b[1m1s\u001b[0m 22ms/step - loss: 1069.2203 - val_loss: 1376.2155\n",
      "Epoch 55/250\n",
      "\u001b[1m24/24\u001b[0m \u001b[32m━━━━━━━━━━━━━━━━━━━━\u001b[0m\u001b[37m\u001b[0m \u001b[1m1s\u001b[0m 21ms/step - loss: 1127.6475 - val_loss: 1733.4980\n",
      "Epoch 56/250\n",
      "\u001b[1m24/24\u001b[0m \u001b[32m━━━━━━━━━━━━━━━━━━━━\u001b[0m\u001b[37m\u001b[0m \u001b[1m1s\u001b[0m 21ms/step - loss: 1156.2830 - val_loss: 1407.1041\n",
      "Epoch 57/250\n",
      "\u001b[1m24/24\u001b[0m \u001b[32m━━━━━━━━━━━━━━━━━━━━\u001b[0m\u001b[37m\u001b[0m \u001b[1m1s\u001b[0m 22ms/step - loss: 1047.1558 - val_loss: 1301.6294\n",
      "Epoch 58/250\n",
      "\u001b[1m24/24\u001b[0m \u001b[32m━━━━━━━━━━━━━━━━━━━━\u001b[0m\u001b[37m\u001b[0m \u001b[1m0s\u001b[0m 20ms/step - loss: 1085.5801 - val_loss: 1618.2621\n",
      "Epoch 59/250\n",
      "\u001b[1m24/24\u001b[0m \u001b[32m━━━━━━━━━━━━━━━━━━━━\u001b[0m\u001b[37m\u001b[0m \u001b[1m1s\u001b[0m 22ms/step - loss: 1057.7288 - val_loss: 1522.3752\n",
      "Epoch 60/250\n",
      "\u001b[1m24/24\u001b[0m \u001b[32m━━━━━━━━━━━━━━━━━━━━\u001b[0m\u001b[37m\u001b[0m \u001b[1m0s\u001b[0m 20ms/step - loss: 1100.6420 - val_loss: 1453.7023\n",
      "Epoch 61/250\n",
      "\u001b[1m24/24\u001b[0m \u001b[32m━━━━━━━━━━━━━━━━━━━━\u001b[0m\u001b[37m\u001b[0m \u001b[1m1s\u001b[0m 22ms/step - loss: 1026.0386 - val_loss: 1647.5515\n",
      "Epoch 62/250\n",
      "\u001b[1m24/24\u001b[0m \u001b[32m━━━━━━━━━━━━━━━━━━━━\u001b[0m\u001b[37m\u001b[0m \u001b[1m0s\u001b[0m 20ms/step - loss: 1053.9650 - val_loss: 1588.5172\n",
      "Epoch 63/250\n",
      "\u001b[1m24/24\u001b[0m \u001b[32m━━━━━━━━━━━━━━━━━━━━\u001b[0m\u001b[37m\u001b[0m \u001b[1m1s\u001b[0m 21ms/step - loss: 1098.4569 - val_loss: 1889.5912\n",
      "Epoch 64/250\n",
      "\u001b[1m24/24\u001b[0m \u001b[32m━━━━━━━━━━━━━━━━━━━━\u001b[0m\u001b[37m\u001b[0m \u001b[1m1s\u001b[0m 20ms/step - loss: 1049.7977 - val_loss: 2193.0549\n",
      "Epoch 65/250\n",
      "\u001b[1m24/24\u001b[0m \u001b[32m━━━━━━━━━━━━━━━━━━━━\u001b[0m\u001b[37m\u001b[0m \u001b[1m1s\u001b[0m 21ms/step - loss: 1108.6367 - val_loss: 1889.3722\n",
      "Epoch 66/250\n",
      "\u001b[1m24/24\u001b[0m \u001b[32m━━━━━━━━━━━━━━━━━━━━\u001b[0m\u001b[37m\u001b[0m \u001b[1m1s\u001b[0m 21ms/step - loss: 1063.0588 - val_loss: 2642.2087\n",
      "Epoch 67/250\n",
      "\u001b[1m24/24\u001b[0m \u001b[32m━━━━━━━━━━━━━━━━━━━━\u001b[0m\u001b[37m\u001b[0m \u001b[1m1s\u001b[0m 21ms/step - loss: 1057.9628 - val_loss: 1983.3552\n",
      "Epoch 68/250\n",
      "\u001b[1m24/24\u001b[0m \u001b[32m━━━━━━━━━━━━━━━━━━━━\u001b[0m\u001b[37m\u001b[0m \u001b[1m1s\u001b[0m 23ms/step - loss: 1199.3156 - val_loss: 1444.5083\n",
      "Epoch 69/250\n",
      "\u001b[1m24/24\u001b[0m \u001b[32m━━━━━━━━━━━━━━━━━━━━\u001b[0m\u001b[37m\u001b[0m \u001b[1m1s\u001b[0m 22ms/step - loss: 985.3079 - val_loss: 1618.4430\n",
      "Epoch 70/250\n",
      "\u001b[1m24/24\u001b[0m \u001b[32m━━━━━━━━━━━━━━━━━━━━\u001b[0m\u001b[37m\u001b[0m \u001b[1m1s\u001b[0m 22ms/step - loss: 964.3287 - val_loss: 1472.7878\n",
      "Epoch 71/250\n",
      "\u001b[1m24/24\u001b[0m \u001b[32m━━━━━━━━━━━━━━━━━━━━\u001b[0m\u001b[37m\u001b[0m \u001b[1m1s\u001b[0m 21ms/step - loss: 1052.4078 - val_loss: 2008.9513\n",
      "Epoch 72/250\n",
      "\u001b[1m24/24\u001b[0m \u001b[32m━━━━━━━━━━━━━━━━━━━━\u001b[0m\u001b[37m\u001b[0m \u001b[1m1s\u001b[0m 23ms/step - loss: 1008.4921 - val_loss: 1400.2664\n",
      "Epoch 73/250\n",
      "\u001b[1m24/24\u001b[0m \u001b[32m━━━━━━━━━━━━━━━━━━━━\u001b[0m\u001b[37m\u001b[0m \u001b[1m0s\u001b[0m 19ms/step - loss: 998.3333 - val_loss: 1998.0798\n",
      "Epoch 74/250\n",
      "\u001b[1m24/24\u001b[0m \u001b[32m━━━━━━━━━━━━━━━━━━━━\u001b[0m\u001b[37m\u001b[0m \u001b[1m1s\u001b[0m 23ms/step - loss: 1019.2552 - val_loss: 1641.0452\n",
      "Epoch 75/250\n",
      "\u001b[1m24/24\u001b[0m \u001b[32m━━━━━━━━━━━━━━━━━━━━\u001b[0m\u001b[37m\u001b[0m \u001b[1m0s\u001b[0m 20ms/step - loss: 1047.1615 - val_loss: 1762.2574\n",
      "Epoch 76/250\n",
      "\u001b[1m24/24\u001b[0m \u001b[32m━━━━━━━━━━━━━━━━━━━━\u001b[0m\u001b[37m\u001b[0m \u001b[1m1s\u001b[0m 22ms/step - loss: 1014.5033 - val_loss: 1683.7059\n",
      "Epoch 77/250\n",
      "\u001b[1m24/24\u001b[0m \u001b[32m━━━━━━━━━━━━━━━━━━━━\u001b[0m\u001b[37m\u001b[0m \u001b[1m1s\u001b[0m 21ms/step - loss: 1027.8296 - val_loss: 1582.7266\n",
      "Epoch 78/250\n",
      "\u001b[1m24/24\u001b[0m \u001b[32m━━━━━━━━━━━━━━━━━━━━\u001b[0m\u001b[37m\u001b[0m \u001b[1m1s\u001b[0m 22ms/step - loss: 1107.9347 - val_loss: 1789.7610\n",
      "Epoch 79/250\n",
      "\u001b[1m24/24\u001b[0m \u001b[32m━━━━━━━━━━━━━━━━━━━━\u001b[0m\u001b[37m\u001b[0m \u001b[1m1s\u001b[0m 20ms/step - loss: 1060.5796 - val_loss: 1552.2456\n",
      "Epoch 80/250\n",
      "\u001b[1m24/24\u001b[0m \u001b[32m━━━━━━━━━━━━━━━━━━━━\u001b[0m\u001b[37m\u001b[0m \u001b[1m1s\u001b[0m 22ms/step - loss: 1016.2466 - val_loss: 1505.2867\n",
      "Epoch 81/250\n",
      "\u001b[1m24/24\u001b[0m \u001b[32m━━━━━━━━━━━━━━━━━━━━\u001b[0m\u001b[37m\u001b[0m \u001b[1m0s\u001b[0m 19ms/step - loss: 1012.7258 - val_loss: 1758.7339\n",
      "Epoch 82/250\n",
      "\u001b[1m24/24\u001b[0m \u001b[32m━━━━━━━━━━━━━━━━━━━━\u001b[0m\u001b[37m\u001b[0m \u001b[1m0s\u001b[0m 19ms/step - loss: 1042.6257 - val_loss: 1630.0397\n",
      "Epoch 83/250\n",
      "\u001b[1m24/24\u001b[0m \u001b[32m━━━━━━━━━━━━━━━━━━━━\u001b[0m\u001b[37m\u001b[0m \u001b[1m1s\u001b[0m 22ms/step - loss: 1011.8461 - val_loss: 1702.8203\n",
      "Epoch 84/250\n",
      "\u001b[1m24/24\u001b[0m \u001b[32m━━━━━━━━━━━━━━━━━━━━\u001b[0m\u001b[37m\u001b[0m \u001b[1m1s\u001b[0m 23ms/step - loss: 941.0806 - val_loss: 1403.7902\n",
      "Epoch 85/250\n",
      "\u001b[1m24/24\u001b[0m \u001b[32m━━━━━━━━━━━━━━━━━━━━\u001b[0m\u001b[37m\u001b[0m \u001b[1m1s\u001b[0m 20ms/step - loss: 954.8055 - val_loss: 1778.0444\n",
      "Epoch 86/250\n",
      "\u001b[1m24/24\u001b[0m \u001b[32m━━━━━━━━━━━━━━━━━━━━\u001b[0m\u001b[37m\u001b[0m \u001b[1m1s\u001b[0m 22ms/step - loss: 1073.2363 - val_loss: 1484.6417\n",
      "Epoch 87/250\n",
      "\u001b[1m24/24\u001b[0m \u001b[32m━━━━━━━━━━━━━━━━━━━━\u001b[0m\u001b[37m\u001b[0m \u001b[1m0s\u001b[0m 20ms/step - loss: 1002.1393 - val_loss: 2112.4695\n",
      "Epoch 88/250\n",
      "\u001b[1m24/24\u001b[0m \u001b[32m━━━━━━━━━━━━━━━━━━━━\u001b[0m\u001b[37m\u001b[0m \u001b[1m0s\u001b[0m 20ms/step - loss: 1015.4315 - val_loss: 1538.8289\n",
      "Epoch 89/250\n",
      "\u001b[1m24/24\u001b[0m \u001b[32m━━━━━━━━━━━━━━━━━━━━\u001b[0m\u001b[37m\u001b[0m \u001b[1m1s\u001b[0m 19ms/step - loss: 953.0529 - val_loss: 1537.2440\n",
      "Epoch 90/250\n",
      "\u001b[1m24/24\u001b[0m \u001b[32m━━━━━━━━━━━━━━━━━━━━\u001b[0m\u001b[37m\u001b[0m \u001b[1m1s\u001b[0m 20ms/step - loss: 982.4995 - val_loss: 1631.3889\n",
      "Epoch 91/250\n",
      "\u001b[1m24/24\u001b[0m \u001b[32m━━━━━━━━━━━━━━━━━━━━\u001b[0m\u001b[37m\u001b[0m \u001b[1m1s\u001b[0m 23ms/step - loss: 1081.2073 - val_loss: 1603.9633\n",
      "Epoch 92/250\n",
      "\u001b[1m24/24\u001b[0m \u001b[32m━━━━━━━━━━━━━━━━━━━━\u001b[0m\u001b[37m\u001b[0m \u001b[1m0s\u001b[0m 20ms/step - loss: 1027.8988 - val_loss: 2462.9880\n",
      "Epoch 93/250\n",
      "\u001b[1m24/24\u001b[0m \u001b[32m━━━━━━━━━━━━━━━━━━━━\u001b[0m\u001b[37m\u001b[0m \u001b[1m1s\u001b[0m 22ms/step - loss: 1069.7839 - val_loss: 1895.4199\n",
      "Epoch 94/250\n",
      "\u001b[1m24/24\u001b[0m \u001b[32m━━━━━━━━━━━━━━━━━━━━\u001b[0m\u001b[37m\u001b[0m \u001b[1m0s\u001b[0m 20ms/step - loss: 981.8733 - val_loss: 1501.8906\n",
      "Epoch 95/250\n",
      "\u001b[1m24/24\u001b[0m \u001b[32m━━━━━━━━━━━━━━━━━━━━\u001b[0m\u001b[37m\u001b[0m \u001b[1m1s\u001b[0m 22ms/step - loss: 909.0600 - val_loss: 1709.8136\n",
      "Epoch 96/250\n",
      "\u001b[1m24/24\u001b[0m \u001b[32m━━━━━━━━━━━━━━━━━━━━\u001b[0m\u001b[37m\u001b[0m \u001b[1m1s\u001b[0m 21ms/step - loss: 976.6605 - val_loss: 1741.1393\n",
      "Epoch 97/250\n",
      "\u001b[1m24/24\u001b[0m \u001b[32m━━━━━━━━━━━━━━━━━━━━\u001b[0m\u001b[37m\u001b[0m \u001b[1m1s\u001b[0m 25ms/step - loss: 952.1079 - val_loss: 1628.0427\n"
     ]
    }
   ],
   "source": [
    "\n",
    "model = keras.Sequential([\n",
    "    layers.Input(shape=(14,58), name='input_layer'),\n",
    "    layers.LSTM(units=35 ,return_sequences=True),\n",
    "    layers.LSTM(units=50),\n",
    "    layers.Dense(units=500 ,activation='gelu'),\n",
    "    layers.BatchNormalization(),\n",
    "    layers.Dropout(0.5),\n",
    "    layers.Dense(units=950,activation='selu'),\n",
    "    layers.Dropout(0.3),\n",
    "    layers.Dense(units=950,activation='selu'),\n",
    "    layers.Dropout(0.3),\n",
    "    layers.BatchNormalization(),\n",
    "    layers.Dense(units=950 ,activation='silu', kernel_regularizer=regularizers.l2(0.01)),\n",
    "    layers.BatchNormalization(),\n",
    "    layers.Dropout(0.45),\n",
    "    layers.Dense(units=518,activation='relu'),\n",
    "    layers.Dense(units=770,activation='relu'),\n",
    "    layers.Dense(1)\n",
    "    ])\n",
    "\n",
    "optimizer = RMSprop(learning_rate=0.0015)\n",
    "model.compile(optimizer=optimizer,\n",
    "            loss = 'mae')\n",
    "tuner_callback=EarlyStopping(monitor='val_loss',\n",
    "                            min_delta=0.011, \n",
    "                            patience=40,\n",
    "                            restore_best_weights=True)\n",
    "history = model.fit(X_train_preprocessed, y_train_pre,\n",
    "            epochs=250, batch_size=40,\n",
    "            validation_data=(X_val_preprocessed,y_val_pre),\n",
    "            callbacks=[tuner_callback])"
   ]
  },
  {
   "cell_type": "code",
   "execution_count": 29,
   "metadata": {},
   "outputs": [
    {
     "data": {
      "text/plain": [
       "<Axes: >"
      ]
     },
     "execution_count": 29,
     "metadata": {},
     "output_type": "execute_result"
    },
    {
     "data": {
      "image/png": "[encoded data removed]",
      "text/plain": [
       "<Figure size 640x480 with 1 Axes>"
      ]
     },
     "metadata": {},
     "output_type": "display_data"
    }
   ],
   "source": [
    "fox = pd.DataFrame(history.history)\n",
    "fox['loss'].plot()\n",
    "fox['val_loss'].plot()"
   ]
  },
  {
   "cell_type": "code",
   "execution_count": 30,
   "metadata": {},
   "outputs": [],
   "source": [
    "# def ensemble_model_generator(model):\n",
    "#     X = np.concatenate((X_train_preprocessed,X_val_preprocessed),axis=0)\n",
    "#     y = np.concatenate((y_train_pre,y_val_pre),axis=0)\n",
    "\n",
    "\n",
    "#     models = []\n",
    "#     for i in range(0,3,1):\n",
    "#         sel_X = X[int(i*0.316*X.shape[0]):int((i+1)*0.316*X.shape[0])]\n",
    "#         sel_y = y[int(i*0.316*y.shape[0]):int((i+1)*0.316*y.shape[0])]\n",
    "\n",
    "#         sel_X_val = X[int(i*(0.316+0.05)*X.shape[0]):int((i+1)*(0.316+0.05)*X.shape[0])]\n",
    "#         sel_y_val = y[int(i*(0.316+0.05)*y.shape[0]):int((i+1)*(0.316+0.05)*y.shape[0])]\n",
    "#         new_model = model\n",
    "#         new_model.fit(sel_X,pd.Series(sel_y),\n",
    "#                 epochs=500, batch_size=60,\n",
    "#                 validation_data=[sel_X_val, pd.Series(sel_y_val)],\n",
    "#                 callbacks=tuner_callback, \n",
    "#                 verbose=True)        \n",
    "#         models.append(new_model)\n",
    "#     models.append(model)\n",
    "#     return models\n",
    "\n",
    "# cv_result = ensemble_model_generator(model)\n"
   ]
  },
  {
   "cell_type": "code",
   "execution_count": 31,
   "metadata": {},
   "outputs": [],
   "source": [
    "# def ensemble(models,X):\n",
    "#     predictions = []\n",
    "#     for i in range(0,len(models),1):\n",
    "#         pred_sel = models[i].predict(X)\n",
    "#         predictions.append(pred_sel)\n",
    "#     output = np.sum(predictions,axis=0)/len(models)\n",
    "#     return output"
   ]
  },
  {
   "cell_type": "code",
   "execution_count": 32,
   "metadata": {},
   "outputs": [],
   "source": [
    "# cv_result"
   ]
  },
  {
   "cell_type": "code",
   "execution_count": 33,
   "metadata": {},
   "outputs": [],
   "source": [
    "# ens_train_pred = ensemble(cv_result, X_train_preprocessed)\n",
    "# ens_val_pred = ensemble(cv_result, X_val_preprocessed)\n",
    "# ens_test_pred = ensemble(cv_result, X_test_preprocessed)"
   ]
  },
  {
   "cell_type": "markdown",
   "metadata": {},
   "source": [
    "<h1> Large  tuner end"
   ]
  },
  {
   "cell_type": "code",
   "execution_count": 38,
   "metadata": {},
   "outputs": [
    {
     "name": "stdout",
     "output_type": "stream",
     "text": [
      "\u001b[1m30/30\u001b[0m \u001b[32m━━━━━━━━━━━━━━━━━━━━\u001b[0m\u001b[37m\u001b[0m \u001b[1m0s\u001b[0m 6ms/step\n",
      "\u001b[1m4/4\u001b[0m \u001b[32m━━━━━━━━━━━━━━━━━━━━\u001b[0m\u001b[37m\u001b[0m \u001b[1m0s\u001b[0m 6ms/step \n",
      "\u001b[1m4/4\u001b[0m \u001b[32m━━━━━━━━━━━━━━━━━━━━\u001b[0m\u001b[37m\u001b[0m \u001b[1m0s\u001b[0m 2ms/step \n",
      "\u001b[1m2/2\u001b[0m \u001b[32m━━━━━━━━━━━━━━━━━━━━\u001b[0m\u001b[37m\u001b[0m \u001b[1m0s\u001b[0m 7ms/step \n"
     ]
    }
   ],
   "source": [
    "# model.fit(X_train_preprocessed, y_train_pre)\n",
    "train_pred = model.predict(X_train_preprocessed)\n",
    "val_pred = model.predict(X_val_preprocessed)\n",
    "test_pred = model.predict(X_test_preprocessed)\n",
    "forecast = model.predict(X_fore_preprocessed)"
   ]
  },
  {
   "cell_type": "code",
   "execution_count": 36,
   "metadata": {},
   "outputs": [],
   "source": [
    "# fdf"
   ]
  },
  {
   "cell_type": "code",
   "execution_count": 39,
   "metadata": {},
   "outputs": [
    {
     "data": {
      "image/png": "[encoded data removed]",
      "text/plain": [
       "<Figure size 640x480 with 2 Axes>"
      ]
     },
     "metadata": {},
     "output_type": "display_data"
    }
   ],
   "source": [
    "fig,ax = plt.subplots(2)\n",
    "ax[0].plot(y_train, label='Train')\n",
    "ax[0].plot(y_val, label='Valid')\n",
    "ax[0].plot(y_test, label='Test')\n",
    "ax[0].set_ylim(0,25000)\n",
    "\n",
    "ax[1].plot(X_train.index[13:], train_pred, label='Train_pred')\n",
    "ax[1].plot(X_val.index[:], val_pred, label='Val_pred')\n",
    "ax[1].plot(X_test.index[:], test_pred, label='Test_pred')\n",
    "ax[1].plot(X_forecast.index[:], forecast, label='Forecast')\n",
    "# ax[1].set_ylim(0,35000)\n",
    "\n",
    "plt.legend()\n",
    "plt.show()"
   ]
  },
  {
   "cell_type": "code",
   "execution_count": null,
   "metadata": {},
   "outputs": [],
   "source": [
    "# from sklearn.metrics import root_mean_squared_error as RMSE\n",
    "# from sklearn.metrics import mean_absolute_percentage_error as \n",
    "from sklearn.metrics import mean_absolute_error as MAE\n"
   ]
  },
  {
   "cell_type": "code",
   "execution_count": null,
   "metadata": {},
   "outputs": [],
   "source": [
    "# y_train"
   ]
  },
  {
   "cell_type": "code",
   "execution_count": null,
   "metadata": {},
   "outputs": [
    {
     "data": {
      "text/plain": [
       "924.205041001188"
      ]
     },
     "execution_count": 164,
     "metadata": {},
     "output_type": "execute_result"
    }
   ],
   "source": [
    "MAE(y_train_pre, train_pred)"
   ]
  },
  {
   "cell_type": "code",
   "execution_count": null,
   "metadata": {},
   "outputs": [
    {
     "data": {
      "text/plain": [
       "1438.7359619140625"
      ]
     },
     "execution_count": 165,
     "metadata": {},
     "output_type": "execute_result"
    }
   ],
   "source": [
    "MAE(y_val_pre, val_pred)"
   ]
  },
  {
   "cell_type": "code",
   "execution_count": null,
   "metadata": {},
   "outputs": [
    {
     "data": {
      "text/plain": [
       "2169.1505045572917"
      ]
     },
     "execution_count": 166,
     "metadata": {},
     "output_type": "execute_result"
    }
   ],
   "source": [
    "MAE(y_test_pre, test_pred)"
   ]
  },
  {
   "cell_type": "markdown",
   "metadata": {},
   "source": [
    "<h2> Residual analysis"
   ]
  },
  {
   "cell_type": "code",
   "execution_count": null,
   "metadata": {},
   "outputs": [],
   "source": [
    "# train_pred"
   ]
  },
  {
   "cell_type": "code",
   "execution_count": null,
   "metadata": {},
   "outputs": [],
   "source": [
    "residuals = val_pred.flatten() - y_val_pre"
   ]
  },
  {
   "cell_type": "code",
   "execution_count": null,
   "metadata": {},
   "outputs": [
    {
     "data": {
      "image/png": "[encoded data removed]",
      "text/plain": [
       "<Figure size 640x480 with 1 Axes>"
      ]
     },
     "metadata": {},
     "output_type": "display_data"
    }
   ],
   "source": [
    "plt.hist(residuals)\n",
    "plt.show()"
   ]
  },
  {
   "cell_type": "code",
   "execution_count": null,
   "metadata": {},
   "outputs": [],
   "source": [
    "my = np.mean(residuals)"
   ]
  },
  {
   "cell_type": "code",
   "execution_count": null,
   "metadata": {},
   "outputs": [
    {
     "data": {
      "text/plain": [
       "1898.384393044219"
      ]
     },
     "execution_count": 171,
     "metadata": {},
     "output_type": "execute_result"
    }
   ],
   "source": [
    "std = np.std(residuals)\n",
    "std"
   ]
  },
  {
   "cell_type": "code",
   "execution_count": null,
   "metadata": {},
   "outputs": [
    {
     "name": "stdout",
     "output_type": "stream",
     "text": [
      "lower\n"
     ]
    },
    {
     "data": {
      "text/plain": [
       "-2617.944628890871"
      ]
     },
     "execution_count": 172,
     "metadata": {},
     "output_type": "execute_result"
    }
   ],
   "source": [
    "print('lower') \n",
    "my- std*1.28"
   ]
  },
  {
   "cell_type": "code",
   "execution_count": null,
   "metadata": {},
   "outputs": [
    {
     "name": "stdout",
     "output_type": "stream",
     "text": [
      "upper\n"
     ]
    },
    {
     "data": {
      "text/plain": [
       "2241.9194173023297"
      ]
     },
     "execution_count": 173,
     "metadata": {},
     "output_type": "execute_result"
    }
   ],
   "source": [
    "print('upper') \n",
    "my+ std*1.28"
   ]
  },
  {
   "cell_type": "code",
   "execution_count": null,
   "metadata": {},
   "outputs": [
    {
     "data": {
      "text/plain": [
       "189838.4393044219"
      ]
     },
     "execution_count": 174,
     "metadata": {},
     "output_type": "execute_result"
    }
   ],
   "source": [
    "std*100"
   ]
  },
  {
   "cell_type": "code",
   "execution_count": null,
   "metadata": {},
   "outputs": [],
   "source": [
    "high_list = []\n",
    "low_list = []\n",
    "for i in range(0,len(test_pred),1):\n",
    "    high_sel = test_pred[i][0] + std*(i+1)\n",
    "    low_sel = test_pred[i][0] - std*(i+1)\n",
    "    high_list.append(high_sel)\n",
    "    low_list.append(low_sel)\n",
    "    "
   ]
  },
  {
   "cell_type": "code",
   "execution_count": null,
   "metadata": {},
   "outputs": [
    {
     "data": {
      "image/png": "[encoded data removed]",
      "text/plain": [
       "<Figure size 640x480 with 1 Axes>"
      ]
     },
     "metadata": {},
     "output_type": "display_data"
    }
   ],
   "source": [
    "plt.plot(high_list,color='grey')\n",
    "plt.plot(low_list, color='grey')\n",
    "plt.plot(val_pred, color='red')\n",
    "plt.show()"
   ]
  }
 ],
 "metadata": {
  "kernelspec": {
   "display_name": "base",
   "language": "python",
   "name": "python3"
  },
  "language_info": {
   "codemirror_mode": {
    "name": "ipython",
    "version": 3
   },
   "file_extension": ".py",
   "mimetype": "text/x-python",
   "name": "python",
   "nbconvert_exporter": "python",
   "pygments_lexer": "ipython3",
   "version": "3.11.7"
  }
 },
 "nbformat": 4,
 "nbformat_minor": 2
}
